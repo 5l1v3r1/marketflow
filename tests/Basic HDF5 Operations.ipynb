{
 "cells": [
  {
   "cell_type": "code",
   "execution_count": 37,
   "metadata": {
    "collapsed": false
   },
   "outputs": [
    {
     "name": "stdout",
     "output_type": "stream",
     "text": [
      "2014-head.txt           \u001b[0m\u001b[01;36mEQY_US_ALL_BBO_20150731.zip\u001b[0m@\r\n",
      "2015-head.txt           small_test_data_public.h5\r\n",
      "\u001b[01;36mEQY_US_ALL_BBO_201111\u001b[0m@  \u001b[01;31msmall_test_data_public.zip\u001b[0m\r\n",
      "\u001b[01;36mEQY_US_ALL_BBO_201402\u001b[0m@\r\n"
     ]
    }
   ],
   "source": [
    "ls ../test-data/"
   ]
  },
  {
   "cell_type": "code",
   "execution_count": 1,
   "metadata": {
    "collapsed": false
   },
   "outputs": [],
   "source": [
    "%matplotlib inline\n",
    "import matplotlib.pyplot as plt"
   ]
  },
  {
   "cell_type": "code",
   "execution_count": 2,
   "metadata": {
    "collapsed": true
   },
   "outputs": [],
   "source": [
    "import numpy as np\n",
    "import pandas as pd\n",
    "import tables as tb"
   ]
  },
  {
   "cell_type": "code",
   "execution_count": 3,
   "metadata": {
    "collapsed": true
   },
   "outputs": [],
   "source": [
    "import h5py\n",
    "import dask.dataframe as dd\n",
    "import dask.bag as db"
   ]
  },
  {
   "cell_type": "code",
   "execution_count": 4,
   "metadata": {
    "collapsed": false
   },
   "outputs": [],
   "source": [
    "import blaze"
   ]
  },
  {
   "cell_type": "code",
   "execution_count": 5,
   "metadata": {
    "collapsed": true
   },
   "outputs": [],
   "source": [
    "fname = '../test-data/EQY_US_ALL_BBO_201402/EQY_US_ALL_BBO_20140206.h5'\n",
    "max_sym = '/SPY/no_suffix'"
   ]
  },
  {
   "cell_type": "code",
   "execution_count": 65,
   "metadata": {
    "collapsed": true
   },
   "outputs": [],
   "source": [
    "fname = '../test-data/small_test_data_public.h5'\n",
    "max_sym = '/IXQAJE/no_suffix'"
   ]
  },
  {
   "cell_type": "code",
   "execution_count": 43,
   "metadata": {
    "collapsed": false
   },
   "outputs": [],
   "source": [
    "# by default, this will be read-only\n",
    "taq_tb = tb.open_file(fname)"
   ]
  },
  {
   "cell_type": "code",
   "execution_count": 44,
   "metadata": {
    "collapsed": false
   },
   "outputs": [
    {
     "name": "stdout",
     "output_type": "stream",
     "text": [
      "CPU times: user 952 ms, sys: 32.2 ms, total: 984 ms\n",
      "Wall time: 1.29 s\n"
     ]
    }
   ],
   "source": [
    "%%time\n",
    "rec_counts = {curr._v_pathname: len(curr) \n",
    "              for curr in taq_tb.walk_nodes('/', 'Table')}"
   ]
  },
  {
   "cell_type": "code",
   "execution_count": 45,
   "metadata": {
    "collapsed": false
   },
   "outputs": [
    {
     "data": {
      "text/plain": [
       "0.0794076919555664"
      ]
     },
     "execution_count": 45,
     "metadata": {},
     "output_type": "execute_result"
    }
   ],
   "source": [
    "# What's our biggest table? (in bytes)\n",
    "max(rec_counts.values()) * 91 / 2 ** 20 # I think it's 91 bytes..."
   ]
  },
  {
   "cell_type": "markdown",
   "metadata": {},
   "source": [
    "Anyway, under a gigabyte. So, nothing to worry about even if we have 24 cores."
   ]
  },
  {
   "cell_type": "code",
   "execution_count": 46,
   "metadata": {
    "collapsed": true
   },
   "outputs": [],
   "source": [
    "# But what symbol is that?\n",
    "max_sym = None\n",
    "max_rows = 0\n",
    "for sym, rows in rec_counts.items():\n",
    "    if rows > max_rows:\n",
    "        max_rows = rows\n",
    "        max_sym = sym"
   ]
  },
  {
   "cell_type": "code",
   "execution_count": 47,
   "metadata": {
    "collapsed": false
   },
   "outputs": [
    {
     "data": {
      "text/plain": [
       "('/IXQAJE/no_suffix', 915)"
      ]
     },
     "execution_count": 47,
     "metadata": {},
     "output_type": "execute_result"
    }
   ],
   "source": [
    "max_sym, max_rows"
   ]
  },
  {
   "cell_type": "markdown",
   "metadata": {},
   "source": [
    "Interesting... the S&P 500 ETF"
   ]
  },
  {
   "cell_type": "code",
   "execution_count": 14,
   "metadata": {
    "collapsed": false
   },
   "outputs": [
    {
     "data": {
      "image/png": "[encoded data removed]",
      "text/plain": [
       "<matplotlib.figure.Figure at 0x7fcfd82e4978>"
      ]
     },
     "metadata": {},
     "output_type": "display_data"
    }
   ],
   "source": [
    "# Most symbols also have way less rows - note this is log xvals\n",
    "plt.hist(list(rec_counts.values()), bins=50, log=True)\n",
    "plt.show()"
   ]
  },
  {
   "cell_type": "markdown",
   "metadata": {},
   "source": [
    "## Doing some compute\n",
    "\n",
    "We'll use a \"big\" table to get some sense of timings"
   ]
  },
  {
   "cell_type": "code",
   "execution_count": 49,
   "metadata": {
    "collapsed": false
   },
   "outputs": [],
   "source": [
    "spy = taq_tb.get_node(max_sym)"
   ]
  },
  {
   "cell_type": "code",
   "execution_count": 16,
   "metadata": {
    "collapsed": false
   },
   "outputs": [
    {
     "name": "stdout",
     "output_type": "stream",
     "text": [
      "1 loop, best of 3: 7.62 s per loop\n"
     ]
    }
   ],
   "source": [
    "# PyTables is record oriented...\n",
    "%timeit np.mean(list(x['Bid_Price'] for x in spy.iterrows()))"
   ]
  },
  {
   "cell_type": "code",
   "execution_count": 50,
   "metadata": {
    "collapsed": false
   },
   "outputs": [
    {
     "name": "stdout",
     "output_type": "stream",
     "text": [
      "The slowest run took 383.78 times longer than the fastest. This could mean that an intermediate result is being cached.\n",
      "10000 loops, best of 3: 47.6 µs per loop\n"
     ]
    }
   ],
   "source": [
    "# But this is faster...\n",
    "%timeit np.mean(spy[:]['Bid_Price'])"
   ]
  },
  {
   "cell_type": "code",
   "execution_count": 51,
   "metadata": {
    "collapsed": false
   },
   "outputs": [
    {
     "data": {
      "text/plain": [
       "18.500255081967214"
      ]
     },
     "execution_count": 51,
     "metadata": {},
     "output_type": "execute_result"
    }
   ],
   "source": [
    "np.mean(spy[:]['Bid_Price'])"
   ]
  },
  {
   "cell_type": "markdown",
   "metadata": {},
   "source": [
    "# Using numexpr?\n",
    "\n",
    "numexpr is currently not set up to do reductions via HDF5. I've opened an issue here:\n",
    "https://github.com/PyTables/PyTables/issues/548"
   ]
  },
  {
   "cell_type": "code",
   "execution_count": 14,
   "metadata": {
    "collapsed": false
   },
   "outputs": [],
   "source": [
    "spy_bp = spy.cols.Bid_Price"
   ]
  },
  {
   "cell_type": "code",
   "execution_count": 15,
   "metadata": {
    "collapsed": false
   },
   "outputs": [
    {
     "data": {
      "text/plain": [
       "176.82760773125673"
      ]
     },
     "execution_count": 15,
     "metadata": {},
     "output_type": "execute_result"
    }
   ],
   "source": [
    "# this works...\n",
    "np.mean(spy_bp)"
   ]
  },
  {
   "cell_type": "code",
   "execution_count": 51,
   "metadata": {
    "collapsed": false
   },
   "outputs": [],
   "source": [
    "# But it can't use numexpr\n",
    "expr = tb.Expr('sum(spy_bp)')"
   ]
  },
  {
   "cell_type": "code",
   "execution_count": 61,
   "metadata": {
    "collapsed": false
   },
   "outputs": [
    {
     "name": "stdout",
     "output_type": "stream",
     "text": [
      "1 loop, best of 3: 3.62 s per loop\n"
     ]
    }
   ],
   "source": [
    "# You can use numexpr to get the values of the column... but that's silly\n",
    "# (sum doesn't work right, and the axis argument is non-functional)\n",
    "%timeit result = expr.eval().mean()"
   ]
  },
  {
   "cell_type": "code",
   "execution_count": 60,
   "metadata": {
    "collapsed": false
   },
   "outputs": [
    {
     "data": {
      "text/plain": [
       "176.82760773125673"
      ]
     },
     "execution_count": 60,
     "metadata": {},
     "output_type": "execute_result"
    }
   ],
   "source": [
    "tb.Expr('spy_bp').eval().mean()"
   ]
  },
  {
   "cell_type": "markdown",
   "metadata": {},
   "source": [
    "# h5py"
   ]
  },
  {
   "cell_type": "code",
   "execution_count": 52,
   "metadata": {
    "collapsed": true
   },
   "outputs": [],
   "source": [
    "taq_tb.close()"
   ]
  },
  {
   "cell_type": "code",
   "execution_count": 6,
   "metadata": {
    "collapsed": false
   },
   "outputs": [
    {
     "name": "stdout",
     "output_type": "stream",
     "text": [
      "CPU times: user 1.64 ms, sys: 1.92 ms, total: 3.55 ms\n",
      "Wall time: 3.36 ms\n"
     ]
    }
   ],
   "source": [
    "%%time\n",
    "spy_h5py = h5py.File(fname)[max_sym]"
   ]
  },
  {
   "cell_type": "code",
   "execution_count": 123,
   "metadata": {
    "collapsed": false
   },
   "outputs": [
    {
     "data": {
      "text/plain": [
       "18.500255081967214"
      ]
     },
     "execution_count": 123,
     "metadata": {},
     "output_type": "execute_result"
    }
   ],
   "source": [
    "np.mean(spy_h5py['Bid_Price'])"
   ]
  },
  {
   "cell_type": "markdown",
   "metadata": {},
   "source": [
    "h5py may be a *touch* faster than pytables for this kind of usage. But why does pandas use pytables?"
   ]
  },
  {
   "cell_type": "code",
   "execution_count": 55,
   "metadata": {
    "collapsed": false
   },
   "outputs": [
    {
     "name": "stdout",
     "output_type": "stream",
     "text": [
      "The slowest run took 5.02 times longer than the fastest. This could mean that an intermediate result is being cached.\n",
      "1000 loops, best of 3: 253 µs per loop\n"
     ]
    }
   ],
   "source": [
    "%%timeit\n",
    "np.mean(spy_h5py['Bid_Price'])"
   ]
  },
  {
   "cell_type": "markdown",
   "metadata": {},
   "source": [
    "# Dask \n",
    "\n",
    "It seems that there should be no need to, e.g., use h5py - but dask's read_hdf doens't seem to be working nicely..."
   ]
  },
  {
   "cell_type": "code",
   "execution_count": 28,
   "metadata": {
    "collapsed": true
   },
   "outputs": [],
   "source": [
    "taq_tb.close()"
   ]
  },
  {
   "cell_type": "markdown",
   "metadata": {
    "collapsed": false
   },
   "source": [
    "spy_h5py = h5py.File(fname)[max_sym]"
   ]
  },
  {
   "cell_type": "code",
   "execution_count": 56,
   "metadata": {
    "collapsed": true
   },
   "outputs": [],
   "source": [
    "store = pd.HDFStore(fname)"
   ]
  },
  {
   "cell_type": "code",
   "execution_count": 31,
   "metadata": {
    "collapsed": true
   },
   "outputs": [],
   "source": [
    "store = pd.HDFStore('../test-data/')"
   ]
  },
  {
   "cell_type": "code",
   "execution_count": 62,
   "metadata": {
    "collapsed": true
   },
   "outputs": [],
   "source": [
    "# this is a fine way to iterate over our datasets (in addition to what's available in PyTables and h5py)\n",
    "it = store.items()"
   ]
  },
  {
   "cell_type": "code",
   "execution_count": 101,
   "metadata": {
    "collapsed": false
   },
   "outputs": [],
   "source": [
    "key, tab = next(it)"
   ]
  },
  {
   "cell_type": "code",
   "execution_count": 102,
   "metadata": {
    "collapsed": false
   },
   "outputs": [
    {
     "data": {
      "text/plain": [
       "/KSJXFM/no_suffix (Table(33,), fletcher32, shuffle, blosc:lz4hc(9)) ''\n",
       "  description := {\n",
       "  \"Time\": Float64Col(shape=(), dflt=0.0, pos=0),\n",
       "  \"hour\": Int8Col(shape=(), dflt=0, pos=1),\n",
       "  \"minute\": Int8Col(shape=(), dflt=0, pos=2),\n",
       "  \"msec\": UInt16Col(shape=(), dflt=0, pos=3),\n",
       "  \"Exchange\": StringCol(itemsize=1, shape=(), dflt=b'', pos=4),\n",
       "  \"Bid_Price\": Float64Col(shape=(), dflt=0.0, pos=5),\n",
       "  \"Bid_Size\": Int32Col(shape=(), dflt=0, pos=6),\n",
       "  \"Ask_Price\": Float64Col(shape=(), dflt=0.0, pos=7),\n",
       "  \"Ask_Size\": Int32Col(shape=(), dflt=0, pos=8),\n",
       "  \"Quote_Condition\": StringCol(itemsize=1, shape=(), dflt=b'', pos=9),\n",
       "  \"Market_Maker\": StringCol(itemsize=4, shape=(), dflt=b'', pos=10),\n",
       "  \"Bid_Exchange\": StringCol(itemsize=1, shape=(), dflt=b'', pos=11),\n",
       "  \"Ask_Exchange\": StringCol(itemsize=1, shape=(), dflt=b'', pos=12),\n",
       "  \"Sequence_Number\": Int64Col(shape=(), dflt=0, pos=13),\n",
       "  \"National_BBO_Ind\": StringCol(itemsize=1, shape=(), dflt=b'', pos=14),\n",
       "  \"NASDAQ_BBO_Ind\": StringCol(itemsize=1, shape=(), dflt=b'', pos=15),\n",
       "  \"Quote_Cancel_Correction\": StringCol(itemsize=1, shape=(), dflt=b'', pos=16),\n",
       "  \"Source_of_Quote\": StringCol(itemsize=1, shape=(), dflt=b'', pos=17),\n",
       "  \"Retail_Interest_Indicator_RPI\": StringCol(itemsize=1, shape=(), dflt=b'', pos=18),\n",
       "  \"Short_Sale_Restriction_Indicator\": StringCol(itemsize=1, shape=(), dflt=b'', pos=19),\n",
       "  \"LULD_BBO_Indicator_CQS\": StringCol(itemsize=1, shape=(), dflt=b'', pos=20),\n",
       "  \"LULD_BBO_Indicator_UTP\": StringCol(itemsize=1, shape=(), dflt=b'', pos=21),\n",
       "  \"FINRA_ADF_MPID_Indicator\": StringCol(itemsize=1, shape=(), dflt=b'', pos=22),\n",
       "  \"SIP_generated_Message_Identifier\": StringCol(itemsize=1, shape=(), dflt=b'', pos=23),\n",
       "  \"National_BBO_LULD_Indicator\": StringCol(itemsize=1, shape=(), dflt=b'', pos=24)}\n",
       "  byteorder := 'little'\n",
       "  chunkshape := (1040,)"
      ]
     },
     "execution_count": 102,
     "metadata": {},
     "output_type": "execute_result"
    }
   ],
   "source": [
    "tab"
   ]
  },
  {
   "cell_type": "code",
   "execution_count": 106,
   "metadata": {
    "collapsed": false
   },
   "outputs": [
    {
     "data": {
      "text/html": [
       "<div>\n",
       "<table border=\"1\" class=\"dataframe\">\n",
       "  <thead>\n",
       "    <tr style=\"text-align: right;\">\n",
       "      <th></th>\n",
       "      <th>Time</th>\n",
       "      <th>hour</th>\n",
       "      <th>minute</th>\n",
       "      <th>msec</th>\n",
       "      <th>Exchange</th>\n",
       "      <th>Bid_Price</th>\n",
       "      <th>Bid_Size</th>\n",
       "      <th>Ask_Price</th>\n",
       "      <th>Ask_Size</th>\n",
       "      <th>Quote_Condition</th>\n",
       "      <th>...</th>\n",
       "      <th>NASDAQ_BBO_Ind</th>\n",
       "      <th>Quote_Cancel_Correction</th>\n",
       "      <th>Source_of_Quote</th>\n",
       "      <th>Retail_Interest_Indicator_RPI</th>\n",
       "      <th>Short_Sale_Restriction_Indicator</th>\n",
       "      <th>LULD_BBO_Indicator_CQS</th>\n",
       "      <th>LULD_BBO_Indicator_UTP</th>\n",
       "      <th>FINRA_ADF_MPID_Indicator</th>\n",
       "      <th>SIP_generated_Message_Identifier</th>\n",
       "      <th>National_BBO_LULD_Indicator</th>\n",
       "    </tr>\n",
       "  </thead>\n",
       "  <tbody>\n",
       "    <tr>\n",
       "      <th>0</th>\n",
       "      <td>1.391697e+09</td>\n",
       "      <td>9</td>\n",
       "      <td>28</td>\n",
       "      <td>20433</td>\n",
       "      <td>P</td>\n",
       "      <td>18.8799</td>\n",
       "      <td>37</td>\n",
       "      <td>17.2773</td>\n",
       "      <td>92</td>\n",
       "      <td>R</td>\n",
       "      <td>...</td>\n",
       "      <td>2</td>\n",
       "      <td></td>\n",
       "      <td>C</td>\n",
       "      <td></td>\n",
       "      <td></td>\n",
       "      <td></td>\n",
       "      <td></td>\n",
       "      <td></td>\n",
       "      <td></td>\n",
       "      <td></td>\n",
       "    </tr>\n",
       "    <tr>\n",
       "      <th>1</th>\n",
       "      <td>1.391697e+09</td>\n",
       "      <td>9</td>\n",
       "      <td>30</td>\n",
       "      <td>221</td>\n",
       "      <td>Z</td>\n",
       "      <td>18.1199</td>\n",
       "      <td>0</td>\n",
       "      <td>19.0143</td>\n",
       "      <td>40</td>\n",
       "      <td>R</td>\n",
       "      <td>...</td>\n",
       "      <td>2</td>\n",
       "      <td></td>\n",
       "      <td>C</td>\n",
       "      <td></td>\n",
       "      <td></td>\n",
       "      <td></td>\n",
       "      <td></td>\n",
       "      <td></td>\n",
       "      <td></td>\n",
       "      <td></td>\n",
       "    </tr>\n",
       "    <tr>\n",
       "      <th>2</th>\n",
       "      <td>1.391697e+09</td>\n",
       "      <td>9</td>\n",
       "      <td>30</td>\n",
       "      <td>4263</td>\n",
       "      <td>Y</td>\n",
       "      <td>18.9737</td>\n",
       "      <td>35</td>\n",
       "      <td>18.0378</td>\n",
       "      <td>14</td>\n",
       "      <td>R</td>\n",
       "      <td>...</td>\n",
       "      <td>2</td>\n",
       "      <td>A</td>\n",
       "      <td>C</td>\n",
       "      <td>B</td>\n",
       "      <td></td>\n",
       "      <td></td>\n",
       "      <td></td>\n",
       "      <td></td>\n",
       "      <td></td>\n",
       "      <td></td>\n",
       "    </tr>\n",
       "    <tr>\n",
       "      <th>3</th>\n",
       "      <td>1.391697e+09</td>\n",
       "      <td>9</td>\n",
       "      <td>31</td>\n",
       "      <td>8022</td>\n",
       "      <td>P</td>\n",
       "      <td>18.6253</td>\n",
       "      <td>0</td>\n",
       "      <td>17.0418</td>\n",
       "      <td>38</td>\n",
       "      <td>R</td>\n",
       "      <td>...</td>\n",
       "      <td>2</td>\n",
       "      <td></td>\n",
       "      <td>C</td>\n",
       "      <td></td>\n",
       "      <td></td>\n",
       "      <td></td>\n",
       "      <td></td>\n",
       "      <td></td>\n",
       "      <td></td>\n",
       "      <td></td>\n",
       "    </tr>\n",
       "    <tr>\n",
       "      <th>4</th>\n",
       "      <td>1.391697e+09</td>\n",
       "      <td>9</td>\n",
       "      <td>32</td>\n",
       "      <td>16402</td>\n",
       "      <td>N</td>\n",
       "      <td>19.0082</td>\n",
       "      <td>0</td>\n",
       "      <td>16.9483</td>\n",
       "      <td>20</td>\n",
       "      <td>R</td>\n",
       "      <td>...</td>\n",
       "      <td>2</td>\n",
       "      <td></td>\n",
       "      <td>C</td>\n",
       "      <td></td>\n",
       "      <td></td>\n",
       "      <td></td>\n",
       "      <td></td>\n",
       "      <td></td>\n",
       "      <td></td>\n",
       "      <td></td>\n",
       "    </tr>\n",
       "  </tbody>\n",
       "</table>\n",
       "<p>5 rows × 25 columns</p>\n",
       "</div>"
      ],
      "text/plain": [
       "           Time  hour  minute   msec Exchange  Bid_Price  Bid_Size  Ask_Price  \\\n",
       "0  1.391697e+09     9      28  20433        P    18.8799        37    17.2773   \n",
       "1  1.391697e+09     9      30    221        Z    18.1199         0    19.0143   \n",
       "2  1.391697e+09     9      30   4263        Y    18.9737        35    18.0378   \n",
       "3  1.391697e+09     9      31   8022        P    18.6253         0    17.0418   \n",
       "4  1.391697e+09     9      32  16402        N    19.0082         0    16.9483   \n",
       "\n",
       "   Ask_Size Quote_Condition             ...             NASDAQ_BBO_Ind  \\\n",
       "0        92               R             ...                          2   \n",
       "1        40               R             ...                          2   \n",
       "2        14               R             ...                          2   \n",
       "3        38               R             ...                          2   \n",
       "4        20               R             ...                          2   \n",
       "\n",
       "  Quote_Cancel_Correction Source_of_Quote  Retail_Interest_Indicator_RPI  \\\n",
       "0                                       C                                  \n",
       "1                                       C                                  \n",
       "2                       A               C                              B   \n",
       "3                                       C                                  \n",
       "4                                       C                                  \n",
       "\n",
       "  Short_Sale_Restriction_Indicator LULD_BBO_Indicator_CQS  \\\n",
       "0                                                           \n",
       "1                                                           \n",
       "2                                                           \n",
       "3                                                           \n",
       "4                                                           \n",
       "\n",
       "  LULD_BBO_Indicator_UTP FINRA_ADF_MPID_Indicator  \\\n",
       "0                                                   \n",
       "1                                                   \n",
       "2                                                   \n",
       "3                                                   \n",
       "4                                                   \n",
       "\n",
       "  SIP_generated_Message_Identifier National_BBO_LULD_Indicator  \n",
       "0                                                               \n",
       "1                                                               \n",
       "2                                                               \n",
       "3                                                               \n",
       "4                                                               \n",
       "\n",
       "[5 rows x 25 columns]"
      ]
     },
     "execution_count": 106,
     "metadata": {},
     "output_type": "execute_result"
    }
   ],
   "source": [
    "# The columns argument doesn't seem to work...\n",
    "store.select(max_sym, columns=['Bid_Price']).head()"
   ]
  },
  {
   "cell_type": "code",
   "execution_count": 109,
   "metadata": {
    "collapsed": false
   },
   "outputs": [
    {
     "data": {
      "text/html": [
       "<div>\n",
       "<table border=\"1\" class=\"dataframe\">\n",
       "  <thead>\n",
       "    <tr style=\"text-align: right;\">\n",
       "      <th></th>\n",
       "      <th>Time</th>\n",
       "      <th>hour</th>\n",
       "      <th>minute</th>\n",
       "      <th>msec</th>\n",
       "      <th>Exchange</th>\n",
       "      <th>Bid_Price</th>\n",
       "      <th>Bid_Size</th>\n",
       "      <th>Ask_Price</th>\n",
       "      <th>Ask_Size</th>\n",
       "      <th>Quote_Condition</th>\n",
       "      <th>...</th>\n",
       "      <th>NASDAQ_BBO_Ind</th>\n",
       "      <th>Quote_Cancel_Correction</th>\n",
       "      <th>Source_of_Quote</th>\n",
       "      <th>Retail_Interest_Indicator_RPI</th>\n",
       "      <th>Short_Sale_Restriction_Indicator</th>\n",
       "      <th>LULD_BBO_Indicator_CQS</th>\n",
       "      <th>LULD_BBO_Indicator_UTP</th>\n",
       "      <th>FINRA_ADF_MPID_Indicator</th>\n",
       "      <th>SIP_generated_Message_Identifier</th>\n",
       "      <th>National_BBO_LULD_Indicator</th>\n",
       "    </tr>\n",
       "  </thead>\n",
       "  <tbody>\n",
       "    <tr>\n",
       "      <th>0</th>\n",
       "      <td>1.391697e+09</td>\n",
       "      <td>9</td>\n",
       "      <td>28</td>\n",
       "      <td>20433</td>\n",
       "      <td>P</td>\n",
       "      <td>18.8799</td>\n",
       "      <td>37</td>\n",
       "      <td>17.2773</td>\n",
       "      <td>92</td>\n",
       "      <td>R</td>\n",
       "      <td>...</td>\n",
       "      <td>2</td>\n",
       "      <td></td>\n",
       "      <td>C</td>\n",
       "      <td></td>\n",
       "      <td></td>\n",
       "      <td></td>\n",
       "      <td></td>\n",
       "      <td></td>\n",
       "      <td></td>\n",
       "      <td></td>\n",
       "    </tr>\n",
       "    <tr>\n",
       "      <th>1</th>\n",
       "      <td>1.391697e+09</td>\n",
       "      <td>9</td>\n",
       "      <td>30</td>\n",
       "      <td>221</td>\n",
       "      <td>Z</td>\n",
       "      <td>18.1199</td>\n",
       "      <td>0</td>\n",
       "      <td>19.0143</td>\n",
       "      <td>40</td>\n",
       "      <td>R</td>\n",
       "      <td>...</td>\n",
       "      <td>2</td>\n",
       "      <td></td>\n",
       "      <td>C</td>\n",
       "      <td></td>\n",
       "      <td></td>\n",
       "      <td></td>\n",
       "      <td></td>\n",
       "      <td></td>\n",
       "      <td></td>\n",
       "      <td></td>\n",
       "    </tr>\n",
       "    <tr>\n",
       "      <th>2</th>\n",
       "      <td>1.391697e+09</td>\n",
       "      <td>9</td>\n",
       "      <td>30</td>\n",
       "      <td>4263</td>\n",
       "      <td>Y</td>\n",
       "      <td>18.9737</td>\n",
       "      <td>35</td>\n",
       "      <td>18.0378</td>\n",
       "      <td>14</td>\n",
       "      <td>R</td>\n",
       "      <td>...</td>\n",
       "      <td>2</td>\n",
       "      <td>A</td>\n",
       "      <td>C</td>\n",
       "      <td>B</td>\n",
       "      <td></td>\n",
       "      <td></td>\n",
       "      <td></td>\n",
       "      <td></td>\n",
       "      <td></td>\n",
       "      <td></td>\n",
       "    </tr>\n",
       "    <tr>\n",
       "      <th>3</th>\n",
       "      <td>1.391697e+09</td>\n",
       "      <td>9</td>\n",
       "      <td>31</td>\n",
       "      <td>8022</td>\n",
       "      <td>P</td>\n",
       "      <td>18.6253</td>\n",
       "      <td>0</td>\n",
       "      <td>17.0418</td>\n",
       "      <td>38</td>\n",
       "      <td>R</td>\n",
       "      <td>...</td>\n",
       "      <td>2</td>\n",
       "      <td></td>\n",
       "      <td>C</td>\n",
       "      <td></td>\n",
       "      <td></td>\n",
       "      <td></td>\n",
       "      <td></td>\n",
       "      <td></td>\n",
       "      <td></td>\n",
       "      <td></td>\n",
       "    </tr>\n",
       "    <tr>\n",
       "      <th>4</th>\n",
       "      <td>1.391697e+09</td>\n",
       "      <td>9</td>\n",
       "      <td>32</td>\n",
       "      <td>16402</td>\n",
       "      <td>N</td>\n",
       "      <td>19.0082</td>\n",
       "      <td>0</td>\n",
       "      <td>16.9483</td>\n",
       "      <td>20</td>\n",
       "      <td>R</td>\n",
       "      <td>...</td>\n",
       "      <td>2</td>\n",
       "      <td></td>\n",
       "      <td>C</td>\n",
       "      <td></td>\n",
       "      <td></td>\n",
       "      <td></td>\n",
       "      <td></td>\n",
       "      <td></td>\n",
       "      <td></td>\n",
       "      <td></td>\n",
       "    </tr>\n",
       "  </tbody>\n",
       "</table>\n",
       "<p>5 rows × 25 columns</p>\n",
       "</div>"
      ],
      "text/plain": [
       "           Time  hour  minute   msec Exchange  Bid_Price  Bid_Size  Ask_Price  \\\n",
       "0  1.391697e+09     9      28  20433        P    18.8799        37    17.2773   \n",
       "1  1.391697e+09     9      30    221        Z    18.1199         0    19.0143   \n",
       "2  1.391697e+09     9      30   4263        Y    18.9737        35    18.0378   \n",
       "3  1.391697e+09     9      31   8022        P    18.6253         0    17.0418   \n",
       "4  1.391697e+09     9      32  16402        N    19.0082         0    16.9483   \n",
       "\n",
       "   Ask_Size Quote_Condition             ...             NASDAQ_BBO_Ind  \\\n",
       "0        92               R             ...                          2   \n",
       "1        40               R             ...                          2   \n",
       "2        14               R             ...                          2   \n",
       "3        38               R             ...                          2   \n",
       "4        20               R             ...                          2   \n",
       "\n",
       "  Quote_Cancel_Correction Source_of_Quote  Retail_Interest_Indicator_RPI  \\\n",
       "0                                       C                                  \n",
       "1                                       C                                  \n",
       "2                       A               C                              B   \n",
       "3                                       C                                  \n",
       "4                                       C                                  \n",
       "\n",
       "  Short_Sale_Restriction_Indicator LULD_BBO_Indicator_CQS  \\\n",
       "0                                                           \n",
       "1                                                           \n",
       "2                                                           \n",
       "3                                                           \n",
       "4                                                           \n",
       "\n",
       "  LULD_BBO_Indicator_UTP FINRA_ADF_MPID_Indicator  \\\n",
       "0                                                   \n",
       "1                                                   \n",
       "2                                                   \n",
       "3                                                   \n",
       "4                                                   \n",
       "\n",
       "  SIP_generated_Message_Identifier National_BBO_LULD_Indicator  \n",
       "0                                                               \n",
       "1                                                               \n",
       "2                                                               \n",
       "3                                                               \n",
       "4                                                               \n",
       "\n",
       "[5 rows x 25 columns]"
      ]
     },
     "execution_count": 109,
     "metadata": {},
     "output_type": "execute_result"
    }
   ],
   "source": [
    "# columns also doesn't work here...\n",
    "pd.read_hdf(fname, max_sym, columns=['Bid_Price']).head()"
   ]
  },
  {
   "cell_type": "code",
   "execution_count": 110,
   "metadata": {
    "collapsed": false,
    "scrolled": true
   },
   "outputs": [
    {
     "ename": "ValueError",
     "evalue": "Empty data passed with indices specified.",
     "output_type": "error",
     "traceback": [
      "\u001b[1;31m---------------------------------------------------------------------------\u001b[0m",
      "\u001b[1;31mValueError\u001b[0m                                Traceback (most recent call last)",
      "\u001b[1;32m<ipython-input-110-8ad7ff0d4733>\u001b[0m in \u001b[0;36m<module>\u001b[1;34m()\u001b[0m\n\u001b[1;32m----> 1\u001b[1;33m \u001b[0mspy_dd\u001b[0m \u001b[1;33m=\u001b[0m \u001b[0mdd\u001b[0m\u001b[1;33m.\u001b[0m\u001b[0mread_hdf\u001b[0m\u001b[1;33m(\u001b[0m\u001b[0mfname\u001b[0m\u001b[1;33m,\u001b[0m \u001b[0mmax_sym\u001b[0m\u001b[1;33m)\u001b[0m\u001b[1;33m\u001b[0m\u001b[0m\n\u001b[0m",
      "\u001b[1;32m/home/dav/miniconda3/envs/TAQ/lib/python3.5/site-packages/dask/dataframe/io.py\u001b[0m in \u001b[0;36mread_hdf\u001b[1;34m(pattern, key, start, stop, columns, chunksize, lock)\u001b[0m\n\u001b[0;32m    559\u001b[0m                                     \u001b[0mcolumns\u001b[0m\u001b[1;33m=\u001b[0m\u001b[0mcolumns\u001b[0m\u001b[1;33m,\u001b[0m \u001b[0mchunksize\u001b[0m\u001b[1;33m=\u001b[0m\u001b[0mchunksize\u001b[0m\u001b[1;33m,\u001b[0m\u001b[1;33m\u001b[0m\u001b[0m\n\u001b[0;32m    560\u001b[0m                                     lock=lock)\n\u001b[1;32m--> 561\u001b[1;33m                    for path in paths])\n\u001b[0m\u001b[0;32m    562\u001b[0m \u001b[1;33m\u001b[0m\u001b[0m\n\u001b[0;32m    563\u001b[0m \u001b[1;33m\u001b[0m\u001b[0m\n",
      "\u001b[1;32m/home/dav/miniconda3/envs/TAQ/lib/python3.5/site-packages/dask/dataframe/io.py\u001b[0m in \u001b[0;36m<listcomp>\u001b[1;34m(.0)\u001b[0m\n\u001b[0;32m    559\u001b[0m                                     \u001b[0mcolumns\u001b[0m\u001b[1;33m=\u001b[0m\u001b[0mcolumns\u001b[0m\u001b[1;33m,\u001b[0m \u001b[0mchunksize\u001b[0m\u001b[1;33m=\u001b[0m\u001b[0mchunksize\u001b[0m\u001b[1;33m,\u001b[0m\u001b[1;33m\u001b[0m\u001b[0m\n\u001b[0;32m    560\u001b[0m                                     lock=lock)\n\u001b[1;32m--> 561\u001b[1;33m                    for path in paths])\n\u001b[0m\u001b[0;32m    562\u001b[0m \u001b[1;33m\u001b[0m\u001b[0m\n\u001b[0;32m    563\u001b[0m \u001b[1;33m\u001b[0m\u001b[0m\n",
      "\u001b[1;32m/home/dav/miniconda3/envs/TAQ/lib/python3.5/site-packages/dask/dataframe/io.py\u001b[0m in \u001b[0;36m_read_single_hdf\u001b[1;34m(path, key, start, stop, columns, chunksize, lock)\u001b[0m\n\u001b[0;32m    499\u001b[0m     \u001b[1;32mfrom\u001b[0m \u001b[1;33m.\u001b[0m\u001b[0mmulti\u001b[0m \u001b[1;32mimport\u001b[0m \u001b[0mconcat\u001b[0m\u001b[1;33m\u001b[0m\u001b[0m\n\u001b[0;32m    500\u001b[0m     return concat([one_path_one_key(path, k, start, s, columns, chunksize, lock)\n\u001b[1;32m--> 501\u001b[1;33m                    for k, s in zip(keys, stops)])\n\u001b[0m\u001b[0;32m    502\u001b[0m \u001b[1;33m\u001b[0m\u001b[0m\n\u001b[0;32m    503\u001b[0m \u001b[1;33m\u001b[0m\u001b[0m\n",
      "\u001b[1;32m/home/dav/miniconda3/envs/TAQ/lib/python3.5/site-packages/dask/dataframe/io.py\u001b[0m in \u001b[0;36m<listcomp>\u001b[1;34m(.0)\u001b[0m\n\u001b[0;32m    499\u001b[0m     \u001b[1;32mfrom\u001b[0m \u001b[1;33m.\u001b[0m\u001b[0mmulti\u001b[0m \u001b[1;32mimport\u001b[0m \u001b[0mconcat\u001b[0m\u001b[1;33m\u001b[0m\u001b[0m\n\u001b[0;32m    500\u001b[0m     return concat([one_path_one_key(path, k, start, s, columns, chunksize, lock)\n\u001b[1;32m--> 501\u001b[1;33m                    for k, s in zip(keys, stops)])\n\u001b[0m\u001b[0;32m    502\u001b[0m \u001b[1;33m\u001b[0m\u001b[0m\n\u001b[0;32m    503\u001b[0m \u001b[1;33m\u001b[0m\u001b[0m\n",
      "\u001b[1;32m/home/dav/miniconda3/envs/TAQ/lib/python3.5/site-packages/dask/dataframe/io.py\u001b[0m in \u001b[0;36mone_path_one_key\u001b[1;34m(path, key, start, stop, columns, chunksize, lock)\u001b[0m\n\u001b[0;32m    474\u001b[0m         not contain any wildcards).\n\u001b[0;32m    475\u001b[0m         \"\"\"\n\u001b[1;32m--> 476\u001b[1;33m         \u001b[0mempty\u001b[0m \u001b[1;33m=\u001b[0m \u001b[0mpd\u001b[0m\u001b[1;33m.\u001b[0m\u001b[0mread_hdf\u001b[0m\u001b[1;33m(\u001b[0m\u001b[0mpath\u001b[0m\u001b[1;33m,\u001b[0m \u001b[0mkey\u001b[0m\u001b[1;33m,\u001b[0m \u001b[0mstop\u001b[0m\u001b[1;33m=\u001b[0m\u001b[1;36m0\u001b[0m\u001b[1;33m)\u001b[0m\u001b[1;33m\u001b[0m\u001b[0m\n\u001b[0m\u001b[0;32m    477\u001b[0m         \u001b[1;32mif\u001b[0m \u001b[0mcolumns\u001b[0m \u001b[1;32mis\u001b[0m \u001b[1;32mnot\u001b[0m \u001b[1;32mNone\u001b[0m\u001b[1;33m:\u001b[0m\u001b[1;33m\u001b[0m\u001b[0m\n\u001b[0;32m    478\u001b[0m             \u001b[0mempty\u001b[0m \u001b[1;33m=\u001b[0m \u001b[0mempty\u001b[0m\u001b[1;33m[\u001b[0m\u001b[0mcolumns\u001b[0m\u001b[1;33m]\u001b[0m\u001b[1;33m\u001b[0m\u001b[0m\n",
      "\u001b[1;32m/home/dav/miniconda3/envs/TAQ/lib/python3.5/site-packages/pandas/io/pytables.py\u001b[0m in \u001b[0;36mread_hdf\u001b[1;34m(path_or_buf, key, **kwargs)\u001b[0m\n\u001b[0;32m    328\u001b[0m                                  'multiple datasets.')\n\u001b[0;32m    329\u001b[0m             \u001b[0mkey\u001b[0m \u001b[1;33m=\u001b[0m \u001b[0mkeys\u001b[0m\u001b[1;33m[\u001b[0m\u001b[1;36m0\u001b[0m\u001b[1;33m]\u001b[0m\u001b[1;33m\u001b[0m\u001b[0m\n\u001b[1;32m--> 330\u001b[1;33m         \u001b[1;32mreturn\u001b[0m \u001b[0mstore\u001b[0m\u001b[1;33m.\u001b[0m\u001b[0mselect\u001b[0m\u001b[1;33m(\u001b[0m\u001b[0mkey\u001b[0m\u001b[1;33m,\u001b[0m \u001b[0mauto_close\u001b[0m\u001b[1;33m=\u001b[0m\u001b[0mauto_close\u001b[0m\u001b[1;33m,\u001b[0m \u001b[1;33m**\u001b[0m\u001b[0mkwargs\u001b[0m\u001b[1;33m)\u001b[0m\u001b[1;33m\u001b[0m\u001b[0m\n\u001b[0m\u001b[0;32m    331\u001b[0m     \u001b[1;32mexcept\u001b[0m\u001b[1;33m:\u001b[0m\u001b[1;33m\u001b[0m\u001b[0m\n\u001b[0;32m    332\u001b[0m         \u001b[1;31m# if there is an error, close the store\u001b[0m\u001b[1;33m\u001b[0m\u001b[1;33m\u001b[0m\u001b[0m\n",
      "\u001b[1;32m/home/dav/miniconda3/envs/TAQ/lib/python3.5/site-packages/pandas/io/pytables.py\u001b[0m in \u001b[0;36mselect\u001b[1;34m(self, key, where, start, stop, columns, iterator, chunksize, auto_close, **kwargs)\u001b[0m\n\u001b[0;32m    678\u001b[0m                            chunksize=chunksize, auto_close=auto_close)\n\u001b[0;32m    679\u001b[0m \u001b[1;33m\u001b[0m\u001b[0m\n\u001b[1;32m--> 680\u001b[1;33m         \u001b[1;32mreturn\u001b[0m \u001b[0mit\u001b[0m\u001b[1;33m.\u001b[0m\u001b[0mget_result\u001b[0m\u001b[1;33m(\u001b[0m\u001b[1;33m)\u001b[0m\u001b[1;33m\u001b[0m\u001b[0m\n\u001b[0m\u001b[0;32m    681\u001b[0m \u001b[1;33m\u001b[0m\u001b[0m\n\u001b[0;32m    682\u001b[0m     def select_as_coordinates(\n",
      "\u001b[1;32m/home/dav/miniconda3/envs/TAQ/lib/python3.5/site-packages/pandas/io/pytables.py\u001b[0m in \u001b[0;36mget_result\u001b[1;34m(self, coordinates)\u001b[0m\n\u001b[0;32m   1362\u001b[0m \u001b[1;33m\u001b[0m\u001b[0m\n\u001b[0;32m   1363\u001b[0m         \u001b[1;31m# directly return the result\u001b[0m\u001b[1;33m\u001b[0m\u001b[1;33m\u001b[0m\u001b[0m\n\u001b[1;32m-> 1364\u001b[1;33m         \u001b[0mresults\u001b[0m \u001b[1;33m=\u001b[0m \u001b[0mself\u001b[0m\u001b[1;33m.\u001b[0m\u001b[0mfunc\u001b[0m\u001b[1;33m(\u001b[0m\u001b[0mself\u001b[0m\u001b[1;33m.\u001b[0m\u001b[0mstart\u001b[0m\u001b[1;33m,\u001b[0m \u001b[0mself\u001b[0m\u001b[1;33m.\u001b[0m\u001b[0mstop\u001b[0m\u001b[1;33m,\u001b[0m \u001b[0mwhere\u001b[0m\u001b[1;33m)\u001b[0m\u001b[1;33m\u001b[0m\u001b[0m\n\u001b[0m\u001b[0;32m   1365\u001b[0m         \u001b[0mself\u001b[0m\u001b[1;33m.\u001b[0m\u001b[0mclose\u001b[0m\u001b[1;33m(\u001b[0m\u001b[1;33m)\u001b[0m\u001b[1;33m\u001b[0m\u001b[0m\n\u001b[0;32m   1366\u001b[0m         \u001b[1;32mreturn\u001b[0m \u001b[0mresults\u001b[0m\u001b[1;33m\u001b[0m\u001b[0m\n",
      "\u001b[1;32m/home/dav/miniconda3/envs/TAQ/lib/python3.5/site-packages/pandas/io/pytables.py\u001b[0m in \u001b[0;36mfunc\u001b[1;34m(_start, _stop, _where)\u001b[0m\n\u001b[0;32m    671\u001b[0m             return s.read(start=_start, stop=_stop,\n\u001b[0;32m    672\u001b[0m                           \u001b[0mwhere\u001b[0m\u001b[1;33m=\u001b[0m\u001b[0m_where\u001b[0m\u001b[1;33m,\u001b[0m\u001b[1;33m\u001b[0m\u001b[0m\n\u001b[1;32m--> 673\u001b[1;33m                           columns=columns, **kwargs)\n\u001b[0m\u001b[0;32m    674\u001b[0m \u001b[1;33m\u001b[0m\u001b[0m\n\u001b[0;32m    675\u001b[0m         \u001b[1;31m# create the iterator\u001b[0m\u001b[1;33m\u001b[0m\u001b[1;33m\u001b[0m\u001b[0m\n",
      "\u001b[1;32m/home/dav/miniconda3/envs/TAQ/lib/python3.5/site-packages/pandas/io/pytables.py\u001b[0m in \u001b[0;36mread\u001b[1;34m(self, where, columns, **kwargs)\u001b[0m\n\u001b[0;32m   4052\u001b[0m \u001b[1;33m\u001b[0m\u001b[0m\n\u001b[0;32m   4053\u001b[0m             \u001b[0mblock\u001b[0m \u001b[1;33m=\u001b[0m \u001b[0mmake_block\u001b[0m\u001b[1;33m(\u001b[0m\u001b[0mvalues\u001b[0m\u001b[1;33m,\u001b[0m \u001b[0mplacement\u001b[0m\u001b[1;33m=\u001b[0m\u001b[0mnp\u001b[0m\u001b[1;33m.\u001b[0m\u001b[0marange\u001b[0m\u001b[1;33m(\u001b[0m\u001b[0mlen\u001b[0m\u001b[1;33m(\u001b[0m\u001b[0mcols_\u001b[0m\u001b[1;33m)\u001b[0m\u001b[1;33m)\u001b[0m\u001b[1;33m)\u001b[0m\u001b[1;33m\u001b[0m\u001b[0m\n\u001b[1;32m-> 4054\u001b[1;33m             \u001b[0mmgr\u001b[0m \u001b[1;33m=\u001b[0m \u001b[0mBlockManager\u001b[0m\u001b[1;33m(\u001b[0m\u001b[1;33m[\u001b[0m\u001b[0mblock\u001b[0m\u001b[1;33m]\u001b[0m\u001b[1;33m,\u001b[0m \u001b[1;33m[\u001b[0m\u001b[0mcols_\u001b[0m\u001b[1;33m,\u001b[0m \u001b[0mindex_\u001b[0m\u001b[1;33m]\u001b[0m\u001b[1;33m)\u001b[0m\u001b[1;33m\u001b[0m\u001b[0m\n\u001b[0m\u001b[0;32m   4055\u001b[0m             \u001b[0mframes\u001b[0m\u001b[1;33m.\u001b[0m\u001b[0mappend\u001b[0m\u001b[1;33m(\u001b[0m\u001b[0mDataFrame\u001b[0m\u001b[1;33m(\u001b[0m\u001b[0mmgr\u001b[0m\u001b[1;33m)\u001b[0m\u001b[1;33m)\u001b[0m\u001b[1;33m\u001b[0m\u001b[0m\n\u001b[0;32m   4056\u001b[0m \u001b[1;33m\u001b[0m\u001b[0m\n",
      "\u001b[1;32m/home/dav/miniconda3/envs/TAQ/lib/python3.5/site-packages/pandas/core/internals.py\u001b[0m in \u001b[0;36m__init__\u001b[1;34m(self, blocks, axes, do_integrity_check, fastpath)\u001b[0m\n\u001b[0;32m   2592\u001b[0m \u001b[1;33m\u001b[0m\u001b[0m\n\u001b[0;32m   2593\u001b[0m         \u001b[1;32mif\u001b[0m \u001b[0mdo_integrity_check\u001b[0m\u001b[1;33m:\u001b[0m\u001b[1;33m\u001b[0m\u001b[0m\n\u001b[1;32m-> 2594\u001b[1;33m             \u001b[0mself\u001b[0m\u001b[1;33m.\u001b[0m\u001b[0m_verify_integrity\u001b[0m\u001b[1;33m(\u001b[0m\u001b[1;33m)\u001b[0m\u001b[1;33m\u001b[0m\u001b[0m\n\u001b[0m\u001b[0;32m   2595\u001b[0m \u001b[1;33m\u001b[0m\u001b[0m\n\u001b[0;32m   2596\u001b[0m         \u001b[0mself\u001b[0m\u001b[1;33m.\u001b[0m\u001b[0m_consolidate_check\u001b[0m\u001b[1;33m(\u001b[0m\u001b[1;33m)\u001b[0m\u001b[1;33m\u001b[0m\u001b[0m\n",
      "\u001b[1;32m/home/dav/miniconda3/envs/TAQ/lib/python3.5/site-packages/pandas/core/internals.py\u001b[0m in \u001b[0;36m_verify_integrity\u001b[1;34m(self)\u001b[0m\n\u001b[0;32m   2802\u001b[0m         \u001b[1;32mfor\u001b[0m \u001b[0mblock\u001b[0m \u001b[1;32min\u001b[0m \u001b[0mself\u001b[0m\u001b[1;33m.\u001b[0m\u001b[0mblocks\u001b[0m\u001b[1;33m:\u001b[0m\u001b[1;33m\u001b[0m\u001b[0m\n\u001b[0;32m   2803\u001b[0m             \u001b[1;32mif\u001b[0m \u001b[0mblock\u001b[0m\u001b[1;33m.\u001b[0m\u001b[0m_verify_integrity\u001b[0m \u001b[1;32mand\u001b[0m \u001b[0mblock\u001b[0m\u001b[1;33m.\u001b[0m\u001b[0mshape\u001b[0m\u001b[1;33m[\u001b[0m\u001b[1;36m1\u001b[0m\u001b[1;33m:\u001b[0m\u001b[1;33m]\u001b[0m \u001b[1;33m!=\u001b[0m \u001b[0mmgr_shape\u001b[0m\u001b[1;33m[\u001b[0m\u001b[1;36m1\u001b[0m\u001b[1;33m:\u001b[0m\u001b[1;33m]\u001b[0m\u001b[1;33m:\u001b[0m\u001b[1;33m\u001b[0m\u001b[0m\n\u001b[1;32m-> 2804\u001b[1;33m                 \u001b[0mconstruction_error\u001b[0m\u001b[1;33m(\u001b[0m\u001b[0mtot_items\u001b[0m\u001b[1;33m,\u001b[0m \u001b[0mblock\u001b[0m\u001b[1;33m.\u001b[0m\u001b[0mshape\u001b[0m\u001b[1;33m[\u001b[0m\u001b[1;36m1\u001b[0m\u001b[1;33m:\u001b[0m\u001b[1;33m]\u001b[0m\u001b[1;33m,\u001b[0m \u001b[0mself\u001b[0m\u001b[1;33m.\u001b[0m\u001b[0maxes\u001b[0m\u001b[1;33m)\u001b[0m\u001b[1;33m\u001b[0m\u001b[0m\n\u001b[0m\u001b[0;32m   2805\u001b[0m         \u001b[1;32mif\u001b[0m \u001b[0mlen\u001b[0m\u001b[1;33m(\u001b[0m\u001b[0mself\u001b[0m\u001b[1;33m.\u001b[0m\u001b[0mitems\u001b[0m\u001b[1;33m)\u001b[0m \u001b[1;33m!=\u001b[0m \u001b[0mtot_items\u001b[0m\u001b[1;33m:\u001b[0m\u001b[1;33m\u001b[0m\u001b[0m\n\u001b[0;32m   2806\u001b[0m             raise AssertionError('Number of manager items must equal union of '\n",
      "\u001b[1;32m/home/dav/miniconda3/envs/TAQ/lib/python3.5/site-packages/pandas/core/internals.py\u001b[0m in \u001b[0;36mconstruction_error\u001b[1;34m(tot_items, block_shape, axes, e)\u001b[0m\n\u001b[0;32m   3966\u001b[0m         \u001b[1;32mraise\u001b[0m \u001b[0me\u001b[0m\u001b[1;33m\u001b[0m\u001b[0m\n\u001b[0;32m   3967\u001b[0m     \u001b[1;32mif\u001b[0m \u001b[0mblock_shape\u001b[0m\u001b[1;33m[\u001b[0m\u001b[1;36m0\u001b[0m\u001b[1;33m]\u001b[0m \u001b[1;33m==\u001b[0m \u001b[1;36m0\u001b[0m\u001b[1;33m:\u001b[0m\u001b[1;33m\u001b[0m\u001b[0m\n\u001b[1;32m-> 3968\u001b[1;33m         \u001b[1;32mraise\u001b[0m \u001b[0mValueError\u001b[0m\u001b[1;33m(\u001b[0m\u001b[1;34m\"Empty data passed with indices specified.\"\u001b[0m\u001b[1;33m)\u001b[0m\u001b[1;33m\u001b[0m\u001b[0m\n\u001b[0m\u001b[0;32m   3969\u001b[0m     raise ValueError(\"Shape of passed values is {0}, indices imply {1}\".format(\n\u001b[0;32m   3970\u001b[0m         passed, implied))\n",
      "\u001b[1;31mValueError\u001b[0m: Empty data passed with indices specified."
     ]
    }
   ],
   "source": [
    "spy_dd = dd.read_hdf(fname, max_sym)"
   ]
  },
  {
   "cell_type": "code",
   "execution_count": 120,
   "metadata": {
    "collapsed": false
   },
   "outputs": [
    {
     "ename": "TypeError",
     "evalue": "read_hdf() missing 1 required positional argument: 'key'",
     "output_type": "error",
     "traceback": [
      "\u001b[1;31m---------------------------------------------------------------------------\u001b[0m",
      "\u001b[1;31mTypeError\u001b[0m                                 Traceback (most recent call last)",
      "\u001b[1;32m<ipython-input-120-7715838d47cf>\u001b[0m in \u001b[0;36m<module>\u001b[1;34m()\u001b[0m\n\u001b[1;32m----> 1\u001b[1;33m \u001b[0mspy_dd\u001b[0m \u001b[1;33m=\u001b[0m \u001b[0mdd\u001b[0m\u001b[1;33m.\u001b[0m\u001b[0mread_hdf\u001b[0m\u001b[1;33m(\u001b[0m\u001b[0mfname\u001b[0m \u001b[1;33m+\u001b[0m \u001b[1;34m':'\u001b[0m \u001b[1;33m+\u001b[0m \u001b[0mmax_sym\u001b[0m\u001b[1;33m)\u001b[0m\u001b[1;33m\u001b[0m\u001b[0m\n\u001b[0m",
      "\u001b[1;31mTypeError\u001b[0m: read_hdf() missing 1 required positional argument: 'key'"
     ]
    }
   ],
   "source": [
    "spy_dd = dd.read_hdf(fname + ':' + max_sym)"
   ]
  },
  {
   "cell_type": "code",
   "execution_count": 7,
   "metadata": {
    "collapsed": false
   },
   "outputs": [],
   "source": [
    "# So we use h5py\n",
    "spy_dask = dd.from_array(spy_h5py)"
   ]
  },
  {
   "cell_type": "code",
   "execution_count": 8,
   "metadata": {
    "collapsed": false
   },
   "outputs": [],
   "source": [
    "mean_job = spy_dask['Bid_Price'].mean()"
   ]
  },
  {
   "cell_type": "code",
   "execution_count": 127,
   "metadata": {
    "collapsed": false
   },
   "outputs": [
    {
     "data": {
      "text/plain": [
       "18.500255081967214"
      ]
     },
     "execution_count": 127,
     "metadata": {},
     "output_type": "execute_result"
    }
   ],
   "source": [
    "mean_job.compute()"
   ]
  },
  {
   "cell_type": "code",
   "execution_count": 9,
   "metadata": {
    "collapsed": false
   },
   "outputs": [
    {
     "name": "stdout",
     "output_type": "stream",
     "text": [
      "1 loop, best of 3: 9.55 s per loop\n"
     ]
    }
   ],
   "source": [
    "# This is appreciably slower than directly computing the mean w/ numpy\n",
    "%timeit mean_job.compute()"
   ]
  },
  {
   "cell_type": "markdown",
   "metadata": {},
   "source": [
    "## Dask for an actual distributed task (but only on one file for now)"
   ]
  },
  {
   "cell_type": "code",
   "execution_count": 66,
   "metadata": {
    "collapsed": false
   },
   "outputs": [],
   "source": [
    "from dask import delayed\n",
    "\n",
    "@delayed\n",
    "def mean_column(key, data, column='Bid_Price'):\n",
    "    return blaze.data(data)[column].mean()\n",
    "\n",
    "class DDFs:\n",
    "    # A (key, table) list\n",
    "    datasets = []\n",
    "    dbag = None\n",
    "\n",
    "    def __init__(self, h5fname):\n",
    "        h5in = h5py.File(h5fname)\n",
    "        h5in.visititems(self.collect_dataset)\n",
    "        # self.dbag = db.from_sequence(self.datasets)\n",
    "    \n",
    "    def collect_dataset(self, key, table):\n",
    "        if isinstance(table, h5py.Dataset):\n",
    "            self.datasets.append(dd.from_array(table)['Bid_Price'].mean())\n",
    "            # self.datasets[key] = mean_column(key, table)\n",
    "            \n",
    "    def compute_mean(self):\n",
    "        self.mean_computer = self.dbag.map(lambda x: (x[0], dd.from_array(x[1])['Bid_Price'].mean()))\n",
    "        # self.means[key] = blaze.data(table)['Bid_Price'].mean()    \n",
    "        # self.means = means.compute()"
   ]
  },
  {
   "cell_type": "code",
   "execution_count": 89,
   "metadata": {
    "collapsed": false
   },
   "outputs": [
    {
     "data": {
      "text/plain": [
       "([<dask.dataframe.core.Scalar at 0x7f91d1523978>,\n",
       "  <dask.dataframe.core.Scalar at 0x7f91d1523a58>],)"
      ]
     },
     "execution_count": 89,
     "metadata": {},
     "output_type": "execute_result"
    }
   ],
   "source": [
    "df = dd.from_pandas(pd.DataFrame({'a': [1,2]}), npartitions=1)\n",
    "numbers = [df['a'].mean() for _ in range(2)]\n",
    "dd.compute(numbers)"
   ]
  },
  {
   "cell_type": "code",
   "execution_count": 91,
   "metadata": {
    "collapsed": true
   },
   "outputs": [],
   "source": [
    "from dask import delayed\n",
    "\n",
    "@delayed\n",
    "def mean(data):\n",
    "    sum(data)/len(data)\n",
    "    \n",
    "delayed_numbers = [mean([1,2]) for _ in range(2)]"
   ]
  },
  {
   "cell_type": "code",
   "execution_count": 101,
   "metadata": {
    "collapsed": false
   },
   "outputs": [
    {
     "data": {
      "text/plain": [
       "([Delayed('mean-0e0a0dea-fa92-470d-b06e-b639fbaacae3'),\n",
       "  Delayed('mean-89f2e361-03b6-4279-bef7-572ceac76324')],)"
      ]
     },
     "execution_count": 101,
     "metadata": {},
     "output_type": "execute_result"
    }
   ],
   "source": [
    "dask.compute(delayed_numbers)"
   ]
  },
  {
   "cell_type": "code",
   "execution_count": 100,
   "metadata": {
    "collapsed": false
   },
   "outputs": [
    {
     "ename": "TypeError",
     "evalue": "list indices must be integers or slices, not Delayed",
     "output_type": "error",
     "traceback": [
      "\u001b[1;31m---------------------------------------------------------------------------\u001b[0m",
      "\u001b[1;31mTypeError\u001b[0m                                 Traceback (most recent call last)",
      "\u001b[1;32m<ipython-input-100-3c388d52ec9d>\u001b[0m in \u001b[0;36m<module>\u001b[1;34m()\u001b[0m\n\u001b[1;32m----> 1\u001b[1;33m \u001b[0mdask\u001b[0m\u001b[1;33m.\u001b[0m\u001b[0mmultiprocessing\u001b[0m\u001b[1;33m.\u001b[0m\u001b[0mget\u001b[0m\u001b[1;33m(\u001b[0m\u001b[0mdelayed_numbers\u001b[0m\u001b[1;33m,\u001b[0m \u001b[1;36m0\u001b[0m\u001b[1;33m)\u001b[0m\u001b[1;33m\u001b[0m\u001b[0m\n\u001b[0m\u001b[0;32m      2\u001b[0m \u001b[1;31m#(delayed_numbers)\u001b[0m\u001b[1;33m\u001b[0m\u001b[1;33m\u001b[0m\u001b[0m\n",
      "\u001b[1;32m/home/dav/miniconda3/envs/TAQ/lib/python3.5/site-packages/dask/multiprocessing.py\u001b[0m in \u001b[0;36mget\u001b[1;34m(dsk, keys, optimizations, num_workers, func_loads, func_dumps, **kwargs)\u001b[0m\n\u001b[0;32m     69\u001b[0m \u001b[1;33m\u001b[0m\u001b[0m\n\u001b[0;32m     70\u001b[0m     \u001b[1;31m# Optimize Dask\u001b[0m\u001b[1;33m\u001b[0m\u001b[1;33m\u001b[0m\u001b[0m\n\u001b[1;32m---> 71\u001b[1;33m     \u001b[0mdsk2\u001b[0m\u001b[1;33m,\u001b[0m \u001b[0mdependencies\u001b[0m \u001b[1;33m=\u001b[0m \u001b[0mcull\u001b[0m\u001b[1;33m(\u001b[0m\u001b[0mdsk\u001b[0m\u001b[1;33m,\u001b[0m \u001b[0mkeys\u001b[0m\u001b[1;33m)\u001b[0m\u001b[1;33m\u001b[0m\u001b[0m\n\u001b[0m\u001b[0;32m     72\u001b[0m     \u001b[0mdsk3\u001b[0m\u001b[1;33m,\u001b[0m \u001b[0mdependencies\u001b[0m \u001b[1;33m=\u001b[0m \u001b[0mfuse\u001b[0m\u001b[1;33m(\u001b[0m\u001b[0mdsk2\u001b[0m\u001b[1;33m,\u001b[0m \u001b[0mkeys\u001b[0m\u001b[1;33m,\u001b[0m \u001b[0mdependencies\u001b[0m\u001b[1;33m)\u001b[0m\u001b[1;33m\u001b[0m\u001b[0m\n\u001b[0;32m     73\u001b[0m     \u001b[0mdsk4\u001b[0m \u001b[1;33m=\u001b[0m \u001b[0mpipe\u001b[0m\u001b[1;33m(\u001b[0m\u001b[0mdsk3\u001b[0m\u001b[1;33m,\u001b[0m \u001b[1;33m*\u001b[0m\u001b[0moptimizations\u001b[0m\u001b[1;33m)\u001b[0m\u001b[1;33m\u001b[0m\u001b[0m\n",
      "\u001b[1;32m/home/dav/miniconda3/envs/TAQ/lib/python3.5/site-packages/dask/optimize.py\u001b[0m in \u001b[0;36mcull\u001b[1;34m(dsk, keys)\u001b[0m\n\u001b[0;32m     43\u001b[0m     \u001b[1;32mwhile\u001b[0m \u001b[0mstack\u001b[0m\u001b[1;33m:\u001b[0m\u001b[1;33m\u001b[0m\u001b[0m\n\u001b[0;32m     44\u001b[0m         \u001b[0mkey\u001b[0m \u001b[1;33m=\u001b[0m \u001b[0mstack\u001b[0m\u001b[1;33m.\u001b[0m\u001b[0mpop\u001b[0m\u001b[1;33m(\u001b[0m\u001b[1;33m)\u001b[0m\u001b[1;33m\u001b[0m\u001b[0m\n\u001b[1;32m---> 45\u001b[1;33m         \u001b[0mout\u001b[0m\u001b[1;33m[\u001b[0m\u001b[0mkey\u001b[0m\u001b[1;33m]\u001b[0m \u001b[1;33m=\u001b[0m \u001b[0mdsk\u001b[0m\u001b[1;33m[\u001b[0m\u001b[0mkey\u001b[0m\u001b[1;33m]\u001b[0m\u001b[1;33m\u001b[0m\u001b[0m\n\u001b[0m\u001b[0;32m     46\u001b[0m         \u001b[0mdeps\u001b[0m \u001b[1;33m=\u001b[0m \u001b[0mget_dependencies\u001b[0m\u001b[1;33m(\u001b[0m\u001b[0mdsk\u001b[0m\u001b[1;33m,\u001b[0m \u001b[0mkey\u001b[0m\u001b[1;33m,\u001b[0m \u001b[0mas_list\u001b[0m\u001b[1;33m=\u001b[0m\u001b[1;32mTrue\u001b[0m\u001b[1;33m)\u001b[0m  \u001b[1;31m# fuse needs lists\u001b[0m\u001b[1;33m\u001b[0m\u001b[0m\n\u001b[0;32m     47\u001b[0m         \u001b[0mdependencies\u001b[0m\u001b[1;33m[\u001b[0m\u001b[0mkey\u001b[0m\u001b[1;33m]\u001b[0m \u001b[1;33m=\u001b[0m \u001b[0mdeps\u001b[0m\u001b[1;33m\u001b[0m\u001b[0m\n",
      "\u001b[1;31mTypeError\u001b[0m: list indices must be integers or slices, not Delayed"
     ]
    }
   ],
   "source": [
    "dask.multiprocessing.get(delayed_numbers, 0)\n",
    "#(delayed_numbers)"
   ]
  },
  {
   "cell_type": "code",
   "execution_count": 70,
   "metadata": {
    "collapsed": false
   },
   "outputs": [
    {
     "name": "stdout",
     "output_type": "stream",
     "text": [
      "CPU times: user 256 ms, sys: 6.93 ms, total: 263 ms\n",
      "Wall time: 260 ms\n"
     ]
    }
   ],
   "source": [
    "%%time\n",
    "ddfs = DDFs(fname)"
   ]
  },
  {
   "cell_type": "code",
   "execution_count": 72,
   "metadata": {
    "collapsed": false
   },
   "outputs": [
    {
     "data": {
      "text/plain": [
       "[<dask.dataframe.core.Scalar at 0x7f91d1649780>,\n",
       " <dask.dataframe.core.Scalar at 0x7f91d17b3048>,\n",
       " <dask.dataframe.core.Scalar at 0x7f91d16406d8>,\n",
       " <dask.dataframe.core.Scalar at 0x7f91d1640438>,\n",
       " <dask.dataframe.core.Scalar at 0x7f91d16ae470>]"
      ]
     },
     "execution_count": 72,
     "metadata": {},
     "output_type": "execute_result"
    }
   ],
   "source": [
    "ddfs.datasets[:5]"
   ]
  },
  {
   "cell_type": "code",
   "execution_count": 75,
   "metadata": {
    "collapsed": false
   },
   "outputs": [],
   "source": [
    "dbag = db.from_sequence(ddfs.datasets)"
   ]
  },
  {
   "cell_type": "code",
   "execution_count": 76,
   "metadata": {
    "collapsed": true
   },
   "outputs": [],
   "source": [
    "results = dbag.compute()"
   ]
  },
  {
   "cell_type": "code",
   "execution_count": 78,
   "metadata": {
    "collapsed": false
   },
   "outputs": [
    {
     "data": {
      "text/plain": [
       "<dask.dataframe.core.Scalar at 0x7f91d1649780>"
      ]
     },
     "execution_count": 78,
     "metadata": {},
     "output_type": "execute_result"
    }
   ],
   "source": [
    "results[0]"
   ]
  },
  {
   "cell_type": "code",
   "execution_count": 63,
   "metadata": {
    "collapsed": false
   },
   "outputs": [
    {
     "data": {
      "text/plain": [
       "([<dask.dataframe.core.Scalar at 0x7f91dac9fb70>,\n",
       "  <dask.dataframe.core.Scalar at 0x7f91dac542e8>,\n",
       "  <dask.dataframe.core.Scalar at 0x7f91dac54518>,\n",
       "  <dask.dataframe.core.Scalar at 0x7f91dac54a58>,\n",
       "  <dask.dataframe.core.Scalar at 0x7f91dac54da0>,\n",
       "  <dask.dataframe.core.Scalar at 0x7f91f6e13550>,\n",
       "  <dask.dataframe.core.Scalar at 0x7f91dac0bba8>,\n",
       "  <dask.dataframe.core.Scalar at 0x7f91dac0be48>,\n",
       "  <dask.dataframe.core.Scalar at 0x7f91dac4d518>,\n",
       "  <dask.dataframe.core.Scalar at 0x7f91dac54390>,\n",
       "  <dask.dataframe.core.Scalar at 0x7f91dac9ff28>,\n",
       "  <dask.dataframe.core.Scalar at 0x7f91dac2d470>,\n",
       "  <dask.dataframe.core.Scalar at 0x7f91dac2d860>,\n",
       "  <dask.dataframe.core.Scalar at 0x7f91dac2dc50>,\n",
       "  <dask.dataframe.core.Scalar at 0x7f91dac2dfd0>,\n",
       "  <dask.dataframe.core.Scalar at 0x7f91dac39470>,\n",
       "  <dask.dataframe.core.Scalar at 0x7f91dac2d5c0>,\n",
       "  <dask.dataframe.core.Scalar at 0x7f91dac54588>,\n",
       "  <dask.dataframe.core.Scalar at 0x7f91dac39668>,\n",
       "  <dask.dataframe.core.Scalar at 0x7f91dac39a58>,\n",
       "  <dask.dataframe.core.Scalar at 0x7f91dac39e48>,\n",
       "  <dask.dataframe.core.Scalar at 0x7f91dabc9278>,\n",
       "  <dask.dataframe.core.Scalar at 0x7f91dabc9630>,\n",
       "  <dask.dataframe.core.Scalar at 0x7f91dabc9a20>,\n",
       "  <dask.dataframe.core.Scalar at 0x7f91dac391d0>,\n",
       "  <dask.dataframe.core.Scalar at 0x7f91dac2d1d0>,\n",
       "  <dask.dataframe.core.Scalar at 0x7f91dabc9c18>,\n",
       "  <dask.dataframe.core.Scalar at 0x7f91dabc9f98>,\n",
       "  <dask.dataframe.core.Scalar at 0x7f91dabd6438>,\n",
       "  <dask.dataframe.core.Scalar at 0x7f91dabd6828>,\n",
       "  <dask.dataframe.core.Scalar at 0x7f91dabc97f0>,\n",
       "  <dask.dataframe.core.Scalar at 0x7f91dac392e8>,\n",
       "  <dask.dataframe.core.Scalar at 0x7f91fce35b38>,\n",
       "  <dask.dataframe.core.Scalar at 0x7f91dabd6198>,\n",
       "  <dask.dataframe.core.Scalar at 0x7f91dabd6c18>,\n",
       "  <dask.dataframe.core.Scalar at 0x7f91dac0b828>,\n",
       "  <dask.dataframe.core.Scalar at 0x7f91dabd6c88>,\n",
       "  <dask.dataframe.core.Scalar at 0x7f91dabed198>,\n",
       "  <dask.dataframe.core.Scalar at 0x7f91dabed588>,\n",
       "  <dask.dataframe.core.Scalar at 0x7f91dabd69b0>,\n",
       "  <dask.dataframe.core.Scalar at 0x7f91dabed2e8>,\n",
       "  <dask.dataframe.core.Scalar at 0x7f91dabedc18>,\n",
       "  <dask.dataframe.core.Scalar at 0x7f91dabedf98>,\n",
       "  <dask.dataframe.core.Scalar at 0x7f91dabed780>,\n",
       "  <dask.dataframe.core.Scalar at 0x7f91dab84438>,\n",
       "  <dask.dataframe.core.Scalar at 0x7f91dab84828>,\n",
       "  <dask.dataframe.core.Scalar at 0x7f91dab84c18>,\n",
       "  <dask.dataframe.core.Scalar at 0x7f91dab84f98>,\n",
       "  <dask.dataframe.core.Scalar at 0x7f91dab845f8>,\n",
       "  <dask.dataframe.core.Scalar at 0x7f91dab84d30>,\n",
       "  <dask.dataframe.core.Scalar at 0x7f91dab93588>,\n",
       "  <dask.dataframe.core.Scalar at 0x7f91dab93978>,\n",
       "  <dask.dataframe.core.Scalar at 0x7f91dab93d68>,\n",
       "  <dask.dataframe.core.Scalar at 0x7f91dab84208>,\n",
       "  <dask.dataframe.core.Scalar at 0x7f91dab93eb8>,\n",
       "  <dask.dataframe.core.Scalar at 0x7f91dabaa2e8>,\n",
       "  <dask.dataframe.core.Scalar at 0x7f91dabaa6d8>,\n",
       "  <dask.dataframe.core.Scalar at 0x7f91dabaaac8>,\n",
       "  <dask.dataframe.core.Scalar at 0x7f91dab84358>,\n",
       "  <dask.dataframe.core.Scalar at 0x7f91dabaa208>,\n",
       "  <dask.dataframe.core.Scalar at 0x7f91dabaaf98>,\n",
       "  <dask.dataframe.core.Scalar at 0x7f91dabba438>,\n",
       "  <dask.dataframe.core.Scalar at 0x7f91dabba828>,\n",
       "  <dask.dataframe.core.Scalar at 0x7f91dab93ba8>,\n",
       "  <dask.dataframe.core.Scalar at 0x7f91dabbaa20>,\n",
       "  <dask.dataframe.core.Scalar at 0x7f91dabbae10>,\n",
       "  <dask.dataframe.core.Scalar at 0x7f91dab4f240>,\n",
       "  <dask.dataframe.core.Scalar at 0x7f91dab4f630>,\n",
       "  <dask.dataframe.core.Scalar at 0x7f91dabaae48>,\n",
       "  <dask.dataframe.core.Scalar at 0x7f91dab4f780>,\n",
       "  <dask.dataframe.core.Scalar at 0x7f91dab4fb70>,\n",
       "  <dask.dataframe.core.Scalar at 0x7f91dab4ff60>,\n",
       "  <dask.dataframe.core.Scalar at 0x7f91dab5f390>,\n",
       "  <dask.dataframe.core.Scalar at 0x7f91dab4f160>,\n",
       "  <dask.dataframe.core.Scalar at 0x7f91dab5f1d0>,\n",
       "  <dask.dataframe.core.Scalar at 0x7f91dab5f8d0>,\n",
       "  <dask.dataframe.core.Scalar at 0x7f91dab5fcc0>,\n",
       "  <dask.dataframe.core.Scalar at 0x7f91dab5fdd8>,\n",
       "  <dask.dataframe.core.Scalar at 0x7f91dab5f710>,\n",
       "  <dask.dataframe.core.Scalar at 0x7f91dab712e8>,\n",
       "  <dask.dataframe.core.Scalar at 0x7f91dab716d8>,\n",
       "  <dask.dataframe.core.Scalar at 0x7f91dab71ac8>,\n",
       "  <dask.dataframe.core.Scalar at 0x7f91dab71eb8>,\n",
       "  <dask.dataframe.core.Scalar at 0x7f91dab71438>,\n",
       "  <dask.dataframe.core.Scalar at 0x7f91dab71cf8>,\n",
       "  <dask.dataframe.core.Scalar at 0x7f91dab074e0>,\n",
       "  <dask.dataframe.core.Scalar at 0x7f91dab078d0>,\n",
       "  <dask.dataframe.core.Scalar at 0x7f91dab07cc0>,\n",
       "  <dask.dataframe.core.Scalar at 0x7f91dab4fd30>,\n",
       "  <dask.dataframe.core.Scalar at 0x7f91dab07710>,\n",
       "  <dask.dataframe.core.Scalar at 0x7f91dab07f60>,\n",
       "  <dask.dataframe.core.Scalar at 0x7f91dab19390>,\n",
       "  <dask.dataframe.core.Scalar at 0x7f91dab19780>,\n",
       "  <dask.dataframe.core.Scalar at 0x7f91dab717f0>,\n",
       "  <dask.dataframe.core.Scalar at 0x7f91dab19978>,\n",
       "  <dask.dataframe.core.Scalar at 0x7f91dab19d68>,\n",
       "  <dask.dataframe.core.Scalar at 0x7f91dab2e198>,\n",
       "  <dask.dataframe.core.Scalar at 0x7f91dab190f0>,\n",
       "  <dask.dataframe.core.Scalar at 0x7f91dab2e4e0>,\n",
       "  <dask.dataframe.core.Scalar at 0x7f91dab2e8d0>,\n",
       "  <dask.dataframe.core.Scalar at 0x7f91dab2ecc0>,\n",
       "  <dask.dataframe.core.Scalar at 0x7f91dab2edd8>,\n",
       "  <dask.dataframe.core.Scalar at 0x7f91dab2e710>,\n",
       "  <dask.dataframe.core.Scalar at 0x7f91daac02e8>,\n",
       "  <dask.dataframe.core.Scalar at 0x7f91daac06d8>,\n",
       "  <dask.dataframe.core.Scalar at 0x7f91daac0ac8>,\n",
       "  <dask.dataframe.core.Scalar at 0x7f91dab2ee48>,\n",
       "  <dask.dataframe.core.Scalar at 0x7f91daac0d68>,\n",
       "  <dask.dataframe.core.Scalar at 0x7f91daad6198>,\n",
       "  <dask.dataframe.core.Scalar at 0x7f91daad6588>,\n",
       "  <dask.dataframe.core.Scalar at 0x7f91daad69b0>,\n",
       "  <dask.dataframe.core.Scalar at 0x7f91daac0eb8>,\n",
       "  <dask.dataframe.core.Scalar at 0x7f91daad6b00>,\n",
       "  <dask.dataframe.core.Scalar at 0x7f91daad6eb8>,\n",
       "  <dask.dataframe.core.Scalar at 0x7f91daae82e8>,\n",
       "  <dask.dataframe.core.Scalar at 0x7f91daae86d8>,\n",
       "  <dask.dataframe.core.Scalar at 0x7f91daae8ac8>,\n",
       "  <dask.dataframe.core.Scalar at 0x7f91daac0438>,\n",
       "  <dask.dataframe.core.Scalar at 0x7f91daae8c18>,\n",
       "  <dask.dataframe.core.Scalar at 0x7f91daae8f98>,\n",
       "  <dask.dataframe.core.Scalar at 0x7f91daaf9438>,\n",
       "  <dask.dataframe.core.Scalar at 0x7f91daaf9828>,\n",
       "  <dask.dataframe.core.Scalar at 0x7f91daaf9208>,\n",
       "  <dask.dataframe.core.Scalar at 0x7f91daaf9a20>,\n",
       "  <dask.dataframe.core.Scalar at 0x7f91daaf9e10>,\n",
       "  <dask.dataframe.core.Scalar at 0x7f91daa8d240>,\n",
       "  <dask.dataframe.core.Scalar at 0x7f91daa8d630>,\n",
       "  <dask.dataframe.core.Scalar at 0x7f91daad62e8>,\n",
       "  <dask.dataframe.core.Scalar at 0x7f91daa8d780>,\n",
       "  <dask.dataframe.core.Scalar at 0x7f91daa8db70>,\n",
       "  <dask.dataframe.core.Scalar at 0x7f91daa8d4a8>,\n",
       "  <dask.dataframe.core.Scalar at 0x7f91daa8df60>,\n",
       "  <dask.dataframe.core.Scalar at 0x7f91daaa2390>,\n",
       "  <dask.dataframe.core.Scalar at 0x7f91daaa27b8>,\n",
       "  <dask.dataframe.core.Scalar at 0x7f91daa8de80>,\n",
       "  <dask.dataframe.core.Scalar at 0x7f91daaa26d8>,\n",
       "  <dask.dataframe.core.Scalar at 0x7f91daaa2d68>,\n",
       "  <dask.dataframe.core.Scalar at 0x7f91daab81d0>,\n",
       "  <dask.dataframe.core.Scalar at 0x7f91daab8588>,\n",
       "  <dask.dataframe.core.Scalar at 0x7f91daaa21d0>,\n",
       "  <dask.dataframe.core.Scalar at 0x7f91daab8160>,\n",
       "  <dask.dataframe.core.Scalar at 0x7f91daab8b70>,\n",
       "  <dask.dataframe.core.Scalar at 0x7f91daab8f60>,\n",
       "  <dask.dataframe.core.Scalar at 0x7f91daa49390>,\n",
       "  <dask.dataframe.core.Scalar at 0x7f91daaa2ba8>,\n",
       "  <dask.dataframe.core.Scalar at 0x7f91daae8898>,\n",
       "  <dask.dataframe.core.Scalar at 0x7f91daab89b0>,\n",
       "  <dask.dataframe.core.Scalar at 0x7f91daa49828>,\n",
       "  <dask.dataframe.core.Scalar at 0x7f91daa49c18>,\n",
       "  <dask.dataframe.core.Scalar at 0x7f91dab2ee80>,\n",
       "  <dask.dataframe.core.Scalar at 0x7f91daa49128>,\n",
       "  <dask.dataframe.core.Scalar at 0x7f91daa5e240>,\n",
       "  <dask.dataframe.core.Scalar at 0x7f91daa5e630>,\n",
       "  <dask.dataframe.core.Scalar at 0x7f91daa5ea20>,\n",
       "  <dask.dataframe.core.Scalar at 0x7f91dab2efd0>,\n",
       "  <dask.dataframe.core.Scalar at 0x7f91daa5ecc0>,\n",
       "  <dask.dataframe.core.Scalar at 0x7f91daa5edd8>,\n",
       "  <dask.dataframe.core.Scalar at 0x7f91daa704e0>,\n",
       "  <dask.dataframe.core.Scalar at 0x7f91daa708d0>,\n",
       "  <dask.dataframe.core.Scalar at 0x7f91daa5ee80>,\n",
       "  <dask.dataframe.core.Scalar at 0x7f91daa70b00>,\n",
       "  <dask.dataframe.core.Scalar at 0x7f91daa70d68>,\n",
       "  <dask.dataframe.core.Scalar at 0x7f91daa00198>,\n",
       "  <dask.dataframe.core.Scalar at 0x7f91daa00588>,\n",
       "  <dask.dataframe.core.Scalar at 0x7f91daa00978>,\n",
       "  <dask.dataframe.core.Scalar at 0x7f91daa70400>,\n",
       "  <dask.dataframe.core.Scalar at 0x7f91daa00ac8>,\n",
       "  <dask.dataframe.core.Scalar at 0x7f91daa00eb8>,\n",
       "  <dask.dataframe.core.Scalar at 0x7f91daa132e8>,\n",
       "  <dask.dataframe.core.Scalar at 0x7f91daa13710>,\n",
       "  <dask.dataframe.core.Scalar at 0x7f91daa49dd8>,\n",
       "  <dask.dataframe.core.Scalar at 0x7f91daa13828>,\n",
       "  <dask.dataframe.core.Scalar at 0x7f91daa13c18>,\n",
       "  <dask.dataframe.core.Scalar at 0x7f91daa13fd0>,\n",
       "  <dask.dataframe.core.Scalar at 0x7f91daa23470>,\n",
       "  <dask.dataframe.core.Scalar at 0x7f91daa13048>,\n",
       "  <dask.dataframe.core.Scalar at 0x7f91daa232b0>,\n",
       "  <dask.dataframe.core.Scalar at 0x7f91daa239b0>,\n",
       "  <dask.dataframe.core.Scalar at 0x7f91daa23d68>,\n",
       "  <dask.dataframe.core.Scalar at 0x7f91daa37198>,\n",
       "  <dask.dataframe.core.Scalar at 0x7f91daa23198>,\n",
       "  <dask.dataframe.core.Scalar at 0x7f91daa37470>,\n",
       "  <dask.dataframe.core.Scalar at 0x7f91daa37860>,\n",
       "  <dask.dataframe.core.Scalar at 0x7f91daa37c18>,\n",
       "  <dask.dataframe.core.Scalar at 0x7f91daa37f98>,\n",
       "  <dask.dataframe.core.Scalar at 0x7f91daa375c0>,\n",
       "  <dask.dataframe.core.Scalar at 0x7f91da9c7240>,\n",
       "  <dask.dataframe.core.Scalar at 0x7f91da9c7630>,\n",
       "  <dask.dataframe.core.Scalar at 0x7f91da9c7a20>,\n",
       "  <dask.dataframe.core.Scalar at 0x7f91da9c7e10>,\n",
       "  <dask.dataframe.core.Scalar at 0x7f91da9c7780>,\n",
       "  <dask.dataframe.core.Scalar at 0x7f91da9c7f98>,\n",
       "  <dask.dataframe.core.Scalar at 0x7f91da9de438>,\n",
       "  <dask.dataframe.core.Scalar at 0x7f91da9de828>,\n",
       "  <dask.dataframe.core.Scalar at 0x7f91da9dec18>,\n",
       "  <dask.dataframe.core.Scalar at 0x7f91daa37208>,\n",
       "  <dask.dataframe.core.Scalar at 0x7f91da9de160>,\n",
       "  <dask.dataframe.core.Scalar at 0x7f91da9f11d0>,\n",
       "  <dask.dataframe.core.Scalar at 0x7f91da9f15c0>,\n",
       "  <dask.dataframe.core.Scalar at 0x7f91da9f1978>,\n",
       "  <dask.dataframe.core.Scalar at 0x7f91da9de668>,\n",
       "  <dask.dataframe.core.Scalar at 0x7f91da9f1438>,\n",
       "  <dask.dataframe.core.Scalar at 0x7f91da9f1eb8>,\n",
       "  <dask.dataframe.core.Scalar at 0x7f91da982320>,\n",
       "  <dask.dataframe.core.Scalar at 0x7f91da982710>,\n",
       "  <dask.dataframe.core.Scalar at 0x7f91da982b00>,\n",
       "  <dask.dataframe.core.Scalar at 0x7f91da9f1c50>,\n",
       "  <dask.dataframe.core.Scalar at 0x7f91daa5e940>,\n",
       "  <dask.dataframe.core.Scalar at 0x7f91da982048>,\n",
       "  <dask.dataframe.core.Scalar at 0x7f91da982eb8>,\n",
       "  <dask.dataframe.core.Scalar at 0x7f91da9952e8>,\n",
       "  <dask.dataframe.core.Scalar at 0x7f91da982898>,\n",
       "  <dask.dataframe.core.Scalar at 0x7f91da995080>,\n",
       "  <dask.dataframe.core.Scalar at 0x7f91da995828>,\n",
       "  <dask.dataframe.core.Scalar at 0x7f91da995c18>,\n",
       "  <dask.dataframe.core.Scalar at 0x7f91da9f17b8>,\n",
       "  <dask.dataframe.core.Scalar at 0x7f91da995f60>,\n",
       "  <dask.dataframe.core.Scalar at 0x7f91da9aa390>,\n",
       "  <dask.dataframe.core.Scalar at 0x7f91da9aa780>,\n",
       "  <dask.dataframe.core.Scalar at 0x7f91da9aab70>,\n",
       "  <dask.dataframe.core.Scalar at 0x7f91da9f1b38>,\n",
       "  <dask.dataframe.core.Scalar at 0x7f91da9aa0f0>,\n",
       "  <dask.dataframe.core.Scalar at 0x7f91da9ba128>,\n",
       "  <dask.dataframe.core.Scalar at 0x7f91da9ba4e0>,\n",
       "  <dask.dataframe.core.Scalar at 0x7f91da9ba8d0>,\n",
       "  <dask.dataframe.core.Scalar at 0x7f91da9aae80>,\n",
       "  <dask.dataframe.core.Scalar at 0x7f91da9ba668>,\n",
       "  <dask.dataframe.core.Scalar at 0x7f91da9bae10>,\n",
       "  <dask.dataframe.core.Scalar at 0x7f91da94c240>,\n",
       "  <dask.dataframe.core.Scalar at 0x7f91da94c630>,\n",
       "  <dask.dataframe.core.Scalar at 0x7f91da9bab70>,\n",
       "  <dask.dataframe.core.Scalar at 0x7f91da94c828>,\n",
       "  <dask.dataframe.core.Scalar at 0x7f91da94cc18>,\n",
       "  <dask.dataframe.core.Scalar at 0x7f91da94cfd0>,\n",
       "  <dask.dataframe.core.Scalar at 0x7f91da95f470>,\n",
       "  <dask.dataframe.core.Scalar at 0x7f91da94c748>,\n",
       "  <dask.dataframe.core.Scalar at 0x7f91da95f6d8>,\n",
       "  <dask.dataframe.core.Scalar at 0x7f91da95fac8>,\n",
       "  <dask.dataframe.core.Scalar at 0x7f91da95feb8>,\n",
       "  <dask.dataframe.core.Scalar at 0x7f91da9722e8>,\n",
       "  <dask.dataframe.core.Scalar at 0x7f91da95f198>,\n",
       "  <dask.dataframe.core.Scalar at 0x7f91da9724e0>,\n",
       "  <dask.dataframe.core.Scalar at 0x7f91da9728d0>,\n",
       "  <dask.dataframe.core.Scalar at 0x7f91da972cc0>,\n",
       "  <dask.dataframe.core.Scalar at 0x7f91da972dd8>,\n",
       "  <dask.dataframe.core.Scalar at 0x7f91da972668>,\n",
       "  <dask.dataframe.core.Scalar at 0x7f91da94cba8>,\n",
       "  <dask.dataframe.core.Scalar at 0x7f91da904630>,\n",
       "  <dask.dataframe.core.Scalar at 0x7f91da904a20>,\n",
       "  <dask.dataframe.core.Scalar at 0x7f91da904e10>,\n",
       "  <dask.dataframe.core.Scalar at 0x7f91da95f7f0>,\n",
       "  <dask.dataframe.core.Scalar at 0x7f91da904080>,\n",
       "  <dask.dataframe.core.Scalar at 0x7f91da919438>,\n",
       "  <dask.dataframe.core.Scalar at 0x7f91da919828>,\n",
       "  <dask.dataframe.core.Scalar at 0x7f91da919c18>,\n",
       "  <dask.dataframe.core.Scalar at 0x7f91da94c978>,\n",
       "  <dask.dataframe.core.Scalar at 0x7f91da919e48>,\n",
       "  <dask.dataframe.core.Scalar at 0x7f91da92c278>,\n",
       "  <dask.dataframe.core.Scalar at 0x7f91da92c668>,\n",
       "  <dask.dataframe.core.Scalar at 0x7f91da92ca20>,\n",
       "  <dask.dataframe.core.Scalar at 0x7f91da92c5f8>,\n",
       "  <dask.dataframe.core.Scalar at 0x7f91da92cc18>,\n",
       "  <dask.dataframe.core.Scalar at 0x7f91da92cf98>,\n",
       "  <dask.dataframe.core.Scalar at 0x7f91da93d438>,\n",
       "  <dask.dataframe.core.Scalar at 0x7f91da92c7f0>,\n",
       "  <dask.dataframe.core.Scalar at 0x7f91da972e48>,\n",
       "  <dask.dataframe.core.Scalar at 0x7f91da9baf98>,\n",
       "  <dask.dataframe.core.Scalar at 0x7f91da93d8d0>,\n",
       "  <dask.dataframe.core.Scalar at 0x7f91da92cb38>,\n",
       "  <dask.dataframe.core.Scalar at 0x7f91da93d160>,\n",
       "  <dask.dataframe.core.Scalar at 0x7f91da8d9128>,\n",
       "  <dask.dataframe.core.Scalar at 0x7f91da8d9518>,\n",
       "  <dask.dataframe.core.Scalar at 0x7f91da8d98d0>,\n",
       "  <dask.dataframe.core.Scalar at 0x7f91da995278>,\n",
       "  <dask.dataframe.core.Scalar at 0x7f91da8d9a58>,\n",
       "  <dask.dataframe.core.Scalar at 0x7f91da8d9d68>,\n",
       "  <dask.dataframe.core.Scalar at 0x7f91da8e9198>,\n",
       "  <dask.dataframe.core.Scalar at 0x7f91da8e9588>,\n",
       "  <dask.dataframe.core.Scalar at 0x7f91da8e9978>,\n",
       "  <dask.dataframe.core.Scalar at 0x7f91da8d94a8>,\n",
       "  <dask.dataframe.core.Scalar at 0x7f91da8e9ac8>,\n",
       "  <dask.dataframe.core.Scalar at 0x7f91da8e9eb8>,\n",
       "  <dask.dataframe.core.Scalar at 0x7f91da8e9cf8>,\n",
       "  <dask.dataframe.core.Scalar at 0x7f91da8fc128>,\n",
       "  <dask.dataframe.core.Scalar at 0x7f91da8fc588>,\n",
       "  <dask.dataframe.core.Scalar at 0x7f91da8fc978>,\n",
       "  <dask.dataframe.core.Scalar at 0x7f91da8fcd68>,\n",
       "  <dask.dataframe.core.Scalar at 0x7f91da88e198>,\n",
       "  <dask.dataframe.core.Scalar at 0x7f91da8fc748>,\n",
       "  <dask.dataframe.core.Scalar at 0x7f91da8fc710>,\n",
       "  <dask.dataframe.core.Scalar at 0x7f91da88e710>,\n",
       "  <dask.dataframe.core.Scalar at 0x7f91da88eac8>,\n",
       "  <dask.dataframe.core.Scalar at 0x7f91da8d9c18>,\n",
       "  <dask.dataframe.core.Scalar at 0x7f91da88ecc0>,\n",
       "  <dask.dataframe.core.Scalar at 0x7f91da88edd8>,\n",
       "  <dask.dataframe.core.Scalar at 0x7f91da8a34e0>,\n",
       "  <dask.dataframe.core.Scalar at 0x7f91da8a38d0>,\n",
       "  <dask.dataframe.core.Scalar at 0x7f91da8fc2b0>,\n",
       "  <dask.dataframe.core.Scalar at 0x7f91da8a3b00>,\n",
       "  <dask.dataframe.core.Scalar at 0x7f91da8a3d68>,\n",
       "  <dask.dataframe.core.Scalar at 0x7f91da8b5198>,\n",
       "  <dask.dataframe.core.Scalar at 0x7f91da8b5588>,\n",
       "  <dask.dataframe.core.Scalar at 0x7f91da8a3710>,\n",
       "  <dask.dataframe.core.Scalar at 0x7f91da8b54a8>,\n",
       "  <dask.dataframe.core.Scalar at 0x7f91da8b5b70>,\n",
       "  <dask.dataframe.core.Scalar at 0x7f91da8b5f60>,\n",
       "  <dask.dataframe.core.Scalar at 0x7f91da8463c8>,\n",
       "  <dask.dataframe.core.Scalar at 0x7f91da8b5828>,\n",
       "  <dask.dataframe.core.Scalar at 0x7f91da846630>,\n",
       "  <dask.dataframe.core.Scalar at 0x7f91da846a20>,\n",
       "  <dask.dataframe.core.Scalar at 0x7f91da846e10>,\n",
       "  <dask.dataframe.core.Scalar at 0x7f91da85a240>,\n",
       "  <dask.dataframe.core.Scalar at 0x7f91da846748>,\n",
       "  <dask.dataframe.core.Scalar at 0x7f91da846550>,\n",
       "  <dask.dataframe.core.Scalar at 0x7f91da85a780>,\n",
       "  <dask.dataframe.core.Scalar at 0x7f91da85ab70>,\n",
       "  <dask.dataframe.core.Scalar at 0x7f91da85af60>,\n",
       "  <dask.dataframe.core.Scalar at 0x7f91da8683c8>,\n",
       "  <dask.dataframe.core.Scalar at 0x7f91da8a3e80>,\n",
       "  <dask.dataframe.core.Scalar at 0x7f91da8684e0>,\n",
       "  <dask.dataframe.core.Scalar at 0x7f91da8688d0>,\n",
       "  <dask.dataframe.core.Scalar at 0x7f91da868cc0>,\n",
       "  <dask.dataframe.core.Scalar at 0x7f91da868dd8>,\n",
       "  <dask.dataframe.core.Scalar at 0x7f91da9aacf8>,\n",
       "  <dask.dataframe.core.Scalar at 0x7f91da868198>,\n",
       "  <dask.dataframe.core.Scalar at 0x7f91da87c390>,\n",
       "  <dask.dataframe.core.Scalar at 0x7f91da87c780>,\n",
       "  <dask.dataframe.core.Scalar at 0x7f91da87cb70>,\n",
       "  <dask.dataframe.core.Scalar at 0x7f91da85a550>,\n",
       "  <dask.dataframe.core.Scalar at 0x7f91dad99c88>,\n",
       "  <dask.dataframe.core.Scalar at 0x7f91f7ce89e8>,\n",
       "  <dask.dataframe.core.Scalar at 0x7f91dbe9cc50>,\n",
       "  <dask.dataframe.core.Scalar at 0x7f91dbe64a90>,\n",
       "  <dask.dataframe.core.Scalar at 0x7f91da85a908>,\n",
       "  <dask.dataframe.core.Scalar at 0x7f91e8b81e80>,\n",
       "  <dask.dataframe.core.Scalar at 0x7f91e948d6a0>,\n",
       "  <dask.dataframe.core.Scalar at 0x7f91f211fe10>,\n",
       "  <dask.dataframe.core.Scalar at 0x7f91e9694748>,\n",
       "  <dask.dataframe.core.Scalar at 0x7f91f7a28f28>,\n",
       "  <dask.dataframe.core.Scalar at 0x7f91f59c3710>,\n",
       "  <dask.dataframe.core.Scalar at 0x7f91f6e13208>,\n",
       "  <dask.dataframe.core.Scalar at 0x7f91f471e208>,\n",
       "  <dask.dataframe.core.Scalar at 0x7f91fd033978>,\n",
       "  <dask.dataframe.core.Scalar at 0x7f91fd033f28>,\n",
       "  <dask.dataframe.core.Scalar at 0x7f91f437c8d0>,\n",
       "  <dask.dataframe.core.Scalar at 0x7f91f437ce48>,\n",
       "  <dask.dataframe.core.Scalar at 0x7f91f6e13518>,\n",
       "  <dask.dataframe.core.Scalar at 0x7f91f437c9b0>,\n",
       "  <dask.dataframe.core.Scalar at 0x7f91f437c828>,\n",
       "  <dask.dataframe.core.Scalar at 0x7f91f437ca58>,\n",
       "  <dask.dataframe.core.Scalar at 0x7f91f2bff048>,\n",
       "  <dask.dataframe.core.Scalar at 0x7f91f437c550>,\n",
       "  <dask.dataframe.core.Scalar at 0x7f91f2bff5c0>,\n",
       "  <dask.dataframe.core.Scalar at 0x7f91f2bffda0>,\n",
       "  <dask.dataframe.core.Scalar at 0x7f91f2bff358>,\n",
       "  <dask.dataframe.core.Scalar at 0x7f91f5662160>,\n",
       "  <dask.dataframe.core.Scalar at 0x7f91f2bff4a8>,\n",
       "  <dask.dataframe.core.Scalar at 0x7f91f56622e8>,\n",
       "  <dask.dataframe.core.Scalar at 0x7f91f2c20e48>,\n",
       "  <dask.dataframe.core.Scalar at 0x7f91da87ce80>,\n",
       "  <dask.dataframe.core.Scalar at 0x7f91da87c080>,\n",
       "  <dask.dataframe.core.Scalar at 0x7f91da87cd30>,\n",
       "  <dask.dataframe.core.Scalar at 0x7f91f716cc88>,\n",
       "  <dask.dataframe.core.Scalar at 0x7f91f3e1e438>,\n",
       "  <dask.dataframe.core.Scalar at 0x7f91f3e1e828>,\n",
       "  <dask.dataframe.core.Scalar at 0x7f91f5662320>,\n",
       "  <dask.dataframe.core.Scalar at 0x7f91f3e1e278>,\n",
       "  <dask.dataframe.core.Scalar at 0x7f91f3e1eeb8>,\n",
       "  <dask.dataframe.core.Scalar at 0x7f91f3e0b2e8>,\n",
       "  <dask.dataframe.core.Scalar at 0x7f91f3e0b6d8>,\n",
       "  <dask.dataframe.core.Scalar at 0x7f91f3e0bac8>,\n",
       "  <dask.dataframe.core.Scalar at 0x7f91f3e1ec18>,\n",
       "  <dask.dataframe.core.Scalar at 0x7f91f3e0bc18>,\n",
       "  <dask.dataframe.core.Scalar at 0x7f91f3e0bf98>,\n",
       "  <dask.dataframe.core.Scalar at 0x7f91f3ead438>,\n",
       "  <dask.dataframe.core.Scalar at 0x7f91f3e0b080>,\n",
       "  <dask.dataframe.core.Scalar at 0x7f91f3ead1d0>,\n",
       "  <dask.dataframe.core.Scalar at 0x7f91f3eada20>,\n",
       "  <dask.dataframe.core.Scalar at 0x7f91f3eade10>,\n",
       "  <dask.dataframe.core.Scalar at 0x7f91f3e9b278>,\n",
       "  <dask.dataframe.core.Scalar at 0x7f91f3ead5f8>,\n",
       "  <dask.dataframe.core.Scalar at 0x7f91f3e9b4e0>,\n",
       "  <dask.dataframe.core.Scalar at 0x7f91f3e9b8d0>,\n",
       "  <dask.dataframe.core.Scalar at 0x7f91f3e9bcc0>,\n",
       "  <dask.dataframe.core.Scalar at 0x7f91f3e9bdd8>,\n",
       "  <dask.dataframe.core.Scalar at 0x7f91f2bff1d0>,\n",
       "  <dask.dataframe.core.Scalar at 0x7f91f3e9b6a0>,\n",
       "  <dask.dataframe.core.Scalar at 0x7f91f3e9b668>,\n",
       "  <dask.dataframe.core.Scalar at 0x7f91f3e85588>,\n",
       "  <dask.dataframe.core.Scalar at 0x7f91f3e85978>,\n",
       "  <dask.dataframe.core.Scalar at 0x7f91f3e1e128>,\n",
       "  <dask.dataframe.core.Scalar at 0x7f91f3e85ac8>,\n",
       "  <dask.dataframe.core.Scalar at 0x7f91f3e85eb8>,\n",
       "  <dask.dataframe.core.Scalar at 0x7f91f3eae2e8>,\n",
       "  <dask.dataframe.core.Scalar at 0x7f91f3eae6d8>,\n",
       "  <dask.dataframe.core.Scalar at 0x7f91f3e9b390>,\n",
       "  <dask.dataframe.core.Scalar at 0x7f91f3eae8d0>,\n",
       "  <dask.dataframe.core.Scalar at 0x7f91f3eaecc0>,\n",
       "  <dask.dataframe.core.Scalar at 0x7f91f3eaedd8>,\n",
       "  <dask.dataframe.core.Scalar at 0x7f91f3ea24e0>,\n",
       "  <dask.dataframe.core.Scalar at 0x7f91f3eae160>,\n",
       "  <dask.dataframe.core.Scalar at 0x7f91f3ea2710>,\n",
       "  <dask.dataframe.core.Scalar at 0x7f91f3ea2a20>,\n",
       "  <dask.dataframe.core.Scalar at 0x7f91f3ea2e48>,\n",
       "  <dask.dataframe.core.Scalar at 0x7f91f3e83278>,\n",
       "  <dask.dataframe.core.Scalar at 0x7f91f3ea2be0>,\n",
       "  <dask.dataframe.core.Scalar at 0x7f91f3ea2208>,\n",
       "  <dask.dataframe.core.Scalar at 0x7f91f3e83780>,\n",
       "  <dask.dataframe.core.Scalar at 0x7f91f3e83b70>,\n",
       "  <dask.dataframe.core.Scalar at 0x7f91f3e83f60>,\n",
       "  <dask.dataframe.core.Scalar at 0x7f91f3e83908>,\n",
       "  <dask.dataframe.core.Scalar at 0x7f91f3eae9e8>,\n",
       "  <dask.dataframe.core.Scalar at 0x7f91f4095588>,\n",
       "  <dask.dataframe.core.Scalar at 0x7f91f4095978>,\n",
       "  <dask.dataframe.core.Scalar at 0x7f91f4095d68>,\n",
       "  <dask.dataframe.core.Scalar at 0x7f91f4095b00>,\n",
       "  <dask.dataframe.core.Scalar at 0x7f91f4095fd0>,\n",
       "  <dask.dataframe.core.Scalar at 0x7f91f40b1470>,\n",
       "  <dask.dataframe.core.Scalar at 0x7f91f40b1828>,\n",
       "  <dask.dataframe.core.Scalar at 0x7f91f40b1c18>,\n",
       "  <dask.dataframe.core.Scalar at 0x7f91f4095ac8>,\n",
       "  <dask.dataframe.core.Scalar at 0x7f91f40b1400>,\n",
       "  <dask.dataframe.core.Scalar at 0x7f91f40a61d0>,\n",
       "  <dask.dataframe.core.Scalar at 0x7f91f40a65c0>,\n",
       "  <dask.dataframe.core.Scalar at 0x7f91f40a6978>,\n",
       "  <dask.dataframe.core.Scalar at 0x7f91f40b19e8>,\n",
       "  <dask.dataframe.core.Scalar at 0x7f91f40a6b70>,\n",
       "  <dask.dataframe.core.Scalar at 0x7f91f40a6f60>,\n",
       "  <dask.dataframe.core.Scalar at 0x7f91f40b7390>,\n",
       "  <dask.dataframe.core.Scalar at 0x7f91f40b7780>,\n",
       "  <dask.dataframe.core.Scalar at 0x7f91f40a66d8>,\n",
       "  <dask.dataframe.core.Scalar at 0x7f91f40b7a20>,\n",
       "  <dask.dataframe.core.Scalar at 0x7f91f40b7e10>,\n",
       "  <dask.dataframe.core.Scalar at 0x7f91f40db240>,\n",
       "  <dask.dataframe.core.Scalar at 0x7f91f40db630>,\n",
       "  <dask.dataframe.core.Scalar at 0x7f91f40b70f0>,\n",
       "  <dask.dataframe.core.Scalar at 0x7f91f40db828>,\n",
       "  <dask.dataframe.core.Scalar at 0x7f91f40dbc18>,\n",
       "  <dask.dataframe.core.Scalar at 0x7f91f40dbf98>,\n",
       "  <dask.dataframe.core.Scalar at 0x7f91f40e7438>,\n",
       "  <dask.dataframe.core.Scalar at 0x7f91f40db7f0>,\n",
       "  <dask.dataframe.core.Scalar at 0x7f91f40e7668>,\n",
       "  <dask.dataframe.core.Scalar at 0x7f91f40e7a58>,\n",
       "  <dask.dataframe.core.Scalar at 0x7f91f40e7e10>,\n",
       "  <dask.dataframe.core.Scalar at 0x7f91f40e8240>,\n",
       "  <dask.dataframe.core.Scalar at 0x7f91f40e7278>,\n",
       "  <dask.dataframe.core.Scalar at 0x7f91f40dbe48>,\n",
       "  <dask.dataframe.core.Scalar at 0x7f91f3e833c8>,\n",
       "  <dask.dataframe.core.Scalar at 0x7f91f40e85c0>,\n",
       "  <dask.dataframe.core.Scalar at 0x7f91f40e8978>,\n",
       "  <dask.dataframe.core.Scalar at 0x7f91f40db358>,\n",
       "  <dask.dataframe.core.Scalar at 0x7f91f40e8b70>,\n",
       "  <dask.dataframe.core.Scalar at 0x7f91f40e8f60>,\n",
       "  <dask.dataframe.core.Scalar at 0x7f91f40c5390>,\n",
       "  <dask.dataframe.core.Scalar at 0x7f91f40c5780>,\n",
       "  <dask.dataframe.core.Scalar at 0x7f91f40db9e8>,\n",
       "  <dask.dataframe.core.Scalar at 0x7f91f40c5978>,\n",
       "  <dask.dataframe.core.Scalar at 0x7f91f40c5d68>,\n",
       "  <dask.dataframe.core.Scalar at 0x7f91f405c198>,\n",
       "  <dask.dataframe.core.Scalar at 0x7f91f405c5c0>,\n",
       "  <dask.dataframe.core.Scalar at 0x7f91f40e8da0>,\n",
       "  <dask.dataframe.core.Scalar at 0x7f91f405c748>,\n",
       "  <dask.dataframe.core.Scalar at 0x7f91f405ca20>,\n",
       "  <dask.dataframe.core.Scalar at 0x7f91f405ce48>,\n",
       "  <dask.dataframe.core.Scalar at 0x7f91f4056240>,\n",
       "  <dask.dataframe.core.Scalar at 0x7f91f4056630>,\n",
       "  <dask.dataframe.core.Scalar at 0x7f91f405c550>,\n",
       "  <dask.dataframe.core.Scalar at 0x7f91f4056780>,\n",
       "  <dask.dataframe.core.Scalar at 0x7f91f4056b70>,\n",
       "  <dask.dataframe.core.Scalar at 0x7f91f4056f60>,\n",
       "  <dask.dataframe.core.Scalar at 0x7f91f407b390>,\n",
       "  <dask.dataframe.core.Scalar at 0x7f91f40c5f28>,\n",
       "  <dask.dataframe.core.Scalar at 0x7f91f407b588>,\n",
       "  <dask.dataframe.core.Scalar at 0x7f91f407b978>,\n",
       "  <dask.dataframe.core.Scalar at 0x7f91f407bd68>,\n",
       "  <dask.dataframe.core.Scalar at 0x7f91f30da198>,\n",
       "  <dask.dataframe.core.Scalar at 0x7f91f407b748>,\n",
       "  <dask.dataframe.core.Scalar at 0x7f91f30da390>,\n",
       "  <dask.dataframe.core.Scalar at 0x7f91f30da780>,\n",
       "  <dask.dataframe.core.Scalar at 0x7f91f30dab70>,\n",
       "  <dask.dataframe.core.Scalar at 0x7f91f30daf98>,\n",
       "  <dask.dataframe.core.Scalar at 0x7f91f30da5c0>,\n",
       "  <dask.dataframe.core.Scalar at 0x7f91f405c4e0>,\n",
       "  <dask.dataframe.core.Scalar at 0x7f91f30e34e0>,\n",
       "  <dask.dataframe.core.Scalar at 0x7f91f30e38d0>,\n",
       "  <dask.dataframe.core.Scalar at 0x7f91f30e3cc0>,\n",
       "  <dask.dataframe.core.Scalar at 0x7f91f30dad30>,\n",
       "  <dask.dataframe.core.Scalar at 0x7f91f30e3eb8>,\n",
       "  <dask.dataframe.core.Scalar at 0x7f91f3f5e2e8>,\n",
       "  <dask.dataframe.core.Scalar at 0x7f91f3f5e6d8>,\n",
       "  <dask.dataframe.core.Scalar at 0x7f91f3f5eac8>,\n",
       "  <dask.dataframe.core.Scalar at 0x7f91f30e3400>,\n",
       "  <dask.dataframe.core.Scalar at 0x7f91f3f5e208>,\n",
       "  <dask.dataframe.core.Scalar at 0x7f91f3f5ef98>,\n",
       "  <dask.dataframe.core.Scalar at 0x7f91f3f76438>,\n",
       "  <dask.dataframe.core.Scalar at 0x7f91f3f76828>,\n",
       "  <dask.dataframe.core.Scalar at 0x7f91f3f76c18>,\n",
       "  <dask.dataframe.core.Scalar at 0x7f91f3f76668>,\n",
       "  <dask.dataframe.core.Scalar at 0x7f91f3f76d68>,\n",
       "  <dask.dataframe.core.Scalar at 0x7f91f3f4d198>,\n",
       "  <dask.dataframe.core.Scalar at 0x7f91f3f4d588>,\n",
       "  <dask.dataframe.core.Scalar at 0x7f91f3f76e80>,\n",
       "  <dask.dataframe.core.Scalar at 0x7f91f3f4d908>,\n",
       "  <dask.dataframe.core.Scalar at 0x7f91f3f4dac8>,\n",
       "  <dask.dataframe.core.Scalar at 0x7f91f3f4deb8>,\n",
       "  <dask.dataframe.core.Scalar at 0x7f91f41152e8>,\n",
       "  <dask.dataframe.core.Scalar at 0x7f91f41156d8>,\n",
       "  <dask.dataframe.core.Scalar at 0x7f91f3f4d780>,\n",
       "  <dask.dataframe.core.Scalar at 0x7f91f4056400>,\n",
       "  <dask.dataframe.core.Scalar at 0x7f91f41155f8>,\n",
       "  <dask.dataframe.core.Scalar at 0x7f91f4115b70>,\n",
       "  <dask.dataframe.core.Scalar at 0x7f91f4115f60>,\n",
       "  <dask.dataframe.core.Scalar at 0x7f91f40e8748>,\n",
       "  <dask.dataframe.core.Scalar at 0x7f91f412d198>,\n",
       "  <dask.dataframe.core.Scalar at 0x7f91f412d588>,\n",
       "  <dask.dataframe.core.Scalar at 0x7f91f412d978>,\n",
       "  <dask.dataframe.core.Scalar at 0x7f91f412dd68>,\n",
       "  <dask.dataframe.core.Scalar at 0x7f91f3f5ec18>,\n",
       "  <dask.dataframe.core.Scalar at 0x7f91f412deb8>,\n",
       "  <dask.dataframe.core.Scalar at 0x7f91f3eda2e8>,\n",
       "  <dask.dataframe.core.Scalar at 0x7f91f3eda6d8>,\n",
       "  <dask.dataframe.core.Scalar at 0x7f91f3edaac8>,\n",
       "  <dask.dataframe.core.Scalar at 0x7f91f412d7b8>,\n",
       "  <dask.dataframe.core.Scalar at 0x7f91f3eda400>,\n",
       "  <dask.dataframe.core.Scalar at 0x7f91f3eda208>,\n",
       "  <dask.dataframe.core.Scalar at 0x7f91f3eda160>,\n",
       "  <dask.dataframe.core.Scalar at 0x7f91f3ee6208>,\n",
       "  <dask.dataframe.core.Scalar at 0x7f91f3ee6828>,\n",
       "  <dask.dataframe.core.Scalar at 0x7f91f3ee6c18>,\n",
       "  <dask.dataframe.core.Scalar at 0x7f91f3ee6f98>,\n",
       "  <dask.dataframe.core.Scalar at 0x7f91f415b438>,\n",
       "  <dask.dataframe.core.Scalar at 0x7f91f3ee6358>,\n",
       "  <dask.dataframe.core.Scalar at 0x7f91f415b588>,\n",
       "  <dask.dataframe.core.Scalar at 0x7f91f415b978>,\n",
       "  <dask.dataframe.core.Scalar at 0x7f91f415bd68>,\n",
       "  <dask.dataframe.core.Scalar at 0x7f91f412dac8>,\n",
       "  <dask.dataframe.core.Scalar at 0x7f91f415b710>,\n",
       "  <dask.dataframe.core.Scalar at 0x7f91f417e2e8>,\n",
       "  <dask.dataframe.core.Scalar at 0x7f91f417e6d8>,\n",
       "  <dask.dataframe.core.Scalar at 0x7f91f417eac8>,\n",
       "  <dask.dataframe.core.Scalar at 0x7f91f417ec88>,\n",
       "  <dask.dataframe.core.Scalar at 0x7f91f417e208>,\n",
       "  <dask.dataframe.core.Scalar at 0x7f91da80d198>,\n",
       "  <dask.dataframe.core.Scalar at 0x7f91da80d588>,\n",
       "  <dask.dataframe.core.Scalar at 0x7f91da80d978>,\n",
       "  <dask.dataframe.core.Scalar at 0x7f91f417eeb8>,\n",
       "  <dask.dataframe.core.Scalar at 0x7f91da80db70>,\n",
       "  <dask.dataframe.core.Scalar at 0x7f91da80df60>,\n",
       "  <dask.dataframe.core.Scalar at 0x7f91da81e390>,\n",
       "  <dask.dataframe.core.Scalar at 0x7f91da81e780>,\n",
       "  <dask.dataframe.core.Scalar at 0x7f91da80d6d8>,\n",
       "  <dask.dataframe.core.Scalar at 0x7f91da81e160>,\n",
       "  <dask.dataframe.core.Scalar at 0x7f91da81ecc0>,\n",
       "  <dask.dataframe.core.Scalar at 0x7f91da81edd8>,\n",
       "  <dask.dataframe.core.Scalar at 0x7f91da82f4e0>,\n",
       "  <dask.dataframe.core.Scalar at 0x7f91f417e5f8>,\n",
       "  <dask.dataframe.core.Scalar at 0x7f91da82f780>,\n",
       "  <dask.dataframe.core.Scalar at 0x7f91da82fb70>,\n",
       "  <dask.dataframe.core.Scalar at 0x7f91da82ff60>,\n",
       "  <dask.dataframe.core.Scalar at 0x7f91f31f9390>,\n",
       "  <dask.dataframe.core.Scalar at 0x7f91da82f668>,\n",
       "  <dask.dataframe.core.Scalar at 0x7f91f31f9588>,\n",
       "  <dask.dataframe.core.Scalar at 0x7f91f31f9978>,\n",
       "  <dask.dataframe.core.Scalar at 0x7f91f31f9d68>,\n",
       "  <dask.dataframe.core.Scalar at 0x7f91f31f5198>,\n",
       "  <dask.dataframe.core.Scalar at 0x7f91f31f9710>,\n",
       "  <dask.dataframe.core.Scalar at 0x7f91da82f908>,\n",
       "  <dask.dataframe.core.Scalar at 0x7f91f415bf28>,\n",
       "  <dask.dataframe.core.Scalar at 0x7f91f31f56d8>,\n",
       "  <dask.dataframe.core.Scalar at 0x7f91f31f5ac8>,\n",
       "  <dask.dataframe.core.Scalar at 0x7f91da80d898>,\n",
       "  <dask.dataframe.core.Scalar at 0x7f91f31f5898>,\n",
       "  <dask.dataframe.core.Scalar at 0x7f91f31f5f60>,\n",
       "  <dask.dataframe.core.Scalar at 0x7f91f31ea390>,\n",
       "  <dask.dataframe.core.Scalar at 0x7f91f31ea780>,\n",
       "  <dask.dataframe.core.Scalar at 0x7f91f31eab70>,\n",
       "  <dask.dataframe.core.Scalar at 0x7f91da82f400>,\n",
       "  <dask.dataframe.core.Scalar at 0x7f91f31eacc0>,\n",
       "  <dask.dataframe.core.Scalar at 0x7f91f31eadd8>,\n",
       "  <dask.dataframe.core.Scalar at 0x7f91f43484e0>,\n",
       "  <dask.dataframe.core.Scalar at 0x7f91f43488d0>,\n",
       "  <dask.dataframe.core.Scalar at 0x7f91f31eafd0>,\n",
       "  <dask.dataframe.core.Scalar at 0x7f91f4348ac8>,\n",
       "  <dask.dataframe.core.Scalar at 0x7f91f4348eb8>,\n",
       "  <dask.dataframe.core.Scalar at 0x7f91f43512e8>,\n",
       "  <dask.dataframe.core.Scalar at 0x7f91f4351710>,\n",
       "  <dask.dataframe.core.Scalar at 0x7f91f4348dd8>,\n",
       "  <dask.dataframe.core.Scalar at 0x7f91f43518d0>,\n",
       "  <dask.dataframe.core.Scalar at 0x7f91f4351cc0>,\n",
       "  <dask.dataframe.core.Scalar at 0x7f91f4351dd8>,\n",
       "  <dask.dataframe.core.Scalar at 0x7f91f43794e0>,\n",
       "  <dask.dataframe.core.Scalar at 0x7f91f4351080>,\n",
       "  <dask.dataframe.core.Scalar at 0x7f91f43796d8>,\n",
       "  <dask.dataframe.core.Scalar at 0x7f91f4379ac8>,\n",
       "  <dask.dataframe.core.Scalar at 0x7f91f4379eb8>,\n",
       "  <dask.dataframe.core.Scalar at 0x7f91f434d2e8>,\n",
       "  <dask.dataframe.core.Scalar at 0x7f91f4379400>,\n",
       "  <dask.dataframe.core.Scalar at 0x7f91f434d080>,\n",
       "  <dask.dataframe.core.Scalar at 0x7f91f434d8d0>,\n",
       "  <dask.dataframe.core.Scalar at 0x7f91f434dcc0>,\n",
       "  <dask.dataframe.core.Scalar at 0x7f91f434ddd8>,\n",
       "  <dask.dataframe.core.Scalar at 0x7f91f434da20>,\n",
       "  <dask.dataframe.core.Scalar at 0x7f91f31172e8>,\n",
       "  <dask.dataframe.core.Scalar at 0x7f91f31176d8>,\n",
       "  <dask.dataframe.core.Scalar at 0x7f91f3117ac8>,\n",
       "  <dask.dataframe.core.Scalar at 0x7f91f434d710>,\n",
       "  <dask.dataframe.core.Scalar at 0x7f91f3117908>,\n",
       "  <dask.dataframe.core.Scalar at 0x7f91f3117f98>,\n",
       "  <dask.dataframe.core.Scalar at 0x7f91f3111438>,\n",
       "  <dask.dataframe.core.Scalar at 0x7f91f3111828>,\n",
       "  <dask.dataframe.core.Scalar at 0x7f91f3117518>,\n",
       "  <dask.dataframe.core.Scalar at 0x7f91f31119b0>,\n",
       "  <dask.dataframe.core.Scalar at 0x7f91f3111da0>,\n",
       "  <dask.dataframe.core.Scalar at 0x7f91f312e1d0>,\n",
       "  <dask.dataframe.core.Scalar at 0x7f91f312e5c0>,\n",
       "  <dask.dataframe.core.Scalar at 0x7f91f312e9b0>,\n",
       "  <dask.dataframe.core.Scalar at 0x7f91f3111a20>,\n",
       "  <dask.dataframe.core.Scalar at 0x7f91f312eb00>,\n",
       "  <dask.dataframe.core.Scalar at 0x7f91f3111668>,\n",
       "  <dask.dataframe.core.Scalar at 0x7f91f312e710>,\n",
       "  <dask.dataframe.core.Scalar at 0x7f91f43a5550>,\n",
       "  <dask.dataframe.core.Scalar at 0x7f91f43a5be0>,\n",
       "  <dask.dataframe.core.Scalar at 0x7f91f43a5198>,\n",
       "  <dask.dataframe.core.Scalar at 0x7f91f312ed30>,\n",
       "  <dask.dataframe.core.Scalar at 0x7f91f31f55f8>,\n",
       "  <dask.dataframe.core.Scalar at 0x7f91f43a5f60>,\n",
       "  <dask.dataframe.core.Scalar at 0x7f91f43a50f0>,\n",
       "  <dask.dataframe.core.Scalar at 0x7f91f438c4e0>,\n",
       "  <dask.dataframe.core.Scalar at 0x7f91f31ea940>,\n",
       "  <dask.dataframe.core.Scalar at 0x7f91f438c7b8>,\n",
       "  <dask.dataframe.core.Scalar at 0x7f91f438cb70>,\n",
       "  <dask.dataframe.core.Scalar at 0x7f91f438cf98>,\n",
       "  <dask.dataframe.core.Scalar at 0x7f91f43ab390>,\n",
       "  <dask.dataframe.core.Scalar at 0x7f91f438cd30>,\n",
       "  <dask.dataframe.core.Scalar at 0x7f91f438c278>,\n",
       "  <dask.dataframe.core.Scalar at 0x7f91f43ab828>,\n",
       "  <dask.dataframe.core.Scalar at 0x7f91f43abc18>,\n",
       "  <dask.dataframe.core.Scalar at 0x7f91f43abf98>,\n",
       "  <dask.dataframe.core.Scalar at 0x7f91f3bba438>,\n",
       "  <dask.dataframe.core.Scalar at 0x7f91f43a5208>,\n",
       "  <dask.dataframe.core.Scalar at 0x7f91f3bba588>,\n",
       "  <dask.dataframe.core.Scalar at 0x7f91f3bba978>,\n",
       "  <dask.dataframe.core.Scalar at 0x7f91f3bbad68>,\n",
       "  <dask.dataframe.core.Scalar at 0x7f91f3bba748>,\n",
       "  <dask.dataframe.core.Scalar at 0x7f91f3bbaf98>,\n",
       "  <dask.dataframe.core.Scalar at 0x7f91f3b94438>,\n",
       "  <dask.dataframe.core.Scalar at 0x7f91f3b94828>,\n",
       "  <dask.dataframe.core.Scalar at 0x7f91f43ab630>,\n",
       "  <dask.dataframe.core.Scalar at 0x7f91f3b94b70>,\n",
       "  <dask.dataframe.core.Scalar at 0x7f91f3b94f60>,\n",
       "  <dask.dataframe.core.Scalar at 0x7f91f3b88390>,\n",
       "  <dask.dataframe.core.Scalar at 0x7f91f3b949e8>,\n",
       "  <dask.dataframe.core.Scalar at 0x7f91f3b88630>,\n",
       "  <dask.dataframe.core.Scalar at 0x7f91f3b88a20>,\n",
       "  <dask.dataframe.core.Scalar at 0x7f91f3b88e10>,\n",
       "  <dask.dataframe.core.Scalar at 0x7f91f3fad240>,\n",
       "  <dask.dataframe.core.Scalar at 0x7f91f3b881d0>,\n",
       "  <dask.dataframe.core.Scalar at 0x7f91f3fad4e0>,\n",
       "  <dask.dataframe.core.Scalar at 0x7f91f3fad8d0>,\n",
       "  <dask.dataframe.core.Scalar at 0x7f91f3fadcf8>,\n",
       "  <dask.dataframe.core.Scalar at 0x7f91f3fadc18>,\n",
       "  <dask.dataframe.core.Scalar at 0x7f91f3fadf98>,\n",
       "  <dask.dataframe.core.Scalar at 0x7f91f3fa73c8>,\n",
       "  <dask.dataframe.core.Scalar at 0x7f91f3fa7780>,\n",
       "  <dask.dataframe.core.Scalar at 0x7f91f3bba2e8>,\n",
       "  <dask.dataframe.core.Scalar at 0x7f91f3fa7358>,\n",
       "  <dask.dataframe.core.Scalar at 0x7f91f3fa7d68>,\n",
       "  <dask.dataframe.core.Scalar at 0x7f91f3f85198>,\n",
       "  <dask.dataframe.core.Scalar at 0x7f91f3f85588>,\n",
       "  <dask.dataframe.core.Scalar at 0x7f91f3fa7a90>,\n",
       "  <dask.dataframe.core.Scalar at 0x7f91f3f85828>,\n",
       "  <dask.dataframe.core.Scalar at 0x7f91f3f85c18>,\n",
       "  <dask.dataframe.core.Scalar at 0x7f91f3f85f98>,\n",
       "  <dask.dataframe.core.Scalar at 0x7f91f3aee438>,\n",
       "  <dask.dataframe.core.Scalar at 0x7f91f3f850b8>,\n",
       "  <dask.dataframe.core.Scalar at 0x7f91f3aee588>,\n",
       "  <dask.dataframe.core.Scalar at 0x7f91f3aee978>,\n",
       "  <dask.dataframe.core.Scalar at 0x7f91f3aeed68>,\n",
       "  <dask.dataframe.core.Scalar at 0x7f91f3af9198>,\n",
       "  <dask.dataframe.core.Scalar at 0x7f91f3aee710>,\n",
       "  <dask.dataframe.core.Scalar at 0x7f91f3fad0b8>,\n",
       "  <dask.dataframe.core.Scalar at 0x7f91f3af9390>,\n",
       "  <dask.dataframe.core.Scalar at 0x7f91f3af9780>,\n",
       "  <dask.dataframe.core.Scalar at 0x7f91f3af9b70>,\n",
       "  <dask.dataframe.core.Scalar at 0x7f91f3af9f60>,\n",
       "  <dask.dataframe.core.Scalar at 0x7f91f3b94748>,\n",
       "  <dask.dataframe.core.Scalar at 0x7f91f3ac31d0>,\n",
       "  <dask.dataframe.core.Scalar at 0x7f91f3ac35c0>,\n",
       "  <dask.dataframe.core.Scalar at 0x7f91f3ac39b0>,\n",
       "  <dask.dataframe.core.Scalar at 0x7f91f3af9d30>,\n",
       "  <dask.dataframe.core.Scalar at 0x7f91f3ac30f0>,\n",
       "  <dask.dataframe.core.Scalar at 0x7f91f3ac3eb8>,\n",
       "  <dask.dataframe.core.Scalar at 0x7f91f32f62e8>,\n",
       "  <dask.dataframe.core.Scalar at 0x7f91f32f66d8>,\n",
       "  <dask.dataframe.core.Scalar at 0x7f91f3ac37f0>,\n",
       "  <dask.dataframe.core.Scalar at 0x7f91f32f68d0>,\n",
       "  <dask.dataframe.core.Scalar at 0x7f91f32f6cc0>,\n",
       "  <dask.dataframe.core.Scalar at 0x7f91f32f6dd8>,\n",
       "  <dask.dataframe.core.Scalar at 0x7f91f32e34e0>,\n",
       "  <dask.dataframe.core.Scalar at 0x7f91f32f6898>,\n",
       "  <dask.dataframe.core.Scalar at 0x7f91f32e3278>,\n",
       "  <dask.dataframe.core.Scalar at 0x7f91f32e3a20>,\n",
       "  <dask.dataframe.core.Scalar at 0x7f91f32e3e10>,\n",
       "  <dask.dataframe.core.Scalar at 0x7f91f32f4240>,\n",
       "  <dask.dataframe.core.Scalar at 0x7f91f32f4668>,\n",
       "  <dask.dataframe.core.Scalar at 0x7f91f32e3860>,\n",
       "  <dask.dataframe.core.Scalar at 0x7f91f32f46d8>,\n",
       "  <dask.dataframe.core.Scalar at 0x7f91f32f4ac8>,\n",
       "  <dask.dataframe.core.Scalar at 0x7f91f32f4eb8>,\n",
       "  <dask.dataframe.core.Scalar at 0x7f91f32f4cf8>,\n",
       "  <dask.dataframe.core.Scalar at 0x7f91f32e3f60>,\n",
       "  <dask.dataframe.core.Scalar at 0x7f91f32d7438>,\n",
       "  <dask.dataframe.core.Scalar at 0x7f91f32d7828>,\n",
       "  <dask.dataframe.core.Scalar at 0x7f91f32d7c18>,\n",
       "  <dask.dataframe.core.Scalar at 0x7f91f32d7fd0>,\n",
       "  <dask.dataframe.core.Scalar at 0x7f91f32d75f8>,\n",
       "  <dask.dataframe.core.Scalar at 0x7f91f32d7d68>,\n",
       "  <dask.dataframe.core.Scalar at 0x7f91f38e9588>,\n",
       "  <dask.dataframe.core.Scalar at 0x7f91f38e99b0>,\n",
       "  <dask.dataframe.core.Scalar at 0x7f91f38e9da0>,\n",
       "  <dask.dataframe.core.Scalar at 0x7f91f32f4400>,\n",
       "  <dask.dataframe.core.Scalar at 0x7f91f38e92b0>,\n",
       "  <dask.dataframe.core.Scalar at 0x7f91f38eb2e8>,\n",
       "  <dask.dataframe.core.Scalar at 0x7f91f38eb710>,\n",
       "  <dask.dataframe.core.Scalar at 0x7f91f38ebb00>,\n",
       "  <dask.dataframe.core.Scalar at 0x7f91f38e94a8>,\n",
       "  <dask.dataframe.core.Scalar at 0x7f91f38ebcc0>,\n",
       "  <dask.dataframe.core.Scalar at 0x7f91f38ebdd8>,\n",
       "  <dask.dataframe.core.Scalar at 0x7f91f38f24e0>,\n",
       "  <dask.dataframe.core.Scalar at 0x7f91f38f28d0>,\n",
       "  <dask.dataframe.core.Scalar at 0x7f91f38eb438>,\n",
       "  <dask.dataframe.core.Scalar at 0x7f91f38f2400>,\n",
       "  <dask.dataframe.core.Scalar at 0x7f91f38f2e48>,\n",
       "  <dask.dataframe.core.Scalar at 0x7f91f36f5240>,\n",
       "  <dask.dataframe.core.Scalar at 0x7f91f36f5630>,\n",
       "  <dask.dataframe.core.Scalar at 0x7f91f36f5a20>,\n",
       "  <dask.dataframe.core.Scalar at 0x7f91f38eb630>,\n",
       "  <dask.dataframe.core.Scalar at 0x7f91f36f5b70>,\n",
       "  <dask.dataframe.core.Scalar at 0x7f91f36f5f60>,\n",
       "  <dask.dataframe.core.Scalar at 0x7f91f36ef6d8>,\n",
       "  <dask.dataframe.core.Scalar at 0x7f91f36ef5c0>,\n",
       "  <dask.dataframe.core.Scalar at 0x7f91f38f2f60>,\n",
       "  <dask.dataframe.core.Scalar at 0x7f91f3af9898>,\n",
       "  <dask.dataframe.core.Scalar at 0x7f91f36ef2e8>,\n",
       "  <dask.dataframe.core.Scalar at 0x7f91f36ef588>,\n",
       "  <dask.dataframe.core.Scalar at 0x7f91f36c8198>,\n",
       "  <dask.dataframe.core.Scalar at 0x7f91f32f65f8>,\n",
       "  <dask.dataframe.core.Scalar at 0x7f91f38e9cc0>,\n",
       "  <dask.dataframe.core.Scalar at 0x7f91f36c86d8>,\n",
       "  <dask.dataframe.core.Scalar at 0x7f91f36c8ac8>,\n",
       "  <dask.dataframe.core.Scalar at 0x7f91f36c8eb8>,\n",
       "  <dask.dataframe.core.Scalar at 0x7f91f36c8c18>,\n",
       "  <dask.dataframe.core.Scalar at 0x7f91f38eba20>,\n",
       "  <dask.dataframe.core.Scalar at 0x7f91f36f4390>,\n",
       "  <dask.dataframe.core.Scalar at 0x7f91f36f4780>,\n",
       "  <dask.dataframe.core.Scalar at 0x7f91f36f4b70>,\n",
       "  <dask.dataframe.core.Scalar at 0x7f91f36f42b0>,\n",
       "  <dask.dataframe.core.Scalar at 0x7f91f36f4e10>,\n",
       "  <dask.dataframe.core.Scalar at 0x7f91f39d6240>,\n",
       "  <dask.dataframe.core.Scalar at 0x7f91f39d6630>,\n",
       "  <dask.dataframe.core.Scalar at 0x7f91f36f49b0>,\n",
       "  <dask.dataframe.core.Scalar at 0x7f91f39d68d0>,\n",
       "  <dask.dataframe.core.Scalar at 0x7f91f39d6cc0>,\n",
       "  <dask.dataframe.core.Scalar at 0x7f91f39d6dd8>,\n",
       "  <dask.dataframe.core.Scalar at 0x7f91f39f14e0>,\n",
       "  <dask.dataframe.core.Scalar at 0x7f91f39d6390>,\n",
       "  <dask.dataframe.core.Scalar at 0x7f91f39f16d8>,\n",
       "  <dask.dataframe.core.Scalar at 0x7f91f39f1ac8>,\n",
       "  <dask.dataframe.core.Scalar at 0x7f91f39f1eb8>,\n",
       "  <dask.dataframe.core.Scalar at 0x7f91f39c92e8>,\n",
       "  <dask.dataframe.core.Scalar at 0x7f91f39f1320>,\n",
       "  <dask.dataframe.core.Scalar at 0x7f91f39c94e0>,\n",
       "  <dask.dataframe.core.Scalar at 0x7f91f39c98d0>,\n",
       "  <dask.dataframe.core.Scalar at 0x7f91f39c9cf8>,\n",
       "  <dask.dataframe.core.Scalar at 0x7f91f39c9dd8>,\n",
       "  <dask.dataframe.core.Scalar at 0x7f91f39c9a58>,\n",
       "  <dask.dataframe.core.Scalar at 0x7f91f39f1c88>,\n",
       "  <dask.dataframe.core.Scalar at 0x7f91f3a58630>,\n",
       "  <dask.dataframe.core.Scalar at 0x7f91f3a58a20>,\n",
       "  <dask.dataframe.core.Scalar at 0x7f91f3a58e10>,\n",
       "  <dask.dataframe.core.Scalar at 0x7f91f3a5f358>,\n",
       "  <dask.dataframe.core.Scalar at 0x7f91f3a58160>,\n",
       "  <dask.dataframe.core.Scalar at 0x7f91f3a5f6d8>,\n",
       "  <dask.dataframe.core.Scalar at 0x7f91f3a5fcc0>,\n",
       "  <dask.dataframe.core.Scalar at 0x7f91f3a5fcf8>,\n",
       "  <dask.dataframe.core.Scalar at 0x7f91f3a5f208>,\n",
       "  <dask.dataframe.core.Scalar at 0x7f91f3a58d30>,\n",
       "  <dask.dataframe.core.Scalar at 0x7f91f3a5fb00>,\n",
       "  <dask.dataframe.core.Scalar at 0x7f91f3a464e0>,\n",
       "  <dask.dataframe.core.Scalar at 0x7f91f3a468d0>,\n",
       "  <dask.dataframe.core.Scalar at 0x7f91f3a46cc0>,\n",
       "  <dask.dataframe.core.Scalar at 0x7f91f3a466a0>,\n",
       "  <dask.dataframe.core.Scalar at 0x7f91f3a5fac8>,\n",
       "  <dask.dataframe.core.Scalar at 0x7f91f32ab320>,\n",
       "  <dask.dataframe.core.Scalar at 0x7f91f32ab6d8>,\n",
       "  <dask.dataframe.core.Scalar at 0x7f91f3a46e10>,\n",
       "  <dask.dataframe.core.Scalar at 0x7f91f32ab978>,\n",
       "  <dask.dataframe.core.Scalar at 0x7f91f32abd68>,\n",
       "  <dask.dataframe.core.Scalar at 0x7f91f32a9908>,\n",
       "  <dask.dataframe.core.Scalar at 0x7f91f32a9080>,\n",
       "  <dask.dataframe.core.Scalar at 0x7f91f32ab438>,\n",
       "  <dask.dataframe.core.Scalar at 0x7f91f3a58358>,\n",
       "  <dask.dataframe.core.Scalar at 0x7f91f32a9f60>,\n",
       "  <dask.dataframe.core.Scalar at 0x7f91f32a9a20>,\n",
       "  <dask.dataframe.core.Scalar at 0x7f91f32a9278>,\n",
       "  <dask.dataframe.core.Scalar at 0x7f91f32a9ef0>,\n",
       "  <dask.dataframe.core.Scalar at 0x7f91f3a46dd8>,\n",
       "  <dask.dataframe.core.Scalar at 0x7f91f3292390>,\n",
       "  <dask.dataframe.core.Scalar at 0x7f91f3292780>,\n",
       "  <dask.dataframe.core.Scalar at 0x7f91f3292b70>,\n",
       "  <dask.dataframe.core.Scalar at 0x7f91f3292f60>,\n",
       "  <dask.dataframe.core.Scalar at 0x7f91f3292908>,\n",
       "  <dask.dataframe.core.Scalar at 0x7f91f3292c88>,\n",
       "  <dask.dataframe.core.Scalar at 0x7f91f32804e0>,\n",
       "  <dask.dataframe.core.Scalar at 0x7f91f32808d0>,\n",
       "  <dask.dataframe.core.Scalar at 0x7f91f3280cc0>,\n",
       "  <dask.dataframe.core.Scalar at 0x7f91f32a97b8>,\n",
       "  <dask.dataframe.core.Scalar at 0x7f91f3280e10>,\n",
       "  <dask.dataframe.core.Scalar at 0x7f91f56da240>,\n",
       "  <dask.dataframe.core.Scalar at 0x7f91f56da630>,\n",
       "  <dask.dataframe.core.Scalar at 0x7f91f56daa20>,\n",
       "  <dask.dataframe.core.Scalar at 0x7f91f3292cc0>,\n",
       "  <dask.dataframe.core.Scalar at 0x7f91f56dac18>,\n",
       "  <dask.dataframe.core.Scalar at 0x7f91f56daf98>,\n",
       "  <dask.dataframe.core.Scalar at 0x7f91f56ff438>,\n",
       "  <dask.dataframe.core.Scalar at 0x7f91f56ff828>,\n",
       "  <dask.dataframe.core.Scalar at 0x7f91f56daf28>,\n",
       "  <dask.dataframe.core.Scalar at 0x7f91f56ff358>,\n",
       "  <dask.dataframe.core.Scalar at 0x7f91f56ffe10>,\n",
       "  <dask.dataframe.core.Scalar at 0x7f91f56ee240>,\n",
       "  <dask.dataframe.core.Scalar at 0x7f91f56ee630>,\n",
       "  <dask.dataframe.core.Scalar at 0x7f91f56ffb70>,\n",
       "  <dask.dataframe.core.Scalar at 0x7f91f56ee470>,\n",
       "  <dask.dataframe.core.Scalar at 0x7f91f56eeb70>,\n",
       "  <dask.dataframe.core.Scalar at 0x7f91f56eef60>,\n",
       "  <dask.dataframe.core.Scalar at 0x7f91f56dd3c8>,\n",
       "  <dask.dataframe.core.Scalar at 0x7f91f56dd7b8>,\n",
       "  <dask.dataframe.core.Scalar at 0x7f91f56eecf8>,\n",
       "  <dask.dataframe.core.Scalar at 0x7f91f56dd908>,\n",
       "  <dask.dataframe.core.Scalar at 0x7f91f56ddcf8>,\n",
       "  <dask.dataframe.core.Scalar at 0x7f91f56dddd8>,\n",
       "  <dask.dataframe.core.Scalar at 0x7f91f56ddfd0>,\n",
       "  <dask.dataframe.core.Scalar at 0x7f91f56eeda0>,\n",
       "  <dask.dataframe.core.Scalar at 0x7f91f3a31630>,\n",
       "  <dask.dataframe.core.Scalar at 0x7f91f3a31a20>,\n",
       "  <dask.dataframe.core.Scalar at 0x7f91f3a31e10>,\n",
       "  <dask.dataframe.core.Scalar at 0x7f91f3a31780>,\n",
       "  <dask.dataframe.core.Scalar at 0x7f91f56ddb70>,\n",
       "  <dask.dataframe.core.Scalar at 0x7f91f3a0b438>,\n",
       "  <dask.dataframe.core.Scalar at 0x7f91f3a0b828>,\n",
       "  <dask.dataframe.core.Scalar at 0x7f91f3a0bc18>,\n",
       "  <dask.dataframe.core.Scalar at 0x7f91f3a0b358>,\n",
       "  <dask.dataframe.core.Scalar at 0x7f91f3a0beb8>,\n",
       "  <dask.dataframe.core.Scalar at 0x7f91f3a152e8>,\n",
       "  <dask.dataframe.core.Scalar at 0x7f91f3a156d8>,\n",
       "  <dask.dataframe.core.Scalar at 0x7f91f3a15ac8>,\n",
       "  <dask.dataframe.core.Scalar at 0x7f91f3a0ba90>,\n",
       "  <dask.dataframe.core.Scalar at 0x7f91f3a15048>,\n",
       "  <dask.dataframe.core.Scalar at 0x7f91f3a15f98>,\n",
       "  <dask.dataframe.core.Scalar at 0x7f91f362d438>,\n",
       "  <dask.dataframe.core.Scalar at 0x7f91f362d828>,\n",
       "  <dask.dataframe.core.Scalar at 0x7f91f3a15908>,\n",
       "  <dask.dataframe.core.Scalar at 0x7f91f3292dd8>,\n",
       "  <dask.dataframe.core.Scalar at 0x7f91f362da20>,\n",
       "  <dask.dataframe.core.Scalar at 0x7f91f362de10>,\n",
       "  <dask.dataframe.core.Scalar at 0x7f91f3629240>,\n",
       "  <dask.dataframe.core.Scalar at 0x7f91f362d2b0>,\n",
       "  <dask.dataframe.core.Scalar at 0x7f91f56ee780>,\n",
       "  <dask.dataframe.core.Scalar at 0x7f91f3629780>,\n",
       "  <dask.dataframe.core.Scalar at 0x7f91f3629b70>,\n",
       "  <dask.dataframe.core.Scalar at 0x7f91f36294e0>,\n",
       "  <dask.dataframe.core.Scalar at 0x7f91f3629eb8>,\n",
       "  <dask.dataframe.core.Scalar at 0x7f91f361b2e8>,\n",
       "  <dask.dataframe.core.Scalar at 0x7f91f361b6d8>,\n",
       "  <dask.dataframe.core.Scalar at 0x7f91f361bac8>,\n",
       "  <dask.dataframe.core.Scalar at 0x7f91f3a15f28>,\n",
       "  <dask.dataframe.core.Scalar at 0x7f91f361b4a8>,\n",
       "  <dask.dataframe.core.Scalar at 0x7f91f361bf98>,\n",
       "  <dask.dataframe.core.Scalar at 0x7f91f3153438>,\n",
       "  <dask.dataframe.core.Scalar at 0x7f91f3153828>,\n",
       "  <dask.dataframe.core.Scalar at 0x7f91f361bdd8>,\n",
       "  <dask.dataframe.core.Scalar at 0x7f91f3153358>,\n",
       "  <dask.dataframe.core.Scalar at 0x7f91f3153da0>,\n",
       "  <dask.dataframe.core.Scalar at 0x7f91f31711d0>,\n",
       "  <dask.dataframe.core.Scalar at 0x7f91f3153ef0>,\n",
       "  <dask.dataframe.core.Scalar at 0x7f91f3171588>,\n",
       "  <dask.dataframe.core.Scalar at 0x7f91f3171828>,\n",
       "  <dask.dataframe.core.Scalar at 0x7f91f3171c18>,\n",
       "  <dask.dataframe.core.Scalar at 0x7f91f3171f98>,\n",
       "  <dask.dataframe.core.Scalar at 0x7f91f3171f28>,\n",
       "  <dask.dataframe.core.Scalar at 0x7f91f3153b00>,\n",
       "  <dask.dataframe.core.Scalar at 0x7f91f314e5c0>,\n",
       "  <dask.dataframe.core.Scalar at 0x7f91f314e978>,\n",
       "  <dask.dataframe.core.Scalar at 0x7f91f314ed68>,\n",
       "  <dask.dataframe.core.Scalar at 0x7f91f5e74198>,\n",
       "  <dask.dataframe.core.Scalar at 0x7f91f314e748>,\n",
       "  <dask.dataframe.core.Scalar at 0x7f91f314e710>,\n",
       "  <dask.dataframe.core.Scalar at 0x7f91f5e746d8>,\n",
       "  <dask.dataframe.core.Scalar at 0x7f91f5e74ac8>,\n",
       "  <dask.dataframe.core.Scalar at 0x7f91f5e74eb8>,\n",
       "  <dask.dataframe.core.Scalar at 0x7f91f5e74438>,\n",
       "  <dask.dataframe.core.Scalar at 0x7f91f3171320>,\n",
       "  <dask.dataframe.core.Scalar at 0x7f91f5e4e438>,\n",
       "  <dask.dataframe.core.Scalar at 0x7f91f5e4e828>,\n",
       "  <dask.dataframe.core.Scalar at 0x7f91f5e4ec18>,\n",
       "  <dask.dataframe.core.Scalar at 0x7f91f5e74fd0>,\n",
       "  <dask.dataframe.core.Scalar at 0x7f91f5e4e1d0>,\n",
       "  <dask.dataframe.core.Scalar at 0x7f91f5e4b198>,\n",
       "  <dask.dataframe.core.Scalar at 0x7f91f5e4b588>,\n",
       "  <dask.dataframe.core.Scalar at 0x7f91f5e4e5f8>,\n",
       "  <dask.dataframe.core.Scalar at 0x7f91f5e4b8d0>,\n",
       "  <dask.dataframe.core.Scalar at 0x7f91f5e4bcc0>,\n",
       "  <dask.dataframe.core.Scalar at 0x7f91f5e4bdd8>,\n",
       "  <dask.dataframe.core.Scalar at 0x7f91f5e724e0>,\n",
       "  <dask.dataframe.core.Scalar at 0x7f91f5e4b2e8>,\n",
       "  <dask.dataframe.core.Scalar at 0x7f91f5e72710>,\n",
       "  <dask.dataframe.core.Scalar at 0x7f91f5e72ac8>,\n",
       "  <dask.dataframe.core.Scalar at 0x7f91f5e4b4a8>,\n",
       "  <dask.dataframe.core.Scalar at 0x7f91f5e72860>,\n",
       "  <dask.dataframe.core.Scalar at 0x7f91f5e72eb8>,\n",
       "  <dask.dataframe.core.Scalar at 0x7f91f358a2e8>,\n",
       "  <dask.dataframe.core.Scalar at 0x7f91f358a6d8>,\n",
       "  <dask.dataframe.core.Scalar at 0x7f91f5e72cf8>,\n",
       "  <dask.dataframe.core.Scalar at 0x7f91f358a8d0>,\n",
       "  <dask.dataframe.core.Scalar at 0x7f91f358acc0>,\n",
       "  <dask.dataframe.core.Scalar at 0x7f91f358add8>,\n",
       "  <dask.dataframe.core.Scalar at 0x7f91f35a84e0>,\n",
       "  <dask.dataframe.core.Scalar at 0x7f91f358a080>,\n",
       "  <dask.dataframe.core.Scalar at 0x7f91f35a86d8>,\n",
       "  <dask.dataframe.core.Scalar at 0x7f91f35a8ac8>,\n",
       "  <dask.dataframe.core.Scalar at 0x7f91f35a8eb8>,\n",
       "  <dask.dataframe.core.Scalar at 0x7f91f35bc2e8>,\n",
       "  <dask.dataframe.core.Scalar at 0x7f91f35a85f8>,\n",
       "  <dask.dataframe.core.Scalar at 0x7f91f35bc4e0>,\n",
       "  <dask.dataframe.core.Scalar at 0x7f91f35bc8d0>,\n",
       "  <dask.dataframe.core.Scalar at 0x7f91f35bccc0>,\n",
       "  <dask.dataframe.core.Scalar at 0x7f91f35bcdd8>,\n",
       "  <dask.dataframe.core.Scalar at 0x7f91f35bca20>,\n",
       "  <dask.dataframe.core.Scalar at 0x7f91f35a8dd8>,\n",
       "  <dask.dataframe.core.Scalar at 0x7f91f3b3e630>,\n",
       "  <dask.dataframe.core.Scalar at 0x7f91f3b3ea20>,\n",
       "  <dask.dataframe.core.Scalar at 0x7f91f3b3ee10>,\n",
       "  <dask.dataframe.core.Scalar at 0x7f91f3b1e240>,\n",
       "  <dask.dataframe.core.Scalar at 0x7f91f3b3e390>,\n",
       "  <dask.dataframe.core.Scalar at 0x7f91f3b1e390>,\n",
       "  <dask.dataframe.core.Scalar at 0x7f91f3b1e780>,\n",
       "  <dask.dataframe.core.Scalar at 0x7f91f3b1eb70>,\n",
       "  <dask.dataframe.core.Scalar at 0x7f91f3b1ef60>,\n",
       "  <dask.dataframe.core.Scalar at 0x7f91f3b1e5c0>,\n",
       "  <dask.dataframe.core.Scalar at 0x7f91f3b3ebe0>,\n",
       "  <dask.dataframe.core.Scalar at 0x7f91f3b3f4e0>,\n",
       "  <dask.dataframe.core.Scalar at 0x7f91f3b3f8d0>,\n",
       "  <dask.dataframe.core.Scalar at 0x7f91f3b3fcc0>,\n",
       "  <dask.dataframe.core.Scalar at 0x7f91f3b1eda0>,\n",
       "  <dask.dataframe.core.Scalar at 0x7f91f3b3feb8>,\n",
       "  <dask.dataframe.core.Scalar at 0x7f91f35742e8>,\n",
       "  <dask.dataframe.core.Scalar at 0x7f91f35746d8>,\n",
       "  <dask.dataframe.core.Scalar at 0x7f91f3574ac8>,\n",
       "  <dask.dataframe.core.Scalar at 0x7f91f3b3f400>,\n",
       "  <dask.dataframe.core.Scalar at 0x7f91f3574208>,\n",
       "  <dask.dataframe.core.Scalar at 0x7f91f3574f98>,\n",
       "  <dask.dataframe.core.Scalar at 0x7f91f354e438>,\n",
       "  <dask.dataframe.core.Scalar at 0x7f91f354e828>,\n",
       "  <dask.dataframe.core.Scalar at 0x7f91f3574e48>,\n",
       "  <dask.dataframe.core.Scalar at 0x7f91f354eac8>,\n",
       "  <dask.dataframe.core.Scalar at 0x7f91f354eeb8>,\n",
       "  <dask.dataframe.core.Scalar at 0x7f91f35672e8>,\n",
       "  <dask.dataframe.core.Scalar at 0x7f91f35676d8>,\n",
       "  <dask.dataframe.core.Scalar at 0x7f91f354ecf8>,\n",
       "  <dask.dataframe.core.Scalar at 0x7f91f3567828>,\n",
       "  <dask.dataframe.core.Scalar at 0x7f91f3567c18>,\n",
       "  <dask.dataframe.core.Scalar at 0x7f91f3567f98>,\n",
       "  <dask.dataframe.core.Scalar at 0x7f91f3565438>,\n",
       "  <dask.dataframe.core.Scalar at 0x7f91f3567518>,\n",
       "  <dask.dataframe.core.Scalar at 0x7f91f3565588>,\n",
       "  <dask.dataframe.core.Scalar at 0x7f91f3565978>,\n",
       "  <dask.dataframe.core.Scalar at 0x7f91f3565d68>,\n",
       "  <dask.dataframe.core.Scalar at 0x7f91f3567940>,\n",
       "  <dask.dataframe.core.Scalar at 0x7f91f3574c18>,\n",
       "  <dask.dataframe.core.Scalar at 0x7f91f3565f60>,\n",
       "  <dask.dataframe.core.Scalar at 0x7f91f33b3390>,\n",
       "  <dask.dataframe.core.Scalar at 0x7f91f33b3780>,\n",
       "  <dask.dataframe.core.Scalar at 0x7f91f3567e48>,\n",
       "  <dask.dataframe.core.Scalar at 0x7f91f33b3978>,\n",
       "  <dask.dataframe.core.Scalar at 0x7f91f33b3d68>,\n",
       "  <dask.dataframe.core.Scalar at 0x7f91f3397198>,\n",
       "  <dask.dataframe.core.Scalar at 0x7f91f3397588>,\n",
       "  <dask.dataframe.core.Scalar at 0x7f91f33b3898>,\n",
       "  <dask.dataframe.core.Scalar at 0x7f91f33973c8>,\n",
       "  <dask.dataframe.core.Scalar at 0x7f91f3397ac8>,\n",
       "  <dask.dataframe.core.Scalar at 0x7f91f3397eb8>,\n",
       "  <dask.dataframe.core.Scalar at 0x7f91f33982e8>,\n",
       "  <dask.dataframe.core.Scalar at 0x7f91f3397748>,\n",
       "  <dask.dataframe.core.Scalar at 0x7f91f3398588>,\n",
       "  <dask.dataframe.core.Scalar at 0x7f91f3398978>,\n",
       "  <dask.dataframe.core.Scalar at 0x7f91f3398da0>,\n",
       "  <dask.dataframe.core.Scalar at 0x7f91f57c91d0>,\n",
       "  <dask.dataframe.core.Scalar at 0x7f91f3398be0>,\n",
       "  <dask.dataframe.core.Scalar at 0x7f91f3397c88>,\n",
       "  <dask.dataframe.core.Scalar at 0x7f91f57c96d8>,\n",
       "  ...],)"
      ]
     },
     "execution_count": 63,
     "metadata": {},
     "output_type": "execute_result"
    }
   ],
   "source": [
    "dd.compute(ddfs.datasets)"
   ]
  },
  {
   "cell_type": "code",
   "execution_count": 46,
   "metadata": {
    "collapsed": false
   },
   "outputs": [
    {
     "data": {
      "text/plain": [
       "('GPT/PRA', Delayed('mean_column-7db88a75-7277-4540-8214-19067dfd04dd'))"
      ]
     },
     "execution_count": 46,
     "metadata": {},
     "output_type": "execute_result"
    }
   ],
   "source": [
    "next(iter(ddfs.datasets.items()))"
   ]
  },
  {
   "cell_type": "code",
   "execution_count": 47,
   "metadata": {
    "collapsed": true
   },
   "outputs": [],
   "source": [
    "from dask import multiprocessing as mp"
   ]
  },
  {
   "cell_type": "code",
   "execution_count": 49,
   "metadata": {
    "collapsed": false
   },
   "outputs": [
    {
     "data": {
      "text/plain": [
       "Delayed('mean_column-7db88a75-7277-4540-8214-19067dfd04dd')"
      ]
     },
     "execution_count": 49,
     "metadata": {},
     "output_type": "execute_result"
    }
   ],
   "source": [
    "mp.get(ddfs.datasets, 'GPT/PRA')"
   ]
  },
  {
   "cell_type": "code",
   "execution_count": 34,
   "metadata": {
    "collapsed": true
   },
   "outputs": [],
   "source": [
    "computed_ds = dd.compute(ddfs.datasets)"
   ]
  },
  {
   "cell_type": "code",
   "execution_count": 55,
   "metadata": {
    "collapsed": false
   },
   "outputs": [],
   "source": [
    "import dask"
   ]
  },
  {
   "cell_type": "code",
   "execution_count": 56,
   "metadata": {
    "collapsed": true
   },
   "outputs": [],
   "source": [
    "dask.compute?"
   ]
  },
  {
   "cell_type": "code",
   "execution_count": 36,
   "metadata": {
    "collapsed": false
   },
   "outputs": [
    {
     "data": {
      "text/plain": [
       "('A/no_suffix', 57.60852492511026)"
      ]
     },
     "execution_count": 36,
     "metadata": {},
     "output_type": "execute_result"
    }
   ],
   "source": [
    "ddfs.datasets[0].compute()"
   ]
  },
  {
   "cell_type": "code",
   "execution_count": 81,
   "metadata": {
    "collapsed": false
   },
   "outputs": [
    {
     "name": "stdout",
     "output_type": "stream",
     "text": [
      "CPU times: user 3.29 ms, sys: 1.87 ms, total: 5.17 ms\n",
      "Wall time: 4.66 ms\n"
     ]
    }
   ],
   "source": [
    "%%time\n",
    "ddfs.compute_mean()"
   ]
  },
  {
   "cell_type": "code",
   "execution_count": 83,
   "metadata": {
    "collapsed": false
   },
   "outputs": [
    {
     "name": "stderr",
     "output_type": "stream",
     "text": [
      "Exception ignored in: 'h5py._objects.ObjectID.__dealloc__'\n",
      "KeyError: 139656117072712\n",
      "Traceback (most recent call last):\n",
      "  File \"h5py/_objects.pyx\", line 197, in h5py._objects.ObjectID.__dealloc__ (-------src-dir-------/h5py/_objects.c:4494)\n",
      "Exception ignored in: 'h5py._objects.ObjectID.__dealloc__'\n",
      "Traceback (most recent call last):\n",
      "  File \"h5py/_objects.pyx\", line 197, in h5py._objects.ObjectID.__dealloc__ (-------src-dir-------/h5py/_objects.c:4494)\n",
      "KeyError: 139656117072712\n",
      "Exception ignored in: 'h5py._objects.ObjectID.__dealloc__'\n",
      "Traceback (most recent call last):\n",
      "  File \"h5py/_objects.pyx\", line 197, in h5py._objects.ObjectID.__dealloc__ (-------src-dir-------/h5py/_objects.c:4494)\n",
      "KeyError: 139656117072712\n",
      "Exception ignored in: 'h5py._objects.ObjectID.__dealloc__'\n",
      "Traceback (most recent call last):\n",
      "  File \"h5py/_objects.pyx\", line 197, in h5py._objects.ObjectID.__dealloc__ (-------src-dir-------/h5py/_objects.c:4494)\n",
      "KeyError: 139656117072712\n",
      "Exception ignored in: 'h5py._objects.ObjectID.__dealloc__'\n",
      "Traceback (most recent call last):\n",
      "  File \"h5py/_objects.pyx\", line 197, in h5py._objects.ObjectID.__dealloc__ (-------src-dir-------/h5py/_objects.c:4494)\n",
      "KeyError: 139656117072712\n",
      "Exception ignored in: 'h5py._objects.ObjectID.__dealloc__'\n",
      "Traceback (most recent call last):\n",
      "  File \"h5py/_objects.pyx\", line 197, in h5py._objects.ObjectID.__dealloc__ (-------src-dir-------/h5py/_objects.c:4494)\n",
      "KeyError: 139656117072712\n",
      "Exception ignored in: 'h5py._objects.ObjectID.__dealloc__'\n",
      "Traceback (most recent call last):\n",
      "  File \"h5py/_objects.pyx\", line 197, in h5py._objects.ObjectID.__dealloc__ (-------src-dir-------/h5py/_objects.c:4494)\n",
      "KeyError: 139656117072712\n",
      "Exception ignored in: 'h5py._objects.ObjectID.__dealloc__'\n",
      "Traceback (most recent call last):\n",
      "  File \"h5py/_objects.pyx\", line 197, in h5py._objects.ObjectID.__dealloc__ (-------src-dir-------/h5py/_objects.c:4494)\n",
      "KeyError: 139656117072712\n",
      "Exception ignored in: 'h5py._objects.ObjectID.__dealloc__'\n",
      "Traceback (most recent call last):\n",
      "  File \"h5py/_objects.pyx\", line 197, in h5py._objects.ObjectID.__dealloc__ (-------src-dir-------/h5py/_objects.c:4494)\n",
      "KeyError: 139656117072712\n",
      "Exception ignored in: 'h5py._objects.ObjectID.__dealloc__'\n",
      "Traceback (most recent call last):\n",
      "  File \"h5py/_objects.pyx\", line 197, in h5py._objects.ObjectID.__dealloc__ (-------src-dir-------/h5py/_objects.c:4494)\n",
      "KeyError: 139656117072712\n",
      "Exception ignored in: 'h5py._objects.ObjectID.__dealloc__'\n",
      "Traceback (most recent call last):\n",
      "  File \"h5py/_objects.pyx\", line 197, in h5py._objects.ObjectID.__dealloc__ (-------src-dir-------/h5py/_objects.c:4494)\n",
      "KeyError: 139656117072712\n",
      "Exception ignored in: 'h5py._objects.ObjectID.__dealloc__'\n",
      "Traceback (most recent call last):\n",
      "  File \"h5py/_objects.pyx\", line 197, in h5py._objects.ObjectID.__dealloc__ (-------src-dir-------/h5py/_objects.c:4494)\n",
      "KeyError: 139656117072712\n",
      "Exception ignored in: 'h5py._objects.ObjectID.__dealloc__'\n",
      "Traceback (most recent call last):\n",
      "  File \"h5py/_objects.pyx\", line 197, in h5py._objects.ObjectID.__dealloc__ (-------src-dir-------/h5py/_objects.c:4494)\n",
      "KeyError: 139656117072712\n",
      "Exception ignored in: 'h5py._objects.ObjectID.__dealloc__'\n",
      "Traceback (most recent call last):\n",
      "  File \"h5py/_objects.pyx\", line 197, in h5py._objects.ObjectID.__dealloc__ (-------src-dir-------/h5py/_objects.c:4494)\n",
      "KeyError: 139656117072712\n",
      "Exception ignored in: 'h5py._objects.ObjectID.__dealloc__'\n",
      "Traceback (most recent call last):\n",
      "  File \"h5py/_objects.pyx\", line 197, in h5py._objects.ObjectID.__dealloc__ (-------src-dir-------/h5py/_objects.c:4494)\n",
      "KeyError: 139656117072712\n",
      "Exception ignored in: 'h5py._objects.ObjectID.__dealloc__'\n",
      "Traceback (most recent call last):\n",
      "  File \"h5py/_objects.pyx\", line 197, in h5py._objects.ObjectID.__dealloc__ (-------src-dir-------/h5py/_objects.c:4494)\n",
      "KeyError: 139656117072712\n",
      "Exception ignored in: 'h5py._objects.ObjectID.__dealloc__'\n",
      "Traceback (most recent call last):\n",
      "  File \"h5py/_objects.pyx\", line 197, in h5py._objects.ObjectID.__dealloc__ (-------src-dir-------/h5py/_objects.c:4494)\n",
      "KeyError: 139656117072712\n",
      "Exception ignored in: 'h5py._objects.ObjectID.__dealloc__'\n",
      "Traceback (most recent call last):\n",
      "  File \"h5py/_objects.pyx\", line 197, in h5py._objects.ObjectID.__dealloc__ (-------src-dir-------/h5py/_objects.c:4494)\n",
      "KeyError: 139656117072712\n",
      "Exception ignored in: 'h5py._objects.ObjectID.__dealloc__'\n",
      "Traceback (most recent call last):\n",
      "  File \"h5py/_objects.pyx\", line 197, in h5py._objects.ObjectID.__dealloc__ (-------src-dir-------/h5py/_objects.c:4494)\n",
      "KeyError: 139656117072712\n",
      "Exception ignored in: 'h5py._objects.ObjectID.__dealloc__'\n",
      "Traceback (most recent call last):\n",
      "  File \"h5py/_objects.pyx\", line 197, in h5py._objects.ObjectID.__dealloc__ (-------src-dir-------/h5py/_objects.c:4494)\n",
      "KeyError: 139656117072712\n",
      "Exception ignored in: 'h5py._objects.ObjectID.__dealloc__'\n",
      "Traceback (most recent call last):\n",
      "  File \"h5py/_objects.pyx\", line 197, in h5py._objects.ObjectID.__dealloc__ (-------src-dir-------/h5py/_objects.c:4494)\n",
      "KeyError: 139656117072712\n",
      "Exception ignored in: 'h5py._objects.ObjectID.__dealloc__'\n",
      "Traceback (most recent call last):\n",
      "  File \"h5py/_objects.pyx\", line 197, in h5py._objects.ObjectID.__dealloc__ (-------src-dir-------/h5py/_objects.c:4494)\n",
      "KeyError: 139656117072712\n",
      "Exception ignored in: 'h5py._objects.ObjectID.__dealloc__'\n",
      "Traceback (most recent call last):\n",
      "  File \"h5py/_objects.pyx\", line 197, in h5py._objects.ObjectID.__dealloc__ (-------src-dir-------/h5py/_objects.c:4494)\n",
      "KeyError: 139656117072712\n",
      "Exception ignored in: 'h5py._objects.ObjectID.__dealloc__'\n",
      "Traceback (most recent call last):\n",
      "  File \"h5py/_objects.pyx\", line 197, in h5py._objects.ObjectID.__dealloc__ (-------src-dir-------/h5py/_objects.c:4494)\n",
      "KeyError: 139656117072712\n",
      "Exception ignored in: 'h5py._objects.ObjectID.__dealloc__'\n",
      "Traceback (most recent call last):\n",
      "  File \"h5py/_objects.pyx\", line 197, in h5py._objects.ObjectID.__dealloc__ (-------src-dir-------/h5py/_objects.c:4494)\n",
      "KeyError: 139656117072712\n",
      "Exception ignored in: 'h5py._objects.ObjectID.__dealloc__'\n",
      "Traceback (most recent call last):\n",
      "  File \"h5py/_objects.pyx\", line 197, in h5py._objects.ObjectID.__dealloc__ (-------src-dir-------/h5py/_objects.c:4494)\n",
      "KeyError: 139656117072712\n",
      "Exception ignored in: 'h5py._objects.ObjectID.__dealloc__'\n",
      "Traceback (most recent call last):\n",
      "  File \"h5py/_objects.pyx\", line 197, in h5py._objects.ObjectID.__dealloc__ (-------src-dir-------/h5py/_objects.c:4494)\n",
      "KeyError: 139656117072712\n",
      "Exception ignored in: 'h5py._objects.ObjectID.__dealloc__'\n",
      "Traceback (most recent call last):\n",
      "  File \"h5py/_objects.pyx\", line 197, in h5py._objects.ObjectID.__dealloc__ (-------src-dir-------/h5py/_objects.c:4494)\n",
      "KeyError: 139656117072712\n",
      "Exception ignored in: 'h5py._objects.ObjectID.__dealloc__'\n",
      "Traceback (most recent call last):\n",
      "  File \"h5py/_objects.pyx\", line 197, in h5py._objects.ObjectID.__dealloc__ (-------src-dir-------/h5py/_objects.c:4494)\n",
      "KeyError: 139656117072712\n",
      "Exception ignored in: 'h5py._objects.ObjectID.__dealloc__'\n",
      "Traceback (most recent call last):\n",
      "  File \"h5py/_objects.pyx\", line 197, in h5py._objects.ObjectID.__dealloc__ (-------src-dir-------/h5py/_objects.c:4494)\n",
      "KeyError: 139656117072712\n",
      "Exception ignored in: 'h5py._objects.ObjectID.__dealloc__'\n",
      "Traceback (most recent call last):\n",
      "  File \"h5py/_objects.pyx\", line 197, in h5py._objects.ObjectID.__dealloc__ (-------src-dir-------/h5py/_objects.c:4494)\n",
      "KeyError: 139656117072712\n",
      "Exception ignored in: 'h5py._objects.ObjectID.__dealloc__'\n",
      "Traceback (most recent call last):\n",
      "  File \"h5py/_objects.pyx\", line 197, in h5py._objects.ObjectID.__dealloc__ (-------src-dir-------/h5py/_objects.c:4494)\n",
      "KeyError: 139656117072712\n",
      "Process ForkPoolWorker-61:\n",
      "Process ForkPoolWorker-37:\n",
      "Process ForkPoolWorker-55:\n",
      "Process ForkPoolWorker-57:\n",
      "Process ForkPoolWorker-65:\n",
      "Process ForkPoolWorker-46:\n",
      "Process ForkPoolWorker-41:\n",
      "Process ForkPoolWorker-36:\n",
      "Process ForkPoolWorker-63:\n",
      "Process ForkPoolWorker-53:\n",
      "Process ForkPoolWorker-35:\n",
      "Process ForkPoolWorker-62:\n",
      "Process ForkPoolWorker-43:\n",
      "Process ForkPoolWorker-60:\n",
      "Process ForkPoolWorker-42:\n",
      "Process ForkPoolWorker-38:\n",
      "Process ForkPoolWorker-44:\n",
      "Process ForkPoolWorker-45:\n",
      "Process ForkPoolWorker-47:\n",
      "Process ForkPoolWorker-64:\n",
      "Process ForkPoolWorker-58:\n",
      "Process ForkPoolWorker-39:\n",
      "Process ForkPoolWorker-48:\n",
      "Process ForkPoolWorker-51:\n",
      "Process ForkPoolWorker-52:\n",
      "Process ForkPoolWorker-56:\n",
      "Process ForkPoolWorker-59:\n",
      "Process ForkPoolWorker-40:\n",
      "Process ForkPoolWorker-49:\n",
      "Process ForkPoolWorker-34:\n",
      "Process ForkPoolWorker-50:\n",
      "Process ForkPoolWorker-54:\n",
      "Traceback (most recent call last):\n",
      "  File \"/home/dav/miniconda3/envs/TAQ/lib/python3.5/multiprocessing/synchronize.py\", line 96, in __enter__\n",
      "    return self._semlock.__enter__()\n",
      "Traceback (most recent call last):\n",
      "Traceback (most recent call last):\n",
      "Traceback (most recent call last):\n",
      "Traceback (most recent call last):\n",
      "Traceback (most recent call last):\n",
      "Traceback (most recent call last):\n",
      "Traceback (most recent call last):\n",
      "Traceback (most recent call last):\n",
      "Traceback (most recent call last):\n",
      "Traceback (most recent call last):\n",
      "Traceback (most recent call last):\n",
      "Traceback (most recent call last):\n",
      "Traceback (most recent call last):\n",
      "Traceback (most recent call last):\n",
      "Traceback (most recent call last):\n",
      "Traceback (most recent call last):\n",
      "Traceback (most recent call last):\n",
      "Traceback (most recent call last):\n",
      "Traceback (most recent call last):\n",
      "Traceback (most recent call last):\n",
      "Traceback (most recent call last):\n",
      "Traceback (most recent call last):\n",
      "Traceback (most recent call last):\n",
      "Traceback (most recent call last):\n",
      "Traceback (most recent call last):\n",
      "  File \"/home/dav/miniconda3/envs/TAQ/lib/python3.5/multiprocessing/process.py\", line 254, in _bootstrap\n",
      "    self.run()\n",
      "Traceback (most recent call last):\n",
      "Traceback (most recent call last):\n",
      "Traceback (most recent call last):\n",
      "Traceback (most recent call last):\n",
      "  File \"/home/dav/miniconda3/envs/TAQ/lib/python3.5/multiprocessing/process.py\", line 254, in _bootstrap\n",
      "    self.run()\n",
      "Traceback (most recent call last):\n",
      "  File \"/home/dav/miniconda3/envs/TAQ/lib/python3.5/multiprocessing/process.py\", line 254, in _bootstrap\n",
      "    self.run()\n",
      "  File \"/home/dav/miniconda3/envs/TAQ/lib/python3.5/multiprocessing/process.py\", line 254, in _bootstrap\n",
      "    self.run()\n",
      "  File \"/home/dav/miniconda3/envs/TAQ/lib/python3.5/multiprocessing/process.py\", line 254, in _bootstrap\n",
      "    self.run()\n",
      "  File \"/home/dav/miniconda3/envs/TAQ/lib/python3.5/multiprocessing/process.py\", line 254, in _bootstrap\n",
      "    self.run()\n",
      "  File \"/home/dav/miniconda3/envs/TAQ/lib/python3.5/multiprocessing/process.py\", line 254, in _bootstrap\n",
      "    self.run()\n",
      "  File \"/home/dav/miniconda3/envs/TAQ/lib/python3.5/multiprocessing/process.py\", line 254, in _bootstrap\n",
      "    self.run()\n",
      "Traceback (most recent call last):\n",
      "  File \"/home/dav/miniconda3/envs/TAQ/lib/python3.5/multiprocessing/process.py\", line 254, in _bootstrap\n",
      "    self.run()\n",
      "  File \"/home/dav/miniconda3/envs/TAQ/lib/python3.5/multiprocessing/process.py\", line 254, in _bootstrap\n",
      "    self.run()\n",
      "  File \"/home/dav/miniconda3/envs/TAQ/lib/python3.5/multiprocessing/process.py\", line 254, in _bootstrap\n",
      "    self.run()\n",
      "  File \"/home/dav/miniconda3/envs/TAQ/lib/python3.5/multiprocessing/process.py\", line 254, in _bootstrap\n",
      "    self.run()\n",
      "  File \"/home/dav/miniconda3/envs/TAQ/lib/python3.5/multiprocessing/process.py\", line 254, in _bootstrap\n",
      "    self.run()\n",
      "  File \"/home/dav/miniconda3/envs/TAQ/lib/python3.5/multiprocessing/process.py\", line 254, in _bootstrap\n",
      "    self.run()\n",
      "  File \"/home/dav/miniconda3/envs/TAQ/lib/python3.5/multiprocessing/process.py\", line 254, in _bootstrap\n",
      "    self.run()\n",
      "  File \"/home/dav/miniconda3/envs/TAQ/lib/python3.5/multiprocessing/process.py\", line 254, in _bootstrap\n",
      "    self.run()\n",
      "  File \"/home/dav/miniconda3/envs/TAQ/lib/python3.5/multiprocessing/process.py\", line 254, in _bootstrap\n",
      "    self.run()\n",
      "  File \"/home/dav/miniconda3/envs/TAQ/lib/python3.5/multiprocessing/process.py\", line 254, in _bootstrap\n",
      "    self.run()\n",
      "  File \"/home/dav/miniconda3/envs/TAQ/lib/python3.5/multiprocessing/process.py\", line 254, in _bootstrap\n",
      "    self.run()\n",
      "  File \"/home/dav/miniconda3/envs/TAQ/lib/python3.5/multiprocessing/process.py\", line 254, in _bootstrap\n",
      "    self.run()\n",
      "  File \"/home/dav/miniconda3/envs/TAQ/lib/python3.5/multiprocessing/process.py\", line 254, in _bootstrap\n",
      "    self.run()\n",
      "  File \"/home/dav/miniconda3/envs/TAQ/lib/python3.5/multiprocessing/process.py\", line 254, in _bootstrap\n",
      "    self.run()\n",
      "  File \"/home/dav/miniconda3/envs/TAQ/lib/python3.5/multiprocessing/process.py\", line 254, in _bootstrap\n",
      "    self.run()\n",
      "  File \"/home/dav/miniconda3/envs/TAQ/lib/python3.5/multiprocessing/process.py\", line 93, in run\n",
      "    self._target(*self._args, **self._kwargs)\n",
      "  File \"/home/dav/miniconda3/envs/TAQ/lib/python3.5/multiprocessing/process.py\", line 254, in _bootstrap\n",
      "    self.run()\n",
      "  File \"/home/dav/miniconda3/envs/TAQ/lib/python3.5/multiprocessing/process.py\", line 254, in _bootstrap\n",
      "    self.run()\n",
      "  File \"/home/dav/miniconda3/envs/TAQ/lib/python3.5/multiprocessing/process.py\", line 254, in _bootstrap\n",
      "    self.run()\n",
      "  File \"/home/dav/miniconda3/envs/TAQ/lib/python3.5/multiprocessing/process.py\", line 254, in _bootstrap\n",
      "    self.run()\n",
      "  File \"/home/dav/miniconda3/envs/TAQ/lib/python3.5/multiprocessing/process.py\", line 254, in _bootstrap\n",
      "    self.run()\n",
      "  File \"/home/dav/miniconda3/envs/TAQ/lib/python3.5/multiprocessing/process.py\", line 93, in run\n",
      "    self._target(*self._args, **self._kwargs)\n",
      "  File \"/home/dav/miniconda3/envs/TAQ/lib/python3.5/multiprocessing/process.py\", line 254, in _bootstrap\n",
      "    self.run()\n",
      "  File \"/home/dav/miniconda3/envs/TAQ/lib/python3.5/multiprocessing/process.py\", line 254, in _bootstrap\n",
      "    self.run()\n",
      "  File \"/home/dav/miniconda3/envs/TAQ/lib/python3.5/multiprocessing/process.py\", line 93, in run\n",
      "    self._target(*self._args, **self._kwargs)\n",
      "  File \"/home/dav/miniconda3/envs/TAQ/lib/python3.5/multiprocessing/process.py\", line 254, in _bootstrap\n",
      "    self.run()\n",
      "  File \"/home/dav/miniconda3/envs/TAQ/lib/python3.5/multiprocessing/process.py\", line 93, in run\n",
      "    self._target(*self._args, **self._kwargs)\n",
      "  File \"/home/dav/miniconda3/envs/TAQ/lib/python3.5/multiprocessing/process.py\", line 93, in run\n",
      "    self._target(*self._args, **self._kwargs)\n",
      "  File \"/home/dav/miniconda3/envs/TAQ/lib/python3.5/multiprocessing/process.py\", line 93, in run\n",
      "    self._target(*self._args, **self._kwargs)\n",
      "  File \"/home/dav/miniconda3/envs/TAQ/lib/python3.5/multiprocessing/process.py\", line 93, in run\n",
      "    self._target(*self._args, **self._kwargs)\n",
      "  File \"/home/dav/miniconda3/envs/TAQ/lib/python3.5/multiprocessing/process.py\", line 93, in run\n",
      "    self._target(*self._args, **self._kwargs)\n",
      "  File \"/home/dav/miniconda3/envs/TAQ/lib/python3.5/multiprocessing/process.py\", line 254, in _bootstrap\n",
      "    self.run()\n",
      "  File \"/home/dav/miniconda3/envs/TAQ/lib/python3.5/multiprocessing/process.py\", line 93, in run\n",
      "    self._target(*self._args, **self._kwargs)\n",
      "  File \"/home/dav/miniconda3/envs/TAQ/lib/python3.5/multiprocessing/process.py\", line 93, in run\n",
      "    self._target(*self._args, **self._kwargs)\n",
      "  File \"/home/dav/miniconda3/envs/TAQ/lib/python3.5/multiprocessing/process.py\", line 93, in run\n",
      "    self._target(*self._args, **self._kwargs)\n",
      "  File \"/home/dav/miniconda3/envs/TAQ/lib/python3.5/multiprocessing/process.py\", line 93, in run\n",
      "    self._target(*self._args, **self._kwargs)\n",
      "  File \"/home/dav/miniconda3/envs/TAQ/lib/python3.5/multiprocessing/process.py\", line 93, in run\n",
      "    self._target(*self._args, **self._kwargs)\n",
      "  File \"/home/dav/miniconda3/envs/TAQ/lib/python3.5/multiprocessing/process.py\", line 93, in run\n",
      "    self._target(*self._args, **self._kwargs)\n",
      "  File \"/home/dav/miniconda3/envs/TAQ/lib/python3.5/multiprocessing/process.py\", line 93, in run\n",
      "    self._target(*self._args, **self._kwargs)\n",
      "  File \"/home/dav/miniconda3/envs/TAQ/lib/python3.5/multiprocessing/process.py\", line 93, in run\n",
      "    self._target(*self._args, **self._kwargs)\n",
      "  File \"/home/dav/miniconda3/envs/TAQ/lib/python3.5/multiprocessing/process.py\", line 93, in run\n",
      "    self._target(*self._args, **self._kwargs)\n",
      "  File \"/home/dav/miniconda3/envs/TAQ/lib/python3.5/multiprocessing/process.py\", line 93, in run\n",
      "    self._target(*self._args, **self._kwargs)\n",
      "  File \"/home/dav/miniconda3/envs/TAQ/lib/python3.5/multiprocessing/process.py\", line 93, in run\n",
      "    self._target(*self._args, **self._kwargs)\n",
      "  File \"/home/dav/miniconda3/envs/TAQ/lib/python3.5/multiprocessing/process.py\", line 93, in run\n",
      "    self._target(*self._args, **self._kwargs)\n",
      "  File \"/home/dav/miniconda3/envs/TAQ/lib/python3.5/multiprocessing/process.py\", line 93, in run\n",
      "    self._target(*self._args, **self._kwargs)\n",
      "  File \"/home/dav/miniconda3/envs/TAQ/lib/python3.5/multiprocessing/process.py\", line 93, in run\n",
      "    self._target(*self._args, **self._kwargs)\n",
      "  File \"/home/dav/miniconda3/envs/TAQ/lib/python3.5/multiprocessing/process.py\", line 93, in run\n",
      "    self._target(*self._args, **self._kwargs)\n",
      "  File \"/home/dav/miniconda3/envs/TAQ/lib/python3.5/multiprocessing/pool.py\", line 108, in worker\n",
      "    task = get()\n",
      "  File \"/home/dav/miniconda3/envs/TAQ/lib/python3.5/multiprocessing/process.py\", line 93, in run\n",
      "    self._target(*self._args, **self._kwargs)\n",
      "  File \"/home/dav/miniconda3/envs/TAQ/lib/python3.5/multiprocessing/process.py\", line 93, in run\n",
      "    self._target(*self._args, **self._kwargs)\n",
      "  File \"/home/dav/miniconda3/envs/TAQ/lib/python3.5/multiprocessing/process.py\", line 93, in run\n",
      "    self._target(*self._args, **self._kwargs)\n",
      "  File \"/home/dav/miniconda3/envs/TAQ/lib/python3.5/multiprocessing/process.py\", line 93, in run\n",
      "    self._target(*self._args, **self._kwargs)\n",
      "  File \"/home/dav/miniconda3/envs/TAQ/lib/python3.5/multiprocessing/pool.py\", line 108, in worker\n",
      "    task = get()\n",
      "  File \"/home/dav/miniconda3/envs/TAQ/lib/python3.5/multiprocessing/process.py\", line 93, in run\n",
      "    self._target(*self._args, **self._kwargs)\n",
      "  File \"/home/dav/miniconda3/envs/TAQ/lib/python3.5/multiprocessing/pool.py\", line 108, in worker\n",
      "    task = get()\n",
      "  File \"/home/dav/miniconda3/envs/TAQ/lib/python3.5/multiprocessing/process.py\", line 93, in run\n",
      "    self._target(*self._args, **self._kwargs)\n",
      "  File \"/home/dav/miniconda3/envs/TAQ/lib/python3.5/multiprocessing/pool.py\", line 108, in worker\n",
      "    task = get()\n",
      "  File \"/home/dav/miniconda3/envs/TAQ/lib/python3.5/multiprocessing/process.py\", line 93, in run\n",
      "    self._target(*self._args, **self._kwargs)\n",
      "  File \"/home/dav/miniconda3/envs/TAQ/lib/python3.5/multiprocessing/pool.py\", line 108, in worker\n",
      "    task = get()\n",
      "  File \"/home/dav/miniconda3/envs/TAQ/lib/python3.5/multiprocessing/pool.py\", line 108, in worker\n",
      "    task = get()\n",
      "  File \"/home/dav/miniconda3/envs/TAQ/lib/python3.5/multiprocessing/process.py\", line 93, in run\n",
      "    self._target(*self._args, **self._kwargs)\n",
      "  File \"/home/dav/miniconda3/envs/TAQ/lib/python3.5/multiprocessing/pool.py\", line 108, in worker\n",
      "    task = get()\n",
      "  File \"/home/dav/miniconda3/envs/TAQ/lib/python3.5/multiprocessing/pool.py\", line 108, in worker\n",
      "    task = get()\n",
      "  File \"/home/dav/miniconda3/envs/TAQ/lib/python3.5/multiprocessing/process.py\", line 93, in run\n",
      "    self._target(*self._args, **self._kwargs)\n",
      "  File \"/home/dav/miniconda3/envs/TAQ/lib/python3.5/multiprocessing/pool.py\", line 108, in worker\n",
      "    task = get()\n",
      "  File \"/home/dav/miniconda3/envs/TAQ/lib/python3.5/multiprocessing/pool.py\", line 108, in worker\n",
      "    task = get()\n",
      "  File \"/home/dav/miniconda3/envs/TAQ/lib/python3.5/multiprocessing/pool.py\", line 108, in worker\n",
      "    task = get()\n",
      "  File \"/home/dav/miniconda3/envs/TAQ/lib/python3.5/multiprocessing/pool.py\", line 108, in worker\n",
      "    task = get()\n",
      "  File \"/home/dav/miniconda3/envs/TAQ/lib/python3.5/multiprocessing/pool.py\", line 108, in worker\n",
      "    task = get()\n",
      "  File \"/home/dav/miniconda3/envs/TAQ/lib/python3.5/multiprocessing/pool.py\", line 108, in worker\n",
      "    task = get()\n",
      "  File \"/home/dav/miniconda3/envs/TAQ/lib/python3.5/multiprocessing/pool.py\", line 108, in worker\n",
      "    task = get()\n",
      "  File \"/home/dav/miniconda3/envs/TAQ/lib/python3.5/multiprocessing/pool.py\", line 108, in worker\n",
      "    task = get()\n",
      "  File \"/home/dav/miniconda3/envs/TAQ/lib/python3.5/multiprocessing/pool.py\", line 108, in worker\n",
      "    task = get()\n",
      "  File \"/home/dav/miniconda3/envs/TAQ/lib/python3.5/multiprocessing/pool.py\", line 108, in worker\n",
      "    task = get()\n",
      "  File \"/home/dav/miniconda3/envs/TAQ/lib/python3.5/multiprocessing/pool.py\", line 108, in worker\n",
      "    task = get()\n",
      "  File \"/home/dav/miniconda3/envs/TAQ/lib/python3.5/multiprocessing/pool.py\", line 108, in worker\n",
      "    task = get()\n",
      "  File \"/home/dav/miniconda3/envs/TAQ/lib/python3.5/multiprocessing/pool.py\", line 108, in worker\n",
      "    task = get()\n",
      "  File \"/home/dav/miniconda3/envs/TAQ/lib/python3.5/multiprocessing/pool.py\", line 108, in worker\n",
      "    task = get()\n",
      "  File \"/home/dav/miniconda3/envs/TAQ/lib/python3.5/multiprocessing/queues.py\", line 342, in get\n",
      "    with self._rlock:\n",
      "  File \"/home/dav/miniconda3/envs/TAQ/lib/python3.5/multiprocessing/pool.py\", line 108, in worker\n",
      "    task = get()\n",
      "  File \"/home/dav/miniconda3/envs/TAQ/lib/python3.5/multiprocessing/pool.py\", line 108, in worker\n",
      "    task = get()\n",
      "  File \"/home/dav/miniconda3/envs/TAQ/lib/python3.5/multiprocessing/pool.py\", line 108, in worker\n",
      "    task = get()\n",
      "  File \"/home/dav/miniconda3/envs/TAQ/lib/python3.5/multiprocessing/queues.py\", line 342, in get\n",
      "    with self._rlock:\n",
      "  File \"/home/dav/miniconda3/envs/TAQ/lib/python3.5/multiprocessing/pool.py\", line 108, in worker\n",
      "    task = get()\n",
      "  File \"/home/dav/miniconda3/envs/TAQ/lib/python3.5/multiprocessing/queues.py\", line 342, in get\n",
      "    with self._rlock:\n",
      "  File \"/home/dav/miniconda3/envs/TAQ/lib/python3.5/multiprocessing/pool.py\", line 108, in worker\n",
      "    task = get()\n",
      "  File \"/home/dav/miniconda3/envs/TAQ/lib/python3.5/multiprocessing/queues.py\", line 342, in get\n",
      "    with self._rlock:\n",
      "  File \"/home/dav/miniconda3/envs/TAQ/lib/python3.5/multiprocessing/pool.py\", line 108, in worker\n",
      "    task = get()\n",
      "  File \"/home/dav/miniconda3/envs/TAQ/lib/python3.5/multiprocessing/pool.py\", line 108, in worker\n",
      "    task = get()\n",
      "  File \"/home/dav/miniconda3/envs/TAQ/lib/python3.5/multiprocessing/queues.py\", line 342, in get\n",
      "    with self._rlock:\n",
      "  File \"/home/dav/miniconda3/envs/TAQ/lib/python3.5/multiprocessing/queues.py\", line 342, in get\n",
      "    with self._rlock:\n",
      "  File \"/home/dav/miniconda3/envs/TAQ/lib/python3.5/multiprocessing/queues.py\", line 342, in get\n",
      "    with self._rlock:\n",
      "  File \"/home/dav/miniconda3/envs/TAQ/lib/python3.5/multiprocessing/pool.py\", line 108, in worker\n",
      "    task = get()\n",
      "  File \"/home/dav/miniconda3/envs/TAQ/lib/python3.5/multiprocessing/queues.py\", line 342, in get\n",
      "    with self._rlock:\n",
      "  File \"/home/dav/miniconda3/envs/TAQ/lib/python3.5/multiprocessing/queues.py\", line 342, in get\n",
      "    with self._rlock:\n",
      "  File \"/home/dav/miniconda3/envs/TAQ/lib/python3.5/multiprocessing/pool.py\", line 108, in worker\n",
      "    task = get()\n",
      "  File \"/home/dav/miniconda3/envs/TAQ/lib/python3.5/multiprocessing/queues.py\", line 342, in get\n",
      "    with self._rlock:\n",
      "  File \"/home/dav/miniconda3/envs/TAQ/lib/python3.5/multiprocessing/pool.py\", line 108, in worker\n",
      "    task = get()\n",
      "  File \"/home/dav/miniconda3/envs/TAQ/lib/python3.5/multiprocessing/queues.py\", line 342, in get\n",
      "    with self._rlock:\n",
      "  File \"/home/dav/miniconda3/envs/TAQ/lib/python3.5/multiprocessing/queues.py\", line 342, in get\n",
      "    with self._rlock:\n",
      "  File \"/home/dav/miniconda3/envs/TAQ/lib/python3.5/multiprocessing/queues.py\", line 342, in get\n",
      "    with self._rlock:\n",
      "  File \"/home/dav/miniconda3/envs/TAQ/lib/python3.5/multiprocessing/queues.py\", line 342, in get\n",
      "    with self._rlock:\n",
      "  File \"/home/dav/miniconda3/envs/TAQ/lib/python3.5/multiprocessing/queues.py\", line 342, in get\n",
      "    with self._rlock:\n",
      "  File \"/home/dav/miniconda3/envs/TAQ/lib/python3.5/multiprocessing/queues.py\", line 342, in get\n",
      "    with self._rlock:\n",
      "  File \"/home/dav/miniconda3/envs/TAQ/lib/python3.5/multiprocessing/queues.py\", line 342, in get\n",
      "    with self._rlock:\n",
      "  File \"/home/dav/miniconda3/envs/TAQ/lib/python3.5/multiprocessing/queues.py\", line 342, in get\n",
      "    with self._rlock:\n",
      "  File \"/home/dav/miniconda3/envs/TAQ/lib/python3.5/multiprocessing/queues.py\", line 342, in get\n",
      "    with self._rlock:\n",
      "  File \"/home/dav/miniconda3/envs/TAQ/lib/python3.5/multiprocessing/queues.py\", line 342, in get\n",
      "    with self._rlock:\n",
      "  File \"/home/dav/miniconda3/envs/TAQ/lib/python3.5/multiprocessing/synchronize.py\", line 96, in __enter__\n",
      "    return self._semlock.__enter__()\n",
      "  File \"/home/dav/miniconda3/envs/TAQ/lib/python3.5/multiprocessing/queues.py\", line 342, in get\n",
      "    with self._rlock:\n",
      "  File \"/home/dav/miniconda3/envs/TAQ/lib/python3.5/multiprocessing/queues.py\", line 342, in get\n",
      "    with self._rlock:\n",
      "  File \"/home/dav/miniconda3/envs/TAQ/lib/python3.5/multiprocessing/queues.py\", line 343, in get\n",
      "    res = self._reader.recv_bytes()\n",
      "  File \"/home/dav/miniconda3/envs/TAQ/lib/python3.5/multiprocessing/queues.py\", line 342, in get\n",
      "    with self._rlock:\n",
      "  File \"/home/dav/miniconda3/envs/TAQ/lib/python3.5/multiprocessing/queues.py\", line 342, in get\n",
      "    with self._rlock:\n",
      "  File \"/home/dav/miniconda3/envs/TAQ/lib/python3.5/multiprocessing/queues.py\", line 342, in get\n",
      "    with self._rlock:\n",
      "  File \"/home/dav/miniconda3/envs/TAQ/lib/python3.5/multiprocessing/synchronize.py\", line 96, in __enter__\n",
      "    return self._semlock.__enter__()\n",
      "  File \"/home/dav/miniconda3/envs/TAQ/lib/python3.5/multiprocessing/synchronize.py\", line 96, in __enter__\n",
      "    return self._semlock.__enter__()\n",
      "  File \"/home/dav/miniconda3/envs/TAQ/lib/python3.5/multiprocessing/synchronize.py\", line 96, in __enter__\n",
      "    return self._semlock.__enter__()\n",
      "  File \"/home/dav/miniconda3/envs/TAQ/lib/python3.5/multiprocessing/synchronize.py\", line 96, in __enter__\n",
      "    return self._semlock.__enter__()\n",
      "  File \"/home/dav/miniconda3/envs/TAQ/lib/python3.5/multiprocessing/synchronize.py\", line 96, in __enter__\n",
      "    return self._semlock.__enter__()\n",
      "  File \"/home/dav/miniconda3/envs/TAQ/lib/python3.5/multiprocessing/queues.py\", line 342, in get\n",
      "    with self._rlock:\n",
      "  File \"/home/dav/miniconda3/envs/TAQ/lib/python3.5/multiprocessing/synchronize.py\", line 96, in __enter__\n",
      "    return self._semlock.__enter__()\n",
      "  File \"/home/dav/miniconda3/envs/TAQ/lib/python3.5/multiprocessing/synchronize.py\", line 96, in __enter__\n",
      "    return self._semlock.__enter__()\n",
      "  File \"/home/dav/miniconda3/envs/TAQ/lib/python3.5/multiprocessing/queues.py\", line 342, in get\n",
      "    with self._rlock:\n",
      "  File \"/home/dav/miniconda3/envs/TAQ/lib/python3.5/multiprocessing/synchronize.py\", line 96, in __enter__\n",
      "    return self._semlock.__enter__()\n",
      "  File \"/home/dav/miniconda3/envs/TAQ/lib/python3.5/multiprocessing/queues.py\", line 342, in get\n",
      "    with self._rlock:\n",
      "  File \"/home/dav/miniconda3/envs/TAQ/lib/python3.5/multiprocessing/synchronize.py\", line 96, in __enter__\n",
      "    return self._semlock.__enter__()\n",
      "  File \"/home/dav/miniconda3/envs/TAQ/lib/python3.5/multiprocessing/synchronize.py\", line 96, in __enter__\n",
      "    return self._semlock.__enter__()\n",
      "  File \"/home/dav/miniconda3/envs/TAQ/lib/python3.5/multiprocessing/synchronize.py\", line 96, in __enter__\n",
      "    return self._semlock.__enter__()\n",
      "  File \"/home/dav/miniconda3/envs/TAQ/lib/python3.5/multiprocessing/synchronize.py\", line 96, in __enter__\n",
      "    return self._semlock.__enter__()\n",
      "  File \"/home/dav/miniconda3/envs/TAQ/lib/python3.5/multiprocessing/synchronize.py\", line 96, in __enter__\n",
      "    return self._semlock.__enter__()\n",
      "  File \"/home/dav/miniconda3/envs/TAQ/lib/python3.5/multiprocessing/synchronize.py\", line 96, in __enter__\n",
      "    return self._semlock.__enter__()\n",
      "  File \"/home/dav/miniconda3/envs/TAQ/lib/python3.5/multiprocessing/queues.py\", line 342, in get\n",
      "    with self._rlock:\n",
      "KeyboardInterrupt\n",
      "KeyboardInterrupt\n",
      "  File \"/home/dav/miniconda3/envs/TAQ/lib/python3.5/multiprocessing/synchronize.py\", line 96, in __enter__\n",
      "    return self._semlock.__enter__()\n",
      "  File \"/home/dav/miniconda3/envs/TAQ/lib/python3.5/multiprocessing/synchronize.py\", line 96, in __enter__\n",
      "    return self._semlock.__enter__()\n",
      "KeyboardInterrupt\n",
      "KeyboardInterrupt\n",
      "  File \"/home/dav/miniconda3/envs/TAQ/lib/python3.5/multiprocessing/synchronize.py\", line 96, in __enter__\n",
      "    return self._semlock.__enter__()\n",
      "KeyboardInterrupt\n",
      "  File \"/home/dav/miniconda3/envs/TAQ/lib/python3.5/multiprocessing/synchronize.py\", line 96, in __enter__\n",
      "    return self._semlock.__enter__()\n",
      "KeyboardInterrupt\n",
      "KeyboardInterrupt\n",
      "KeyboardInterrupt\n",
      "KeyboardInterrupt\n",
      "  File \"/home/dav/miniconda3/envs/TAQ/lib/python3.5/multiprocessing/synchronize.py\", line 96, in __enter__\n",
      "    return self._semlock.__enter__()\n",
      "  File \"/home/dav/miniconda3/envs/TAQ/lib/python3.5/multiprocessing/synchronize.py\", line 96, in __enter__\n",
      "    return self._semlock.__enter__()\n",
      "KeyboardInterrupt\n",
      "  File \"/home/dav/miniconda3/envs/TAQ/lib/python3.5/multiprocessing/synchronize.py\", line 96, in __enter__\n",
      "    return self._semlock.__enter__()\n",
      "KeyboardInterrupt\n",
      "KeyboardInterrupt\n",
      "KeyboardInterrupt\n",
      "KeyboardInterrupt\n",
      "KeyboardInterrupt\n",
      "KeyboardInterrupt\n",
      "KeyboardInterrupt\n",
      "KeyboardInterrupt\n",
      "KeyboardInterrupt\n",
      "  File \"/home/dav/miniconda3/envs/TAQ/lib/python3.5/multiprocessing/connection.py\", line 216, in recv_bytes\n",
      "    buf = self._recv_bytes(maxlength)\n",
      "  File \"/home/dav/miniconda3/envs/TAQ/lib/python3.5/multiprocessing/synchronize.py\", line 96, in __enter__\n",
      "    return self._semlock.__enter__()\n",
      "  File \"/home/dav/miniconda3/envs/TAQ/lib/python3.5/multiprocessing/synchronize.py\", line 96, in __enter__\n",
      "    return self._semlock.__enter__()\n",
      "  File \"/home/dav/miniconda3/envs/TAQ/lib/python3.5/multiprocessing/queues.py\", line 342, in get\n",
      "    with self._rlock:\n",
      "KeyboardInterrupt\n",
      "  File \"/home/dav/miniconda3/envs/TAQ/lib/python3.5/multiprocessing/synchronize.py\", line 96, in __enter__\n",
      "    return self._semlock.__enter__()\n",
      "  File \"/home/dav/miniconda3/envs/TAQ/lib/python3.5/multiprocessing/queues.py\", line 342, in get\n",
      "    with self._rlock:\n",
      "  File \"/home/dav/miniconda3/envs/TAQ/lib/python3.5/multiprocessing/synchronize.py\", line 96, in __enter__\n",
      "    return self._semlock.__enter__()\n",
      "  File \"/home/dav/miniconda3/envs/TAQ/lib/python3.5/multiprocessing/synchronize.py\", line 96, in __enter__\n",
      "    return self._semlock.__enter__()\n",
      "  File \"/home/dav/miniconda3/envs/TAQ/lib/python3.5/multiprocessing/synchronize.py\", line 96, in __enter__\n",
      "    return self._semlock.__enter__()\n",
      "KeyboardInterrupt\n",
      "KeyboardInterrupt\n",
      "  File \"/home/dav/miniconda3/envs/TAQ/lib/python3.5/multiprocessing/synchronize.py\", line 96, in __enter__\n",
      "    return self._semlock.__enter__()\n"
     ]
    },
    {
     "ename": "KeyboardInterrupt",
     "evalue": "",
     "output_type": "error",
     "traceback": [
      "\u001b[1;31m---------------------------------------------------------------------------\u001b[0m",
      "\u001b[1;31mKeyboardInterrupt\u001b[0m                         Traceback (most recent call last)",
      "\u001b[1;32m<ipython-input-83-02c12fbaed83>\u001b[0m in \u001b[0;36m<module>\u001b[1;34m()\u001b[0m\n\u001b[1;32m----> 1\u001b[1;33m \u001b[0mres\u001b[0m \u001b[1;33m=\u001b[0m \u001b[0mddfs\u001b[0m\u001b[1;33m.\u001b[0m\u001b[0mmean_computer\u001b[0m\u001b[1;33m.\u001b[0m\u001b[0mcompute\u001b[0m\u001b[1;33m(\u001b[0m\u001b[1;33m)\u001b[0m\u001b[1;33m\u001b[0m\u001b[0m\n\u001b[0m",
      "\u001b[1;32m/home/dav/miniconda3/envs/TAQ/lib/python3.5/site-packages/dask/base.py\u001b[0m in \u001b[0;36mcompute\u001b[1;34m(self, **kwargs)\u001b[0m\n\u001b[0;32m     35\u001b[0m \u001b[1;33m\u001b[0m\u001b[0m\n\u001b[0;32m     36\u001b[0m     \u001b[1;32mdef\u001b[0m \u001b[0mcompute\u001b[0m\u001b[1;33m(\u001b[0m\u001b[0mself\u001b[0m\u001b[1;33m,\u001b[0m \u001b[1;33m**\u001b[0m\u001b[0mkwargs\u001b[0m\u001b[1;33m)\u001b[0m\u001b[1;33m:\u001b[0m\u001b[1;33m\u001b[0m\u001b[0m\n\u001b[1;32m---> 37\u001b[1;33m         \u001b[1;32mreturn\u001b[0m \u001b[0mcompute\u001b[0m\u001b[1;33m(\u001b[0m\u001b[0mself\u001b[0m\u001b[1;33m,\u001b[0m \u001b[1;33m**\u001b[0m\u001b[0mkwargs\u001b[0m\u001b[1;33m)\u001b[0m\u001b[1;33m[\u001b[0m\u001b[1;36m0\u001b[0m\u001b[1;33m]\u001b[0m\u001b[1;33m\u001b[0m\u001b[0m\n\u001b[0m\u001b[0;32m     38\u001b[0m \u001b[1;33m\u001b[0m\u001b[0m\n\u001b[0;32m     39\u001b[0m     \u001b[1;33m@\u001b[0m\u001b[0mclassmethod\u001b[0m\u001b[1;33m\u001b[0m\u001b[0m\n",
      "\u001b[1;32m/home/dav/miniconda3/envs/TAQ/lib/python3.5/site-packages/dask/base.py\u001b[0m in \u001b[0;36mcompute\u001b[1;34m(*args, **kwargs)\u001b[0m\n\u001b[0;32m    108\u001b[0m                 for opt, val in groups.items()])\n\u001b[0;32m    109\u001b[0m     \u001b[0mkeys\u001b[0m \u001b[1;33m=\u001b[0m \u001b[1;33m[\u001b[0m\u001b[0mvar\u001b[0m\u001b[1;33m.\u001b[0m\u001b[0m_keys\u001b[0m\u001b[1;33m(\u001b[0m\u001b[1;33m)\u001b[0m \u001b[1;32mfor\u001b[0m \u001b[0mvar\u001b[0m \u001b[1;32min\u001b[0m \u001b[0mvariables\u001b[0m\u001b[1;33m]\u001b[0m\u001b[1;33m\u001b[0m\u001b[0m\n\u001b[1;32m--> 110\u001b[1;33m     \u001b[0mresults\u001b[0m \u001b[1;33m=\u001b[0m \u001b[0mget\u001b[0m\u001b[1;33m(\u001b[0m\u001b[0mdsk\u001b[0m\u001b[1;33m,\u001b[0m \u001b[0mkeys\u001b[0m\u001b[1;33m,\u001b[0m \u001b[1;33m**\u001b[0m\u001b[0mkwargs\u001b[0m\u001b[1;33m)\u001b[0m\u001b[1;33m\u001b[0m\u001b[0m\n\u001b[0m\u001b[0;32m    111\u001b[0m \u001b[1;33m\u001b[0m\u001b[0m\n\u001b[0;32m    112\u001b[0m     \u001b[0mresults_iter\u001b[0m \u001b[1;33m=\u001b[0m \u001b[0miter\u001b[0m\u001b[1;33m(\u001b[0m\u001b[0mresults\u001b[0m\u001b[1;33m)\u001b[0m\u001b[1;33m\u001b[0m\u001b[0m\n",
      "\u001b[1;32m/home/dav/miniconda3/envs/TAQ/lib/python3.5/site-packages/dask/multiprocessing.py\u001b[0m in \u001b[0;36mget\u001b[1;34m(dsk, keys, optimizations, num_workers, func_loads, func_dumps, **kwargs)\u001b[0m\n\u001b[0;32m     76\u001b[0m         \u001b[1;31m# Run\u001b[0m\u001b[1;33m\u001b[0m\u001b[1;33m\u001b[0m\u001b[0m\n\u001b[0;32m     77\u001b[0m         result = get_async(apply_async, len(pool._pool), dsk3, keys,\n\u001b[1;32m---> 78\u001b[1;33m                            queue=queue, get_id=_process_get_id, **kwargs)\n\u001b[0m\u001b[0;32m     79\u001b[0m     \u001b[1;32mfinally\u001b[0m\u001b[1;33m:\u001b[0m\u001b[1;33m\u001b[0m\u001b[0m\n\u001b[0;32m     80\u001b[0m         \u001b[1;32mif\u001b[0m \u001b[0mcleanup\u001b[0m\u001b[1;33m:\u001b[0m\u001b[1;33m\u001b[0m\u001b[0m\n",
      "\u001b[1;32m/home/dav/miniconda3/envs/TAQ/lib/python3.5/site-packages/dask/async.py\u001b[0m in \u001b[0;36mget_async\u001b[1;34m(apply_async, num_workers, dsk, result, cache, queue, get_id, raise_on_exception, rerun_exceptions_locally, callbacks, **kwargs)\u001b[0m\n\u001b[0;32m    472\u001b[0m     \u001b[1;32mwhile\u001b[0m \u001b[0mstate\u001b[0m\u001b[1;33m[\u001b[0m\u001b[1;34m'waiting'\u001b[0m\u001b[1;33m]\u001b[0m \u001b[1;32mor\u001b[0m \u001b[0mstate\u001b[0m\u001b[1;33m[\u001b[0m\u001b[1;34m'ready'\u001b[0m\u001b[1;33m]\u001b[0m \u001b[1;32mor\u001b[0m \u001b[0mstate\u001b[0m\u001b[1;33m[\u001b[0m\u001b[1;34m'running'\u001b[0m\u001b[1;33m]\u001b[0m\u001b[1;33m:\u001b[0m\u001b[1;33m\u001b[0m\u001b[0m\n\u001b[0;32m    473\u001b[0m         \u001b[1;32mtry\u001b[0m\u001b[1;33m:\u001b[0m\u001b[1;33m\u001b[0m\u001b[0m\n\u001b[1;32m--> 474\u001b[1;33m             \u001b[0mkey\u001b[0m\u001b[1;33m,\u001b[0m \u001b[0mres\u001b[0m\u001b[1;33m,\u001b[0m \u001b[0mtb\u001b[0m\u001b[1;33m,\u001b[0m \u001b[0mworker_id\u001b[0m \u001b[1;33m=\u001b[0m \u001b[0mqueue\u001b[0m\u001b[1;33m.\u001b[0m\u001b[0mget\u001b[0m\u001b[1;33m(\u001b[0m\u001b[1;33m)\u001b[0m\u001b[1;33m\u001b[0m\u001b[0m\n\u001b[0m\u001b[0;32m    475\u001b[0m         \u001b[1;32mexcept\u001b[0m \u001b[0mKeyboardInterrupt\u001b[0m\u001b[1;33m:\u001b[0m\u001b[1;33m\u001b[0m\u001b[0m\n\u001b[0;32m    476\u001b[0m             \u001b[1;32mfor\u001b[0m \u001b[0mf\u001b[0m \u001b[1;32min\u001b[0m \u001b[0mfinish_cbs\u001b[0m\u001b[1;33m:\u001b[0m\u001b[1;33m\u001b[0m\u001b[0m\n",
      "\u001b[1;32m<string>\u001b[0m in \u001b[0;36mget\u001b[1;34m(self, *args, **kwds)\u001b[0m\n",
      "\u001b[1;32m/home/dav/miniconda3/envs/TAQ/lib/python3.5/multiprocessing/managers.py\u001b[0m in \u001b[0;36m_callmethod\u001b[1;34m(self, methodname, args, kwds)\u001b[0m\n\u001b[0;32m    715\u001b[0m \u001b[1;33m\u001b[0m\u001b[0m\n\u001b[0;32m    716\u001b[0m         \u001b[0mconn\u001b[0m\u001b[1;33m.\u001b[0m\u001b[0msend\u001b[0m\u001b[1;33m(\u001b[0m\u001b[1;33m(\u001b[0m\u001b[0mself\u001b[0m\u001b[1;33m.\u001b[0m\u001b[0m_id\u001b[0m\u001b[1;33m,\u001b[0m \u001b[0mmethodname\u001b[0m\u001b[1;33m,\u001b[0m \u001b[0margs\u001b[0m\u001b[1;33m,\u001b[0m \u001b[0mkwds\u001b[0m\u001b[1;33m)\u001b[0m\u001b[1;33m)\u001b[0m\u001b[1;33m\u001b[0m\u001b[0m\n\u001b[1;32m--> 717\u001b[1;33m         \u001b[0mkind\u001b[0m\u001b[1;33m,\u001b[0m \u001b[0mresult\u001b[0m \u001b[1;33m=\u001b[0m \u001b[0mconn\u001b[0m\u001b[1;33m.\u001b[0m\u001b[0mrecv\u001b[0m\u001b[1;33m(\u001b[0m\u001b[1;33m)\u001b[0m\u001b[1;33m\u001b[0m\u001b[0m\n\u001b[0m\u001b[0;32m    718\u001b[0m \u001b[1;33m\u001b[0m\u001b[0m\n\u001b[0;32m    719\u001b[0m         \u001b[1;32mif\u001b[0m \u001b[0mkind\u001b[0m \u001b[1;33m==\u001b[0m \u001b[1;34m'#RETURN'\u001b[0m\u001b[1;33m:\u001b[0m\u001b[1;33m\u001b[0m\u001b[0m\n",
      "\u001b[1;32m/home/dav/miniconda3/envs/TAQ/lib/python3.5/multiprocessing/connection.py\u001b[0m in \u001b[0;36mrecv\u001b[1;34m(self)\u001b[0m\n\u001b[0;32m    248\u001b[0m         \u001b[0mself\u001b[0m\u001b[1;33m.\u001b[0m\u001b[0m_check_closed\u001b[0m\u001b[1;33m(\u001b[0m\u001b[1;33m)\u001b[0m\u001b[1;33m\u001b[0m\u001b[0m\n\u001b[0;32m    249\u001b[0m         \u001b[0mself\u001b[0m\u001b[1;33m.\u001b[0m\u001b[0m_check_readable\u001b[0m\u001b[1;33m(\u001b[0m\u001b[1;33m)\u001b[0m\u001b[1;33m\u001b[0m\u001b[0m\n\u001b[1;32m--> 250\u001b[1;33m         \u001b[0mbuf\u001b[0m \u001b[1;33m=\u001b[0m \u001b[0mself\u001b[0m\u001b[1;33m.\u001b[0m\u001b[0m_recv_bytes\u001b[0m\u001b[1;33m(\u001b[0m\u001b[1;33m)\u001b[0m\u001b[1;33m\u001b[0m\u001b[0m\n\u001b[0m\u001b[0;32m    251\u001b[0m         \u001b[1;32mreturn\u001b[0m \u001b[0mForkingPickler\u001b[0m\u001b[1;33m.\u001b[0m\u001b[0mloads\u001b[0m\u001b[1;33m(\u001b[0m\u001b[0mbuf\u001b[0m\u001b[1;33m.\u001b[0m\u001b[0mgetbuffer\u001b[0m\u001b[1;33m(\u001b[0m\u001b[1;33m)\u001b[0m\u001b[1;33m)\u001b[0m\u001b[1;33m\u001b[0m\u001b[0m\n\u001b[0;32m    252\u001b[0m \u001b[1;33m\u001b[0m\u001b[0m\n",
      "\u001b[1;32m/home/dav/miniconda3/envs/TAQ/lib/python3.5/multiprocessing/connection.py\u001b[0m in \u001b[0;36m_recv_bytes\u001b[1;34m(self, maxsize)\u001b[0m\n\u001b[0;32m    405\u001b[0m \u001b[1;33m\u001b[0m\u001b[0m\n\u001b[0;32m    406\u001b[0m     \u001b[1;32mdef\u001b[0m \u001b[0m_recv_bytes\u001b[0m\u001b[1;33m(\u001b[0m\u001b[0mself\u001b[0m\u001b[1;33m,\u001b[0m \u001b[0mmaxsize\u001b[0m\u001b[1;33m=\u001b[0m\u001b[1;32mNone\u001b[0m\u001b[1;33m)\u001b[0m\u001b[1;33m:\u001b[0m\u001b[1;33m\u001b[0m\u001b[0m\n\u001b[1;32m--> 407\u001b[1;33m         \u001b[0mbuf\u001b[0m \u001b[1;33m=\u001b[0m \u001b[0mself\u001b[0m\u001b[1;33m.\u001b[0m\u001b[0m_recv\u001b[0m\u001b[1;33m(\u001b[0m\u001b[1;36m4\u001b[0m\u001b[1;33m)\u001b[0m\u001b[1;33m\u001b[0m\u001b[0m\n\u001b[0m\u001b[0;32m    408\u001b[0m         \u001b[0msize\u001b[0m\u001b[1;33m,\u001b[0m \u001b[1;33m=\u001b[0m \u001b[0mstruct\u001b[0m\u001b[1;33m.\u001b[0m\u001b[0munpack\u001b[0m\u001b[1;33m(\u001b[0m\u001b[1;34m\"!i\"\u001b[0m\u001b[1;33m,\u001b[0m \u001b[0mbuf\u001b[0m\u001b[1;33m.\u001b[0m\u001b[0mgetvalue\u001b[0m\u001b[1;33m(\u001b[0m\u001b[1;33m)\u001b[0m\u001b[1;33m)\u001b[0m\u001b[1;33m\u001b[0m\u001b[0m\n\u001b[0;32m    409\u001b[0m         \u001b[1;32mif\u001b[0m \u001b[0mmaxsize\u001b[0m \u001b[1;32mis\u001b[0m \u001b[1;32mnot\u001b[0m \u001b[1;32mNone\u001b[0m \u001b[1;32mand\u001b[0m \u001b[0msize\u001b[0m \u001b[1;33m>\u001b[0m \u001b[0mmaxsize\u001b[0m\u001b[1;33m:\u001b[0m\u001b[1;33m\u001b[0m\u001b[0m\n",
      "\u001b[1;32m/home/dav/miniconda3/envs/TAQ/lib/python3.5/multiprocessing/connection.py\u001b[0m in \u001b[0;36m_recv\u001b[1;34m(self, size, read)\u001b[0m\n\u001b[0;32m    377\u001b[0m         \u001b[0mremaining\u001b[0m \u001b[1;33m=\u001b[0m \u001b[0msize\u001b[0m\u001b[1;33m\u001b[0m\u001b[0m\n\u001b[0;32m    378\u001b[0m         \u001b[1;32mwhile\u001b[0m \u001b[0mremaining\u001b[0m \u001b[1;33m>\u001b[0m \u001b[1;36m0\u001b[0m\u001b[1;33m:\u001b[0m\u001b[1;33m\u001b[0m\u001b[0m\n\u001b[1;32m--> 379\u001b[1;33m             \u001b[0mchunk\u001b[0m \u001b[1;33m=\u001b[0m \u001b[0mread\u001b[0m\u001b[1;33m(\u001b[0m\u001b[0mhandle\u001b[0m\u001b[1;33m,\u001b[0m \u001b[0mremaining\u001b[0m\u001b[1;33m)\u001b[0m\u001b[1;33m\u001b[0m\u001b[0m\n\u001b[0m\u001b[0;32m    380\u001b[0m             \u001b[0mn\u001b[0m \u001b[1;33m=\u001b[0m \u001b[0mlen\u001b[0m\u001b[1;33m(\u001b[0m\u001b[0mchunk\u001b[0m\u001b[1;33m)\u001b[0m\u001b[1;33m\u001b[0m\u001b[0m\n\u001b[0;32m    381\u001b[0m             \u001b[1;32mif\u001b[0m \u001b[0mn\u001b[0m \u001b[1;33m==\u001b[0m \u001b[1;36m0\u001b[0m\u001b[1;33m:\u001b[0m\u001b[1;33m\u001b[0m\u001b[0m\n",
      "\u001b[1;31mKeyboardInterrupt\u001b[0m: "
     ]
    },
    {
     "name": "stderr",
     "output_type": "stream",
     "text": [
      "KeyboardInterrupt\n",
      "KeyboardInterrupt\n",
      "KeyboardInterrupt\n",
      "KeyboardInterrupt\n",
      "KeyboardInterrupt\n",
      "KeyboardInterrupt\n",
      "KeyboardInterrupt\n",
      "  File \"/home/dav/miniconda3/envs/TAQ/lib/python3.5/multiprocessing/synchronize.py\", line 96, in __enter__\n",
      "    return self._semlock.__enter__()\n",
      "KeyboardInterrupt\n",
      "KeyboardInterrupt\n",
      "  File \"/home/dav/miniconda3/envs/TAQ/lib/python3.5/multiprocessing/connection.py\", line 407, in _recv_bytes\n",
      "    buf = self._recv(4)\n",
      "  File \"/home/dav/miniconda3/envs/TAQ/lib/python3.5/multiprocessing/connection.py\", line 379, in _recv\n",
      "    chunk = read(handle, remaining)\n",
      "KeyboardInterrupt\n"
     ]
    }
   ],
   "source": [
    "# This ain't working either...\n",
    "res = ddfs.mean_computer.compute()"
   ]
  },
  {
   "cell_type": "code",
   "execution_count": null,
   "metadata": {
    "collapsed": true
   },
   "outputs": [],
   "source": []
  },
  {
   "cell_type": "code",
   "execution_count": null,
   "metadata": {
    "collapsed": true
   },
   "outputs": [],
   "source": [
    "1 + 2"
   ]
  },
  {
   "cell_type": "markdown",
   "metadata": {},
   "source": [
    "# Blaze?\n",
    "\n",
    "Holy crap!"
   ]
  },
  {
   "cell_type": "code",
   "execution_count": 19,
   "metadata": {
    "collapsed": false
   },
   "outputs": [],
   "source": [
    "spy_blaze = blaze.data(spy_h5py)"
   ]
  },
  {
   "cell_type": "code",
   "execution_count": 20,
   "metadata": {
    "collapsed": false
   },
   "outputs": [
    {
     "name": "stdout",
     "output_type": "stream",
     "text": [
      "CPU times: user 8 µs, sys: 1 µs, total: 9 µs\n",
      "Wall time: 21 µs\n"
     ]
    },
    {
     "data": {
      "text/html": [
       "176.84371349272752"
      ],
      "text/plain": [
       "176.84371349272752"
      ]
     },
     "execution_count": 20,
     "metadata": {},
     "output_type": "execute_result"
    }
   ],
   "source": [
    "%time \n",
    "spy_blaze['Ask_Price'].mean()"
   ]
  },
  {
   "cell_type": "code",
   "execution_count": 16,
   "metadata": {
    "collapsed": true
   },
   "outputs": [],
   "source": [
    "taq_tb = tb.open_file(fname)\n",
    "spy_tb = taq_tb.get_node(max_sym)"
   ]
  },
  {
   "cell_type": "code",
   "execution_count": 17,
   "metadata": {
    "collapsed": true
   },
   "outputs": [],
   "source": [
    "spy_blaze = blaze.data(spy_tb)"
   ]
  },
  {
   "cell_type": "code",
   "execution_count": 18,
   "metadata": {
    "collapsed": false
   },
   "outputs": [
    {
     "name": "stdout",
     "output_type": "stream",
     "text": [
      "CPU times: user 0 ns, sys: 978 µs, total: 978 µs\n",
      "Wall time: 647 µs\n"
     ]
    },
    {
     "data": {
      "text/html": [
       "176.82760773125673"
      ],
      "text/plain": [
       "176.82760773125673"
      ]
     },
     "execution_count": 18,
     "metadata": {},
     "output_type": "execute_result"
    }
   ],
   "source": [
    "%time spy_blaze['Bid_Price'].mean()"
   ]
  },
  {
   "cell_type": "code",
   "execution_count": 21,
   "metadata": {
    "collapsed": true
   },
   "outputs": [],
   "source": [
    "taq_tb.close()"
   ]
  },
  {
   "cell_type": "markdown",
   "metadata": {},
   "source": [
    "## Read directly with Blaze\n",
    "\n",
    "Somehow this is not as impressive"
   ]
  },
  {
   "cell_type": "code",
   "execution_count": 15,
   "metadata": {
    "collapsed": false
   },
   "outputs": [
    {
     "name": "stdout",
     "output_type": "stream",
     "text": [
      "CPU times: user 12.7 s, sys: 1.05 s, total: 13.7 s\n",
      "Wall time: 59.9 s\n"
     ]
    }
   ],
   "source": [
    "%%time\n",
    "blaze_h5_file = blaze.data(fname)\n",
    "\n",
    "# This is rather nice\n",
    "blaze_h5_file.SPY.no_suffix.Bid_Price.mean()"
   ]
  },
  {
   "cell_type": "code",
   "execution_count": 39,
   "metadata": {
    "collapsed": false
   },
   "outputs": [
    {
     "data": {
      "text/html": [
       "18.475936662749703"
      ],
      "text/plain": [
       "18.475936662749703"
      ]
     },
     "execution_count": 39,
     "metadata": {},
     "output_type": "execute_result"
    }
   ],
   "source": [
    "blaze_h5_file.ZFKOJB.no_suffix.Bid_Price.mean()"
   ]
  },
  {
   "cell_type": "markdown",
   "metadata": {},
   "source": [
    "# Do some actual compute with Blaze"
   ]
  },
  {
   "cell_type": "code",
   "execution_count": 38,
   "metadata": {
    "collapsed": false
   },
   "outputs": [],
   "source": [
    "taq_h5py = h5py.File(fname)"
   ]
  },
  {
   "cell_type": "code",
   "execution_count": 50,
   "metadata": {
    "collapsed": false
   },
   "outputs": [],
   "source": [
    "class SymStats:\n",
    "    means = {}\n",
    "\n",
    "    def compute_stats(self, key, table):\n",
    "        if isinstance(table, h5py.Dataset):\n",
    "            self.means[key] = blaze.data(table)['Bid_Price'].mean()    "
   ]
  },
  {
   "cell_type": "code",
   "execution_count": 51,
   "metadata": {
    "collapsed": true
   },
   "outputs": [],
   "source": [
    "ss = SymStats()"
   ]
  },
  {
   "cell_type": "code",
   "execution_count": 52,
   "metadata": {
    "collapsed": false
   },
   "outputs": [
    {
     "name": "stdout",
     "output_type": "stream",
     "text": [
      "CPU times: user 11.2 s, sys: 1.74 s, total: 12.9 s\n",
      "Wall time: 51.8 s\n"
     ]
    }
   ],
   "source": [
    "%time taq_h5py.visititems(ss.compute_stats)"
   ]
  },
  {
   "cell_type": "code",
   "execution_count": 56,
   "metadata": {
    "collapsed": false
   },
   "outputs": [],
   "source": [
    "means = iter(ss.means.items())"
   ]
  },
  {
   "cell_type": "code",
   "execution_count": 65,
   "metadata": {
    "collapsed": false
   },
   "outputs": [
    {
     "data": {
      "text/plain": [
       "('SYT/no_suffix', 67.53453714044622)"
      ]
     },
     "execution_count": 65,
     "metadata": {},
     "output_type": "execute_result"
    }
   ],
   "source": [
    "next(means)"
   ]
  },
  {
   "cell_type": "code",
   "execution_count": 67,
   "metadata": {
    "collapsed": false
   },
   "outputs": [
    {
     "data": {
      "text/html": [
       "176.82760773125673"
      ],
      "text/plain": [
       "176.82760773125673"
      ]
     },
     "execution_count": 67,
     "metadata": {},
     "output_type": "execute_result"
    }
   ],
   "source": [
    "ss.means['SPY/no_suffix']"
   ]
  },
  {
   "cell_type": "markdown",
   "metadata": {},
   "source": [
    "# Pandas? \n",
    "\n",
    "### To load with Pandas, you need to close the pytables session"
   ]
  },
  {
   "cell_type": "code",
   "execution_count": 40,
   "metadata": {
    "collapsed": true
   },
   "outputs": [],
   "source": [
    "taq_tb.close()"
   ]
  },
  {
   "cell_type": "code",
   "execution_count": 7,
   "metadata": {
    "collapsed": false
   },
   "outputs": [
    {
     "name": "stdout",
     "output_type": "stream",
     "text": [
      "10 loops, best of 3: 32.6 ms per loop\n"
     ]
    }
   ],
   "source": [
    "# Pandas has optimizations it likes to do with \n",
    "%timeit spy_df = pd.read_hdf(fname, max_sym)"
   ]
  },
  {
   "cell_type": "code",
   "execution_count": 9,
   "metadata": {
    "collapsed": true
   },
   "outputs": [],
   "source": [
    "# Actually do it\n",
    "spy_df = pd.read_hdf(fname, max_sym)"
   ]
  },
  {
   "cell_type": "code",
   "execution_count": 10,
   "metadata": {
    "collapsed": false
   },
   "outputs": [
    {
     "name": "stdout",
     "output_type": "stream",
     "text": [
      "The slowest run took 6.25 times longer than the fastest. This could mean that an intermediate result is being cached \n",
      "10000 loops, best of 3: 57.8 µs per loop\n"
     ]
    }
   ],
   "source": [
    "# This is fast, but loading is slow...\n",
    "%timeit spy_df.Bid_Price.mean()"
   ]
  }
 ],
 "metadata": {
  "kernelspec": {
   "display_name": "Python 3",
   "language": "python",
   "name": "python3"
  },
  "language_info": {
   "codemirror_mode": {
    "name": "ipython",
    "version": 3
   },
   "file_extension": ".py",
   "mimetype": "text/x-python",
   "name": "python",
   "nbconvert_exporter": "python",
   "pygments_lexer": "ipython3",
   "version": "3.5.1"
  }
 },
 "nbformat": 4,
 "nbformat_minor": 0
}
